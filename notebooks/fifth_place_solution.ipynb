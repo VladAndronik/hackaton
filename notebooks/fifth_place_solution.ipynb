{
  "nbformat": 4,
  "nbformat_minor": 0,
  "metadata": {
    "colab": {
      "name": "fifth_place_solution.ipynb",
      "provenance": [],
      "collapsed_sections": []
    },
    "kernelspec": {
      "name": "python3",
      "display_name": "Python 3"
    },
    "accelerator": "GPU"
  },
  "cells": [
    {
      "cell_type": "code",
      "metadata": {
        "id": "NcOO0ljZE8PG",
        "colab_type": "code",
        "colab": {}
      },
      "source": [
        "%matplotlib inline\n",
        "\n",
        "import pandas as pd\n",
        "import numpy as np\n",
        "\n",
        "import matplotlib.pyplot as plt\n",
        "import seaborn as sns\n",
        "from warnings import filterwarnings\n",
        "filterwarnings('ignore')\n",
        "from tqdm import tqdm_notebook\n",
        "\n",
        "FIGSIZE=(20,10)\n",
        "SEED=17"
      ],
      "execution_count": 0,
      "outputs": []
    },
    {
      "cell_type": "code",
      "metadata": {
        "id": "S1QcAPQKE8PS",
        "colab_type": "code",
        "colab": {}
      },
      "source": [
        "from xgboost import XGBClassifier, plot_importance\n",
        "from sklearn.model_selection import cross_val_score, train_test_split, KFold, StratifiedKFold\n",
        "\n",
        "from sklearn.decomposition import PCA\n",
        "from sklearn.cluster import KMeans\n",
        "\n",
        "from sklearn.linear_model import Ridge, Lasso\n",
        "from sklearn.preprocessing import StandardScaler\n",
        "from sklearn.pipeline import Pipeline\n",
        "from sklearn.metrics import mean_squared_error, r2_score, make_scorer\n",
        "\n",
        "\n",
        "from sklearn.preprocessing import OneHotEncoder, LabelEncoder\n",
        "\n",
        "# pool of regressors\n",
        "from xgboost import XGBRegressor\n",
        "from lightgbm import LGBMRegressor\n",
        "\n",
        "# nn\n",
        "from keras.layers import Input, Dense, Dropout\n",
        "from keras.models import Model\n",
        "from keras.optimizers import Adam\n",
        "from keras import callbacks\n",
        "\n",
        "\n",
        "from sklearn.base import clone"
      ],
      "execution_count": 0,
      "outputs": []
    },
    {
      "cell_type": "markdown",
      "metadata": {
        "id": "1PaITb1vqGLU",
        "colab_type": "text"
      },
      "source": [
        "Solution is based on stacking of:\n",
        "- 5 neural networks trained on different parts of data\n",
        "- 3 boosting trees. \n",
        "\n",
        "Ridge regression is used as metaestimator"
      ]
    },
    {
      "cell_type": "markdown",
      "metadata": {
        "id": "MCDrb1SejFJL",
        "colab_type": "text"
      },
      "source": [
        "### Split the data"
      ]
    },
    {
      "cell_type": "code",
      "metadata": {
        "id": "dlWkeodSE8Ph",
        "colab_type": "code",
        "colab": {}
      },
      "source": [
        "target = 'Energy_consumption'"
      ],
      "execution_count": 0,
      "outputs": []
    },
    {
      "cell_type": "code",
      "metadata": {
        "id": "nqVeIUzFE8Pp",
        "colab_type": "code",
        "colab": {}
      },
      "source": [
        "train_initial = pd.read_csv('../data/train.csv')\n",
        "test_initial = pd.read_csv('../data/test.csv')\n",
        "\n",
        "X_test = test_initial.drop('Id', axis=1)\n",
        "\n",
        "X = train_initial.drop(['Id', target], axis=1)\n",
        "y = train_initial[target].values.reshape(-1,1)\n",
        "\n",
        "X_train, X_valid, y_train, y_valid = train_test_split(X, y, test_size=.25,\n",
        "                                                   random_state=SEED,\n",
        "                                                   shuffle=True)"
      ],
      "execution_count": 0,
      "outputs": []
    },
    {
      "cell_type": "code",
      "metadata": {
        "id": "0kA7rK7FE8Ps",
        "colab_type": "code",
        "colab": {}
      },
      "source": [
        "catcols = X_train.select_dtypes(include='object').columns\n",
        "onehot = OneHotEncoder()\n",
        "\n",
        "train_trans = pd.DataFrame(onehot.fit_transform(X_train[catcols]).toarray())\n",
        "test_trans = pd.DataFrame(onehot.transform(X_valid[catcols]).toarray())\n",
        "\n",
        "X_train = pd.concat([X_train.drop(catcols, axis=1).reset_index(drop=True), \n",
        "                     train_trans], axis=1)\n",
        "\n",
        "X_valid = pd.concat([X_valid.drop(catcols, axis=1).reset_index(drop=True), \n",
        "                    test_trans], axis=1)\n",
        "\n",
        "\n",
        "catcols = X.select_dtypes(include='object').columns\n",
        "onehot = OneHotEncoder() \n",
        "\n",
        "train_trans = pd.DataFrame(onehot.fit_transform(X[catcols]).toarray())\n",
        "X_train_full = pd.concat([X.drop(catcols, axis=1).reset_index(drop=True),\n",
        "                    train_trans], axis=1)\n",
        "\n",
        "test_trans = pd.DataFrame(onehot.transform(X_test[catcols]).toarray())\n",
        "X_test = pd.concat([X_test.drop(catcols, axis=1).reset_index(drop=True), \n",
        "                    test_trans], axis=1)"
      ],
      "execution_count": 0,
      "outputs": []
    },
    {
      "cell_type": "code",
      "metadata": {
        "id": "4RTiqxyujpMC",
        "colab_type": "code",
        "colab": {}
      },
      "source": [
        "# transform the data\n",
        "scaler = StandardScaler()\n",
        "X_array = scaler.fit_transform(X_train_full.values)\n",
        "X_test_array = scaler.transform(X_test.values)"
      ],
      "execution_count": 0,
      "outputs": []
    },
    {
      "cell_type": "markdown",
      "metadata": {
        "id": "fRYsQs0xjAK-",
        "colab_type": "text"
      },
      "source": [
        "### Utils"
      ]
    },
    {
      "cell_type": "code",
      "metadata": {
        "id": "Qy_mapGhE8P4",
        "colab_type": "code",
        "colab": {}
      },
      "source": [
        "def prediction_cluster_folds(train_X, train_y, test_X,model,\n",
        "                            n_clusters=4,n_splits=5, type_model=1,\n",
        "                             seed=SEED):\n",
        "    \"\"\"\n",
        "        train_X -- ndarray\n",
        "        train_y -- ndarray with (n, 1) shape\n",
        "    \"\"\"\n",
        "    kmeans = KMeans(n_clusters=n_clusters, random_state=SEED)\n",
        "    predicted_target = kmeans.fit(train_y).predict(train_y)\n",
        "    \n",
        "    predictions_holdout = np.zeros((test_X.shape[0], 1))\n",
        "    predictions_val = np.zeros((train_X.shape[0], 1))\n",
        "\n",
        "    scores = []\n",
        "    skf = StratifiedKFold(n_splits=n_splits, shuffle=True, random_state=seed)\n",
        "\n",
        "    for (tr_ind, val_ind) in skf.split(train_X, predicted_target):\n",
        "        X_train_fold = train_X[tr_ind]\n",
        "        y_train_fold = np.squeeze(train_y[tr_ind])\n",
        "\n",
        "        X_valid_fold = train_X[val_ind]\n",
        "        y_valid_fold = np.squeeze(train_y[val_ind])\n",
        "\n",
        "        if type_model == 1:\n",
        "          model_fold = clone(model)\n",
        "          y_pred = model_fold.fit(X_train_fold, y_train_fold).predict(X_valid_fold).reshape(-1,1)\n",
        "          y_pred_holdout = model_fold.predict(test_X).reshape(-1,1)\n",
        "        else:\n",
        "          y_pred = model.fit(X_train_fold, y_train_fold, X_valid_fold, y_valid_fold).predict(X_valid_fold).reshape(-1,1)\n",
        "          y_pred_holdout = model.predict(test_X).reshape(-1,1)\n",
        "\n",
        "        \n",
        "        predictions_val[val_ind] = y_pred\n",
        "        scores.append(mean_squared_error(y_valid_fold, y_pred))\n",
        "\n",
        "        predictions_holdout += y_pred_holdout\n",
        "        \n",
        "    \n",
        "    predictions_holdout /= skf.n_splits\n",
        "    return predictions_holdout, scores, predictions_val"
      ],
      "execution_count": 0,
      "outputs": []
    },
    {
      "cell_type": "code",
      "metadata": {
        "id": "iRVOo7fdE8P7",
        "colab_type": "code",
        "colab": {}
      },
      "source": [
        "def prediction_cluster_folds_ensemble(train_X, train_y, test_X, models, \n",
        "                                      n_clusters=4,n_splits=5,\n",
        "                                     seed=SEED):\n",
        "    \"\"\"\n",
        "        train_X -- ndarray\n",
        "        train_y -- ndarray with (n, 1) shape\n",
        "    \"\"\"\n",
        "    kmeans = KMeans(n_clusters=n_clusters, random_state=SEED)\n",
        "    predicted_target = kmeans.fit(train_y).predict(train_y)\n",
        "    \n",
        "    predictions_holdout = np.zeros((test_X.shape[0], 1))\n",
        "    predictions_val = np.zeros((train_X.shape[0], 1))\n",
        "\n",
        "    scores = []\n",
        "    skf = StratifiedKFold(n_splits=n_splits, shuffle=True, random_state=seed)\n",
        "\n",
        "    for (tr_ind, val_ind) in tqdm_notebook(skf.split(train_X, predicted_target), \n",
        "                                           total=skf.n_splits):\n",
        "        X_train_fold = train_X[tr_ind]\n",
        "        y_train_fold = np.squeeze(train_y[tr_ind])\n",
        "\n",
        "        X_valid_fold = train_X[val_ind]\n",
        "        y_valid_fold = np.squeeze(train_y[val_ind])\n",
        "        \n",
        "        # ensembling weighting average\n",
        "        pred_test_inline = np.zeros((test_X.shape[0], 1))\n",
        "        pred_val_inline = np.zeros((X_valid_fold.shape[0], 1))\n",
        "        weight_sum = 0\n",
        "        for (type_model, alpha, model) in models:\n",
        "            if type_model == 1:\n",
        "                model_fold = clone(model)\n",
        "                y_pred = model_fold.fit(X_train_fold, y_train_fold).predict(X_valid_fold).reshape(-1,1)\n",
        "                pred_val_inline += alpha * y_pred\n",
        "\n",
        "                y_pred = model_fold.predict(test_X).reshape(-1,1)\n",
        "                pred_test_inline += alpha * y_pred\n",
        "                weight_sum += alpha\n",
        "            else:\n",
        "                y_pred = model.fit(X_train_fold, y_train_fold, \n",
        "                                   X_valid_fold, y_valid_fold).predict(X_valid_fold)\n",
        "                pred_val_inline += alpha * y_pred\n",
        "                \n",
        "                y_pred = model.predict(test_X)\n",
        "                pred_test_inline += alpha * y_pred\n",
        "                weight_sum += alpha\n",
        "        \n",
        "        pred_test_inline /= weight_sum\n",
        "        pred_val_inline /= weight_sum\n",
        "        ####\n",
        "        predictions_val[val_ind] = pred_val_inline\n",
        "        \n",
        "        scores.append(mean_squared_error(y_valid_fold, pred_val_inline))\n",
        "        predictions_holdout += pred_test_inline\n",
        "        \n",
        "    \n",
        "    predictions_holdout /= skf.n_splits\n",
        "    return predictions_holdout, scores, predictions_val"
      ],
      "execution_count": 0,
      "outputs": []
    },
    {
      "cell_type": "code",
      "metadata": {
        "id": "P3clqXARjNCh",
        "colab_type": "code",
        "colab": {}
      },
      "source": [
        "class NN():\n",
        "    \n",
        "    def __init__(self, input_shape, epochs, batch_size, dropout=.2):\n",
        "        self.input_shape = input_shape\n",
        "        self.epochs = epochs\n",
        "        self.batch_size=batch_size\n",
        "        self.dropout = dropout\n",
        "        \n",
        "        \n",
        "    def _init_model(self):\n",
        "        inps = Input(shape=self.input_shape)\n",
        "        x = Dense(256, activation='relu')(inps)\n",
        "        x = Dropout(self.dropout)(x)\n",
        "        x = Dense(128, activation='relu')(x)\n",
        "        x = Dropout(.5 * self.dropout)(x)\n",
        "        x = Dense(1)(x)\n",
        "        model = Model(inputs=inps, outputs=x)\n",
        "        model.compile(\n",
        "            optimizer=Adam(lr=1e-3),\n",
        "            loss=['mse']\n",
        "        )\n",
        "        return model\n",
        "    \n",
        "    def fit(self, train_X, train_y, val_X, val_y):\n",
        "        self.model = self._init_model()\n",
        "\n",
        "        es = callbacks.EarlyStopping(monitor='val_loss', min_delta=0.0001, patience=50, verbose=0, \n",
        "                                     mode='auto', restore_best_weights=True)\n",
        "        rlr = callbacks.ReduceLROnPlateau(monitor='val_loss', factor=0.5, patience=10, min_lr=1e-6, \n",
        "                                          mode='auto', verbose=0)\n",
        "        self.model.fit(\n",
        "            train_X, train_y, epochs=self.epochs, batch_size=self.batch_size, \n",
        "            validation_data=(val_X, val_y), verbose=False, \n",
        "            callbacks=[es, rlr]\n",
        "        )\n",
        "        return self\n",
        "    \n",
        "    def predict(self, test_X):\n",
        "        pred = self.model.predict(test_X).flatten().reshape(-1,1)\n",
        "        return pred"
      ],
      "execution_count": 0,
      "outputs": []
    },
    {
      "cell_type": "code",
      "metadata": {
        "id": "2DDSlTWUjZtK",
        "colab_type": "code",
        "colab": {}
      },
      "source": [
        "def meta_transformer(train_X, train_y, test_X, \n",
        "                       models, n_clusters=4,n_splits=5, seed=SEED):\n",
        "    \"\"\"\n",
        "        train_X -- ndarray\n",
        "        train_y -- ndarray with (n, 1) shape\n",
        "    \"\"\"\n",
        "    kmeans = KMeans(n_clusters=n_clusters, random_state=SEED)\n",
        "    predicted_target = kmeans.fit(train_y).predict(train_y)\n",
        "    \n",
        "    \n",
        "    num_models = len(models)\n",
        "    meta_matrix_train = np.zeros((train_X.shape[0], num_models))\n",
        "    meta_matrix_test = np.zeros((test_X.shape[0], num_models))\n",
        "\n",
        "    scores = []\n",
        "    skf = StratifiedKFold(n_splits=n_splits, shuffle=True, random_state=seed)\n",
        "\n",
        "    for (tr_ind, val_ind) in tqdm_notebook(skf.split(train_X, predicted_target), \n",
        "                                           total=skf.n_splits):\n",
        "        X_train_fold = train_X[tr_ind]\n",
        "        y_train_fold = np.squeeze(train_y[tr_ind])\n",
        "\n",
        "        X_valid_fold = train_X[val_ind]\n",
        "        y_valid_fold = np.squeeze(train_y[val_ind])\n",
        "        \n",
        "        for i,(type_model, model) in enumerate(models):\n",
        "            if type_model == 1:\n",
        "                model_fold = clone(model)\n",
        "                y_pred_valid = model_fold.fit(X_train_fold, \n",
        "                                              y_train_fold).predict(X_valid_fold)\n",
        "                meta_matrix_train[val_ind, i] = y_pred_valid\n",
        "                \n",
        "                \n",
        "                y_pred_test = model_fold.predict(test_X)\n",
        "                meta_matrix_test[:, i] = y_pred_test\n",
        "            elif type_model == 0:\n",
        "                y_pred_valid = model.fit(X_train_fold, y_train_fold, \n",
        "                                   X_valid_fold, y_valid_fold).predict(X_valid_fold)\n",
        "                meta_matrix_train[val_ind, i] = np.squeeze(y_pred_valid)\n",
        "\n",
        "                y_pred_test = model.predict(test_X)\n",
        "                meta_matrix_test[:, i] = np.squeeze(y_pred_test)\n",
        "                \n",
        "    return meta_matrix_train, meta_matrix_test\n",
        "\n",
        "def meta_transform_mean(train_X, train_y, test_X, models,\n",
        "                        num_iterations=10,\n",
        "                        n_clusters=4,n_splits=7, seed=SEED):\n",
        "    \n",
        "    train_meta = np.zeros((train_X.shape[0], len(models)))\n",
        "    test_meta = np.zeros((test_X.shape[0], len(models)))\n",
        "    \n",
        "    for t in range(num_iterations):\n",
        "        train_meta_curr, test_meta_curr = meta_transformer(X_array, y, X_test_array, \n",
        "                                                         models, n_clusters=n_clusters, n_splits=n_splits,\n",
        "                                                          seed=seed+t)\n",
        "        train_meta += train_meta_curr\n",
        "        test_meta += test_meta_curr\n",
        "        \n",
        "    train_meta /= num_iterations\n",
        "    test_meta /= num_iterations\n",
        "    \n",
        "    return train_meta, test_meta"
      ],
      "execution_count": 0,
      "outputs": []
    },
    {
      "cell_type": "markdown",
      "metadata": {
        "id": "I29Jy_Bdjud5",
        "colab_type": "text"
      },
      "source": [
        "### LGBM regressors + NN"
      ]
    },
    {
      "cell_type": "code",
      "metadata": {
        "id": "f6UZIZIAjdg8",
        "colab_type": "code",
        "colab": {}
      },
      "source": [
        "alpha=0.5\n",
        "\n",
        "zoo_models = [ (1, XGBRegressor(n_estimators=100, colsample_bytree=.3,\n",
        "                             random_state=SEED,\n",
        "                             n_jobs=-1)),\n",
        "              \n",
        "              (1, LGBMRegressor(n_estimators=100,\n",
        "                                      colsample_bytree=.3,\n",
        "                                       n_jobs=-1,\n",
        "                                       random_state=SEED+1)),\n",
        "              \n",
        "              (1, LGBMRegressor(n_estimators=100,\n",
        "                                      colsample_bytree=.4,\n",
        "                                       n_jobs=-1,\n",
        "                                       random_state=SEED+2)),\n",
        "              \n",
        "              (1, LGBMRegressor(n_estimators=100,\n",
        "                                      colsample_bytree=.5,\n",
        "                                       n_jobs=-1,\n",
        "                                       random_state=SEED+3)),\n",
        "              \n",
        "              (0, NN(input_shape=(X_array.shape[1],), epochs=500, \n",
        "                     batch_size=256, dropout=.2)),\n",
        "              \n",
        "]"
      ],
      "execution_count": 0,
      "outputs": []
    },
    {
      "cell_type": "code",
      "metadata": {
        "id": "kST13pxlqAD-",
        "colab_type": "code",
        "colab": {}
      },
      "source": [
        "%%time\n",
        "# get the matrices of metafeatures\n",
        "train_meta_lgb, test_meta_lgb = meta_transform_mean(X_array, y,\n",
        "                                                    X_test_array, zoo_models,\n",
        "                                                    num_iterations=5)"
      ],
      "execution_count": 0,
      "outputs": []
    },
    {
      "cell_type": "markdown",
      "metadata": {
        "id": "AjkoABBqj95z",
        "colab_type": "text"
      },
      "source": [
        "### NNs on different subspaces"
      ]
    },
    {
      "cell_type": "code",
      "metadata": {
        "id": "8iXM7ITNkAI6",
        "colab_type": "code",
        "colab": {}
      },
      "source": [
        "class ModelSub(object):\n",
        "  def __init__(self, estimator, colsample=1., num_iterations=5, seed=17, type_model=1):\n",
        "    self.colsample = colsample\n",
        "    self.num_iterations = num_iterations\n",
        "    self.seed=seed\n",
        "    self.model = estimator\n",
        "    self.type_model=type_model\n",
        "    \n",
        "  \n",
        "  def fit_predict(self, train_X, train_y, test_X):\n",
        "    pred_train = np.zeros((train_X.shape[0],1))\n",
        "    pred_test = np.zeros((test_X.shape[0], 1))\n",
        "\n",
        "    num_features = int(self.colsample * train_X.shape[1])\n",
        "    indices = np.arange(0, train_X.shape[1])\n",
        "    for i in range(self.num_iterations):\n",
        "      # select subset\n",
        "      np.random.seed(self.seed + i)\n",
        "      indices_train = np.random.choice(indices, num_features)\n",
        "\n",
        "      train_fold, test_fold = np.copy(train_X[:, indices_train]), np.copy(test_X[:, indices_train])\n",
        "      # prediction on folds\n",
        "      y_pred_test, _, y_pred_train = prediction_cluster_folds(train_X, train_y, \n",
        "                                                              test_X, self.model, \n",
        "                                                              n_splits=7,\n",
        "                                                              type_model=self.type_model,\n",
        "                                                              seed=10 * self.seed + i)\n",
        "\n",
        "      assert(y_pred_train.shape == train_y.shape)\n",
        "      pred_train += y_pred_train\n",
        "      pred_test += y_pred_test\n",
        "\n",
        "    pred_train /= self.num_iterations\n",
        "    pred_test /= self.num_iterations\n",
        "\n",
        "    return pred_train,pred_test\n",
        "      "
      ],
      "execution_count": 0,
      "outputs": []
    },
    {
      "cell_type": "code",
      "metadata": {
        "id": "FTCnB8O2HXKl",
        "colab_type": "code",
        "colab": {}
      },
      "source": [
        "def subsets_transformer(train_X, train_y, test_X, models, seed=SEED):\n",
        "    \n",
        "    pred_train_mat = np.zeros((train_X.shape[0], len(models)))\n",
        "    pred_test_mat = np.zeros((test_X.shape[0], len(models)))\n",
        "\n",
        "    for (i, model) in tqdm_notebook(enumerate(models), total=len(models)):\n",
        "      y_pred_train, y_pred_test = model.fit_predict(train_X, train_y, test_X)\n",
        "      \n",
        "      pred_train_mat[:, i] = np.squeeze(y_pred_train)\n",
        "      pred_test_mat[:, i] = np.squeeze(y_pred_test)\n",
        "    \n",
        "    return pred_train_mat, pred_test_mat"
      ],
      "execution_count": 0,
      "outputs": []
    },
    {
      "cell_type": "code",
      "metadata": {
        "id": "IKO8YOthkjC0",
        "colab_type": "code",
        "colab": {}
      },
      "source": [
        "nn = NN(input_shape=(X_array.shape[1],), epochs=500, batch_size=256)\n",
        "\n",
        "zoo_modelsubs = [\n",
        "        ModelSub(nn, colsample=.1, num_iterations=3, type_model=0, seed=SEED),\n",
        "        ModelSub(nn, colsample=.15, num_iterations=3, type_model=0, seed=SEED+1),\n",
        "        ModelSub(nn, colsample=.2, num_iterations=3, type_model=0,seed=SEED+2),\n",
        "        ModelSub(nn, colsample=.25, num_iterations=3, type_model=0,seed=SEED+3),\n",
        "        ModelSub(nn, colsample=.3, num_iterations=3, type_model=0,seed=SEED+4),\n",
        "        ModelSub(nn, colsample=.4, num_iterations=3, type_model=0,seed=SEED+5)\n",
        "]"
      ],
      "execution_count": 0,
      "outputs": []
    },
    {
      "cell_type": "code",
      "metadata": {
        "id": "01sNFWbPoiDa",
        "colab_type": "code",
        "colab": {}
      },
      "source": [
        "%%time\n",
        "train_meta_nns, test_meta_nns = subsets_transformer(X_array, y,\n",
        "                                                    X_test_array, zoo_modelsubs, seed=17)"
      ],
      "execution_count": 0,
      "outputs": []
    },
    {
      "cell_type": "markdown",
      "metadata": {
        "id": "I_RL4dohlRqc",
        "colab_type": "text"
      },
      "source": [
        "### Stacking"
      ]
    },
    {
      "cell_type": "code",
      "metadata": {
        "id": "bXT1mxkbkowf",
        "colab_type": "code",
        "colab": {}
      },
      "source": [
        "train_meta_full = pd.concat([train_meta_lgb, train_meta_nns], axis=1).values\n",
        "test_meta_full = pd.concat([test_meta_lgb, test_meta_nns], axis=1).values"
      ],
      "execution_count": 0,
      "outputs": []
    },
    {
      "cell_type": "code",
      "metadata": {
        "id": "rweAApfolZ64",
        "colab_type": "code",
        "colab": {}
      },
      "source": [
        "ridge = Ridge(alpha=10, random_state=SEED)\n",
        "y_pred, scores, _ = prediction_cluster_folds(train_meta_full, y, \n",
        "                                       test_meta_full,\n",
        "                                       ridge,\n",
        "                                       n_clusters=4, \n",
        "                                       n_splits=7)\n",
        "np.mean(scores)"
      ],
      "execution_count": 0,
      "outputs": []
    },
    {
      "cell_type": "code",
      "metadata": {
        "id": "MWKl08b9lb-F",
        "colab_type": "code",
        "colab": {}
      },
      "source": [
        "submission = pd.DataFrame(test_initial['Id'], columns=['Id'])\n",
        "submission[target] = y_pred\n",
        "submission.to_csv('../data/submissions/xgb_lgb_nn_full_nn_rnd_subs_stacking.csv', \n",
        "                  index=False)"
      ],
      "execution_count": 0,
      "outputs": []
    }
  ]
}