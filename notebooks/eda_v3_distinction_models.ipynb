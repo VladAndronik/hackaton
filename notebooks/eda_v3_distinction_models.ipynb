{
 "cells": [
  {
   "cell_type": "code",
   "execution_count": 1,
   "metadata": {
    "collapsed": true
   },
   "outputs": [],
   "source": [
    "%matplotlib inline\n",
    "\n",
    "import pandas as pd\n",
    "import numpy as np\n",
    "\n",
    "import matplotlib.pyplot as plt\n",
    "import seaborn as sns\n",
    "from warnings import filterwarnings\n",
    "filterwarnings('ignore')\n",
    "\n",
    "FIGSIZE=(20,10)\n",
    "SEED=17"
   ]
  },
  {
   "cell_type": "code",
   "execution_count": 2,
   "metadata": {
    "collapsed": true
   },
   "outputs": [],
   "source": [
    "train = pd.read_csv('../data/data_improved/train_drop_variable_renamed.csv')\n",
    "test = pd.read_csv('../data/data_improved/test_drop_variable_renamed.csv')"
   ]
  },
  {
   "cell_type": "markdown",
   "metadata": {},
   "source": [
    "### Distinction on categorical and numerical"
   ]
  },
  {
   "cell_type": "code",
   "execution_count": 3,
   "metadata": {
    "collapsed": true
   },
   "outputs": [],
   "source": [
    "cols_use = [x for x in train.columns if x not in ['Id', 'Energy_consumption']]\n",
    "cols_freq = list(zip(cols_use, map(lambda x: train[x].nunique(), cols_use)))\n",
    "cols_freq = [(x[0], x[1], x[1]/train.shape[0]) for x in cols_freq]\n",
    "cols_freq = sorted(cols_freq, key=lambda x: x[1], reverse=True)"
   ]
  },
  {
   "cell_type": "code",
   "execution_count": 4,
   "metadata": {},
   "outputs": [
    {
     "data": {
      "text/plain": [
       "[('feature_253_num', 3740, 0.935),\n",
       " ('feature_262_num', 3266, 0.8165),\n",
       " ('feature_259_num', 2985, 0.74625),\n",
       " ('feature_260_num', 2952, 0.738),\n",
       " ('feature_264_num', 2715, 0.67875),\n",
       " ('feature_255_num', 2379, 0.59475),\n",
       " ('feature_268_num', 2305, 0.57625),\n",
       " ('feature_254_num', 2242, 0.5605),\n",
       " ('feature_261_num', 2167, 0.54175),\n",
       " ('feature_269_num', 2005, 0.50125),\n",
       " ('feature_270_num', 1912, 0.478),\n",
       " ('feature_250_num', 1865, 0.46625),\n",
       " ('feature_248_num', 1853, 0.46325),\n",
       " ('feature_249_num', 1815, 0.45375),\n",
       " ('feature_265_num', 1456, 0.364),\n",
       " ('feature_271_num', 1277, 0.31925),\n",
       " ('feature_251_num', 1219, 0.30475),\n",
       " ('feature_256_num', 718, 0.1795),\n",
       " ('feature_252_num', 679, 0.16975),\n",
       " ('feature_272_num', 600, 0.15),\n",
       " ('feature_274_num', 402, 0.1005),\n",
       " ('feature_267_num', 215, 0.05375),\n",
       " ('feature_266_num', 136, 0.034),\n",
       " ('feature_200_num', 68, 0.017),\n",
       " ('feature_68_num', 47, 0.01175),\n",
       " ('feature_280_num', 44, 0.011),\n",
       " ('feature_168_num', 43, 0.01075),\n",
       " ('feature_59_num', 41, 0.01025),\n",
       " ('feature_148_num', 38, 0.0095),\n",
       " ('feature_263_num', 38, 0.0095),\n",
       " ('feature_128_num', 37, 0.00925),\n",
       " ('feature_129_num', 36, 0.009),\n",
       " ('feature_149_num', 35, 0.00875),\n",
       " ('feature_150_num', 35, 0.00875),\n",
       " ('feature_127_num', 33, 0.00825),\n",
       " ('feature_63_num', 28, 0.007),\n",
       " ('feature_281_num', 28, 0.007),\n",
       " ('feature_92_num', 25, 0.00625),\n",
       " ('feature_86_num', 24, 0.006),\n",
       " ('feature_60_num', 21, 0.00525),\n",
       " ('feature_66_cat', 20, 0.005),\n",
       " ('feature_21_cat', 19, 0.00475),\n",
       " ('feature_81_cat', 19, 0.00475),\n",
       " ('feature_20_cat', 14, 0.0035),\n",
       " ('feature_137_cat', 14, 0.0035),\n",
       " ('feature_155_cat', 13, 0.00325),\n",
       " ('feature_160_cat', 13, 0.00325),\n",
       " ('feature_121_cat', 11, 0.00275),\n",
       " ('feature_156_cat', 11, 0.00275),\n",
       " ('feature_205_cat', 11, 0.00275),\n",
       " ('feature_258_cat', 11, 0.00275),\n",
       " ('feature_2_cat', 10, 0.0025),\n",
       " ('feature_94_cat', 10, 0.0025),\n",
       " ('feature_103_cat', 10, 0.0025),\n",
       " ('feature_104_cat', 10, 0.0025),\n",
       " ('feature_106_cat', 10, 0.0025),\n",
       " ('feature_112_cat', 10, 0.0025),\n",
       " ('feature_17_cat', 9, 0.00225),\n",
       " ('feature_25_cat', 9, 0.00225),\n",
       " ('feature_42_cat', 9, 0.00225),\n",
       " ('feature_111_cat', 9, 0.00225),\n",
       " ('feature_157_cat', 9, 0.00225),\n",
       " ('feature_14_cat', 8, 0.002),\n",
       " ('feature_15_cat', 8, 0.002),\n",
       " ('feature_22_cat', 8, 0.002),\n",
       " ('feature_23_cat', 8, 0.002),\n",
       " ('feature_107_cat', 8, 0.002),\n",
       " ('feature_109_cat', 8, 0.002),\n",
       " ('feature_110_cat', 8, 0.002),\n",
       " ('feature_113_cat', 8, 0.002),\n",
       " ('feature_115_cat', 8, 0.002),\n",
       " ('feature_145_cat', 8, 0.002),\n",
       " ('feature_158_cat', 8, 0.002),\n",
       " ('feature_206_cat', 8, 0.002),\n",
       " ('feature_207_cat', 8, 0.002),\n",
       " ('feature_209_cat', 8, 0.002),\n",
       " ('feature_18_cat', 7, 0.00175),\n",
       " ('feature_26_cat', 7, 0.00175),\n",
       " ('feature_45_cat', 7, 0.00175),\n",
       " ('feature_49_cat', 7, 0.00175),\n",
       " ('feature_54_cat', 7, 0.00175),\n",
       " ('feature_71_cat', 7, 0.00175),\n",
       " ('feature_83_cat', 7, 0.00175),\n",
       " ('feature_89_cat', 7, 0.00175),\n",
       " ('feature_93_cat', 7, 0.00175),\n",
       " ('feature_108_cat', 7, 0.00175),\n",
       " ('feature_116_cat', 7, 0.00175),\n",
       " ('feature_122_cat', 7, 0.00175),\n",
       " ('feature_123_cat', 7, 0.00175),\n",
       " ('feature_126_cat', 7, 0.00175),\n",
       " ('feature_132_cat', 7, 0.00175),\n",
       " ('feature_141_cat', 7, 0.00175),\n",
       " ('feature_146_cat', 7, 0.00175),\n",
       " ('feature_147_cat', 7, 0.00175),\n",
       " ('feature_161_cat', 7, 0.00175),\n",
       " ('feature_10_cat', 6, 0.0015),\n",
       " ('feature_43_cat', 6, 0.0015),\n",
       " ('feature_44_cat', 6, 0.0015),\n",
       " ('feature_47_cat', 6, 0.0015),\n",
       " ('feature_48_cat', 6, 0.0015),\n",
       " ('feature_50_cat', 6, 0.0015),\n",
       " ('feature_53_cat', 6, 0.0015),\n",
       " ('feature_56_cat', 6, 0.0015),\n",
       " ('feature_82_cat', 6, 0.0015),\n",
       " ('feature_96_cat', 6, 0.0015),\n",
       " ('feature_97_cat', 6, 0.0015),\n",
       " ('feature_98_cat', 6, 0.0015),\n",
       " ('feature_100_cat', 6, 0.0015),\n",
       " ('feature_101_cat', 6, 0.0015),\n",
       " ('feature_102_cat', 6, 0.0015),\n",
       " ('feature_114_cat', 6, 0.0015),\n",
       " ('feature_131_cat', 6, 0.0015),\n",
       " ('feature_144_cat', 6, 0.0015),\n",
       " ('feature_163_cat', 6, 0.0015),\n",
       " ('feature_203_cat', 6, 0.0015),\n",
       " ('feature_208_cat', 6, 0.0015),\n",
       " ('feature_283_cat', 6, 0.0015),\n",
       " ('feature_5_cat', 5, 0.00125),\n",
       " ('feature_19_cat', 5, 0.00125),\n",
       " ('feature_28_cat', 5, 0.00125),\n",
       " ('feature_51_cat', 5, 0.00125),\n",
       " ('feature_70_cat', 5, 0.00125),\n",
       " ('feature_95_cat', 5, 0.00125),\n",
       " ('feature_99_cat', 5, 0.00125),\n",
       " ('feature_164_cat', 5, 0.00125),\n",
       " ('feature_167_cat', 5, 0.00125),\n",
       " ('feature_169_cat', 5, 0.00125),\n",
       " ('feature_170_cat', 5, 0.00125),\n",
       " ('feature_171_cat', 5, 0.00125),\n",
       " ('feature_173_cat', 5, 0.00125),\n",
       " ('feature_177_cat', 5, 0.00125),\n",
       " ('feature_178_cat', 5, 0.00125),\n",
       " ('feature_179_cat', 5, 0.00125),\n",
       " ('feature_180_cat', 5, 0.00125),\n",
       " ('feature_181_cat', 5, 0.00125),\n",
       " ('feature_182_cat', 5, 0.00125),\n",
       " ('feature_183_cat', 5, 0.00125),\n",
       " ('feature_184_cat', 5, 0.00125),\n",
       " ('feature_185_cat', 5, 0.00125),\n",
       " ('feature_186_cat', 5, 0.00125),\n",
       " ('feature_187_cat', 5, 0.00125),\n",
       " ('feature_193_cat', 5, 0.00125),\n",
       " ('feature_194_cat', 5, 0.00125),\n",
       " ('feature_204_cat', 5, 0.00125),\n",
       " ('feature_257_cat', 5, 0.00125),\n",
       " ('feature_282_cat', 5, 0.00125),\n",
       " ('feature_1_cat', 4, 0.001),\n",
       " ('feature_12_cat', 4, 0.001),\n",
       " ('feature_29_cat', 4, 0.001),\n",
       " ('feature_30_cat', 4, 0.001),\n",
       " ('feature_55_cat', 4, 0.001),\n",
       " ('feature_62_cat', 4, 0.001),\n",
       " ('feature_65_cat', 4, 0.001),\n",
       " ('feature_87_cat', 4, 0.001),\n",
       " ('feature_88_cat', 4, 0.001),\n",
       " ('feature_91_cat', 4, 0.001),\n",
       " ('feature_139_cat', 4, 0.001),\n",
       " ('feature_175_cat', 4, 0.001),\n",
       " ('feature_176_cat', 4, 0.001),\n",
       " ('feature_188_cat', 4, 0.001),\n",
       " ('feature_189_cat', 4, 0.001),\n",
       " ('feature_190_cat', 4, 0.001),\n",
       " ('feature_191_cat', 4, 0.001),\n",
       " ('feature_196_cat', 4, 0.001),\n",
       " ('feature_197_cat', 4, 0.001),\n",
       " ('feature_198_cat', 4, 0.001),\n",
       " ('feature_217_cat', 4, 0.001),\n",
       " ('feature_219_cat', 4, 0.001),\n",
       " ('feature_285_cat', 4, 0.001),\n",
       " ('feature_3_cat', 3, 0.00075),\n",
       " ('feature_4_cat', 3, 0.00075),\n",
       " ('feature_6_cat', 3, 0.00075),\n",
       " ('feature_7_cat', 3, 0.00075),\n",
       " ('feature_8_cat', 3, 0.00075),\n",
       " ('feature_9_cat', 3, 0.00075),\n",
       " ('feature_11_cat', 3, 0.00075),\n",
       " ('feature_13_cat', 3, 0.00075),\n",
       " ('feature_16_cat', 3, 0.00075),\n",
       " ('feature_24_cat', 3, 0.00075),\n",
       " ('feature_27_cat', 3, 0.00075),\n",
       " ('feature_32_cat', 3, 0.00075),\n",
       " ('feature_39_cat', 3, 0.00075),\n",
       " ('feature_40_cat', 3, 0.00075),\n",
       " ('feature_41_cat', 3, 0.00075),\n",
       " ('feature_46_cat', 3, 0.00075),\n",
       " ('feature_52_cat', 3, 0.00075),\n",
       " ('feature_61_cat', 3, 0.00075),\n",
       " ('feature_64_cat', 3, 0.00075),\n",
       " ('feature_85_cat', 3, 0.00075),\n",
       " ('feature_118_cat', 3, 0.00075),\n",
       " ('feature_124_cat', 3, 0.00075),\n",
       " ('feature_125_cat', 3, 0.00075),\n",
       " ('feature_130_cat', 3, 0.00075),\n",
       " ('feature_133_cat', 3, 0.00075),\n",
       " ('feature_134_cat', 3, 0.00075),\n",
       " ('feature_135_cat', 3, 0.00075),\n",
       " ('feature_140_cat', 3, 0.00075),\n",
       " ('feature_142_cat', 3, 0.00075),\n",
       " ('feature_143_cat', 3, 0.00075),\n",
       " ('feature_151_cat', 3, 0.00075),\n",
       " ('feature_152_cat', 3, 0.00075),\n",
       " ('feature_153_cat', 3, 0.00075),\n",
       " ('feature_154_cat', 3, 0.00075),\n",
       " ('feature_162_cat', 3, 0.00075),\n",
       " ('feature_165_cat', 3, 0.00075),\n",
       " ('feature_174_cat', 3, 0.00075),\n",
       " ('feature_201_cat', 3, 0.00075),\n",
       " ('feature_220_cat', 3, 0.00075),\n",
       " ('feature_244_cat', 3, 0.00075),\n",
       " ('feature_245_cat', 3, 0.00075),\n",
       " ('feature_246_cat', 3, 0.00075),\n",
       " ('feature_31_cat', 2, 0.0005),\n",
       " ('feature_69_cat', 2, 0.0005),\n",
       " ('feature_72_cat', 2, 0.0005),\n",
       " ('feature_73_cat', 2, 0.0005),\n",
       " ('feature_74_cat', 2, 0.0005),\n",
       " ('feature_75_cat', 2, 0.0005),\n",
       " ('feature_76_cat', 2, 0.0005),\n",
       " ('feature_77_cat', 2, 0.0005),\n",
       " ('feature_78_cat', 2, 0.0005),\n",
       " ('feature_79_cat', 2, 0.0005),\n",
       " ('feature_80_cat', 2, 0.0005),\n",
       " ('feature_84_cat', 2, 0.0005),\n",
       " ('feature_90_cat', 2, 0.0005),\n",
       " ('feature_117_cat', 2, 0.0005),\n",
       " ('feature_136_cat', 2, 0.0005),\n",
       " ('feature_138_cat', 2, 0.0005),\n",
       " ('feature_159_cat', 2, 0.0005),\n",
       " ('feature_172_cat', 2, 0.0005),\n",
       " ('feature_199_cat', 2, 0.0005),\n",
       " ('feature_202_cat', 2, 0.0005),\n",
       " ('feature_227_cat', 2, 0.0005),\n",
       " ('feature_228_cat', 2, 0.0005),\n",
       " ('feature_229_cat', 2, 0.0005),\n",
       " ('feature_230_cat', 2, 0.0005),\n",
       " ('feature_232_cat', 2, 0.0005),\n",
       " ('feature_233_cat', 2, 0.0005),\n",
       " ('feature_234_cat', 2, 0.0005),\n",
       " ('feature_235_cat', 2, 0.0005),\n",
       " ('feature_236_cat', 2, 0.0005),\n",
       " ('feature_237_cat', 2, 0.0005),\n",
       " ('feature_243_cat', 2, 0.0005),\n",
       " ('feature_247_cat', 2, 0.0005)]"
      ]
     },
     "execution_count": 4,
     "metadata": {},
     "output_type": "execute_result"
    }
   ],
   "source": [
    "cols_freq"
   ]
  },
  {
   "cell_type": "code",
   "execution_count": 5,
   "metadata": {
    "collapsed": true
   },
   "outputs": [],
   "source": [
    "cat_df = train.select_dtypes(include=['object'])"
   ]
  },
  {
   "cell_type": "code",
   "execution_count": 11,
   "metadata": {
    "collapsed": true
   },
   "outputs": [],
   "source": [
    "cat_cols = [x for x in train.columns if 'cat' in x]"
   ]
  },
  {
   "cell_type": "code",
   "execution_count": 12,
   "metadata": {
    "collapsed": true
   },
   "outputs": [],
   "source": [
    "cat_df = train[cat_cols].copy()"
   ]
  },
  {
   "cell_type": "code",
   "execution_count": 14,
   "metadata": {},
   "outputs": [
    {
     "data": {
      "text/plain": [
       "(4000, 203)"
      ]
     },
     "execution_count": 14,
     "metadata": {},
     "output_type": "execute_result"
    }
   ],
   "source": [
    "cat_df.shape"
   ]
  },
  {
   "cell_type": "code",
   "execution_count": 18,
   "metadata": {},
   "outputs": [
    {
     "data": {
      "text/plain": [
       "10    783\n",
       "5     766\n",
       "3     557\n",
       "7     409\n",
       "2     391\n",
       "4     348\n",
       "6     255\n",
       "1     173\n",
       "9     160\n",
       "8     158\n",
       "Name: feature_2_cat, dtype: int64"
      ]
     },
     "execution_count": 18,
     "metadata": {},
     "output_type": "execute_result"
    }
   ],
   "source": [
    "cat_df['feature_2_cat'].value_counts()"
   ]
  },
  {
   "cell_type": "code",
   "execution_count": null,
   "metadata": {
    "collapsed": true
   },
   "outputs": [],
   "source": [
    "# 4,257 - LabelEncoder\n",
    "# 258 - OneHot"
   ]
  },
  {
   "cell_type": "markdown",
   "metadata": {
    "heading_collapsed": true
   },
   "source": [
    "### Clear the most correlated ones"
   ]
  },
  {
   "cell_type": "code",
   "execution_count": 30,
   "metadata": {
    "collapsed": true,
    "hidden": true
   },
   "outputs": [],
   "source": [
    "import scipy.stats as st"
   ]
  },
  {
   "cell_type": "code",
   "execution_count": 42,
   "metadata": {
    "hidden": true
   },
   "outputs": [
    {
     "data": {
      "text/plain": [
       "Index(['feature_3_cat', 'feature_4_cat', 'feature_257_cat', 'feature_258_cat'], dtype='object')"
      ]
     },
     "execution_count": 42,
     "metadata": {},
     "output_type": "execute_result"
    }
   ],
   "source": [
    "catcols"
   ]
  },
  {
   "cell_type": "code",
   "execution_count": 53,
   "metadata": {
    "collapsed": true,
    "hidden": true
   },
   "outputs": [],
   "source": [
    "# take numerical features and take those with high correlations to analyse them first\n",
    "catcols = train.columns[train.dtypes == 'object'].tolist()\n",
    "cols_use = [x for x in train.columns if x not in ['Id', 'Energy_consumption'] + catcols]\n",
    "cols_corr = list(zip(cols_use, [st.pearsonr(train[col], train[target])[0] for col in cols_use]))\n",
    "cols_corr = sorted(cols_corr, key=lambda x: abs(x[1]), reverse=True)"
   ]
  },
  {
   "cell_type": "code",
   "execution_count": 54,
   "metadata": {
    "collapsed": true,
    "hidden": true
   },
   "outputs": [],
   "source": [
    "cols_corr = [x[0] for x in cols_corr if abs(x[1]) > .2]"
   ]
  },
  {
   "cell_type": "code",
   "execution_count": 55,
   "metadata": {
    "hidden": true
   },
   "outputs": [
    {
     "data": {
      "text/plain": [
       "97"
      ]
     },
     "execution_count": 55,
     "metadata": {},
     "output_type": "execute_result"
    }
   ],
   "source": [
    "len(cols_corr)"
   ]
  },
  {
   "cell_type": "code",
   "execution_count": 59,
   "metadata": {
    "collapsed": true,
    "hidden": true
   },
   "outputs": [],
   "source": [
    "cols_corr_info = [(x, train[x].mean(), np.median(train[x]), \n",
    "                   train[x].std(), train[x].max(), train[x].min(),\n",
    "                  st.kurtosis(train[x]), st.pearsonr(train[x], train[target])) \n",
    "                  for x in cols_corr]\n",
    "corr_df = pd.DataFrame(cols_corr_info, columns = ['colname', 'mean', 'median',\n",
    "                                                 'std', 'max', 'min', 'kurtosis',\n",
    "                                                 'corr'])"
   ]
  },
  {
   "cell_type": "code",
   "execution_count": 60,
   "metadata": {
    "hidden": true,
    "scrolled": true
   },
   "outputs": [
    {
     "data": {
      "text/html": [
       "<div>\n",
       "<style scoped>\n",
       "    .dataframe tbody tr th:only-of-type {\n",
       "        vertical-align: middle;\n",
       "    }\n",
       "\n",
       "    .dataframe tbody tr th {\n",
       "        vertical-align: top;\n",
       "    }\n",
       "\n",
       "    .dataframe thead th {\n",
       "        text-align: right;\n",
       "    }\n",
       "</style>\n",
       "<table border=\"1\" class=\"dataframe\">\n",
       "  <thead>\n",
       "    <tr style=\"text-align: right;\">\n",
       "      <th></th>\n",
       "      <th>colname</th>\n",
       "      <th>mean</th>\n",
       "      <th>median</th>\n",
       "      <th>std</th>\n",
       "      <th>max</th>\n",
       "      <th>min</th>\n",
       "      <th>kurtosis</th>\n",
       "      <th>corr</th>\n",
       "    </tr>\n",
       "  </thead>\n",
       "  <tbody>\n",
       "    <tr>\n",
       "      <th>70</th>\n",
       "      <td>feature_233_cat</td>\n",
       "      <td>0.501250</td>\n",
       "      <td>1.000000</td>\n",
       "      <td>0.500061</td>\n",
       "      <td>1.000000</td>\n",
       "      <td>0.000000</td>\n",
       "      <td>-1.999975</td>\n",
       "      <td>(-0.245911483698878, 3.5864457949721645e-56)</td>\n",
       "    </tr>\n",
       "    <tr>\n",
       "      <th>50</th>\n",
       "      <td>feature_227_cat</td>\n",
       "      <td>0.487000</td>\n",
       "      <td>0.000000</td>\n",
       "      <td>0.499893</td>\n",
       "      <td>1.000000</td>\n",
       "      <td>0.000000</td>\n",
       "      <td>-1.997294</td>\n",
       "      <td>(0.28501893892468677, 1.2297797665546705e-75)</td>\n",
       "    </tr>\n",
       "    <tr>\n",
       "      <th>41</th>\n",
       "      <td>feature_234_cat</td>\n",
       "      <td>0.479750</td>\n",
       "      <td>0.000000</td>\n",
       "      <td>0.499652</td>\n",
       "      <td>1.000000</td>\n",
       "      <td>0.000000</td>\n",
       "      <td>-1.993428</td>\n",
       "      <td>(-0.3038998283359877, 3.099006913819806e-86)</td>\n",
       "    </tr>\n",
       "    <tr>\n",
       "      <th>29</th>\n",
       "      <td>feature_229_cat</td>\n",
       "      <td>0.463750</td>\n",
       "      <td>0.000000</td>\n",
       "      <td>0.498747</td>\n",
       "      <td>1.000000</td>\n",
       "      <td>0.000000</td>\n",
       "      <td>-1.978864</td>\n",
       "      <td>(0.32498217181532646, 4.8668514737244375e-99)</td>\n",
       "    </tr>\n",
       "    <tr>\n",
       "      <th>31</th>\n",
       "      <td>feature_232_cat</td>\n",
       "      <td>0.577250</td>\n",
       "      <td>1.000000</td>\n",
       "      <td>0.494058</td>\n",
       "      <td>1.000000</td>\n",
       "      <td>0.000000</td>\n",
       "      <td>-1.902184</td>\n",
       "      <td>(-0.3238343647880303, 2.578402460731993e-98)</td>\n",
       "    </tr>\n",
       "    <tr>\n",
       "      <th>55</th>\n",
       "      <td>feature_69_cat</td>\n",
       "      <td>0.615000</td>\n",
       "      <td>1.000000</td>\n",
       "      <td>0.486656</td>\n",
       "      <td>1.000000</td>\n",
       "      <td>0.000000</td>\n",
       "      <td>-1.776581</td>\n",
       "      <td>(0.27622722885734663, 5.6674003054872495e-71)</td>\n",
       "    </tr>\n",
       "    <tr>\n",
       "      <th>73</th>\n",
       "      <td>feature_12_cat</td>\n",
       "      <td>-0.240500</td>\n",
       "      <td>-2.000000</td>\n",
       "      <td>1.980566</td>\n",
       "      <td>3.000000</td>\n",
       "      <td>-2.000000</td>\n",
       "      <td>-1.756332</td>\n",
       "      <td>(0.2406468703172147, 8.466692135562988e-54)</td>\n",
       "    </tr>\n",
       "    <tr>\n",
       "      <th>64</th>\n",
       "      <td>feature_153_cat</td>\n",
       "      <td>-1.174000</td>\n",
       "      <td>-2.000000</td>\n",
       "      <td>0.999987</td>\n",
       "      <td>1.000000</td>\n",
       "      <td>-2.000000</td>\n",
       "      <td>-1.744295</td>\n",
       "      <td>(0.2589703226826917, 2.621688089724398e-62)</td>\n",
       "    </tr>\n",
       "    <tr>\n",
       "      <th>82</th>\n",
       "      <td>feature_135_cat</td>\n",
       "      <td>-1.096250</td>\n",
       "      <td>-2.000000</td>\n",
       "      <td>1.035738</td>\n",
       "      <td>1.000000</td>\n",
       "      <td>-2.000000</td>\n",
       "      <td>-1.700680</td>\n",
       "      <td>(0.21837126993687564, 2.1938219109947215e-44)</td>\n",
       "    </tr>\n",
       "    <tr>\n",
       "      <th>65</th>\n",
       "      <td>feature_230_cat</td>\n",
       "      <td>0.649750</td>\n",
       "      <td>1.000000</td>\n",
       "      <td>0.477108</td>\n",
       "      <td>1.000000</td>\n",
       "      <td>0.000000</td>\n",
       "      <td>-1.605843</td>\n",
       "      <td>(0.2544420017100246, 3.863287304199243e-60)</td>\n",
       "    </tr>\n",
       "    <tr>\n",
       "      <th>76</th>\n",
       "      <td>feature_134_cat</td>\n",
       "      <td>-1.200500</td>\n",
       "      <td>-2.000000</td>\n",
       "      <td>1.006257</td>\n",
       "      <td>1.000000</td>\n",
       "      <td>-2.000000</td>\n",
       "      <td>-1.599732</td>\n",
       "      <td>(0.2365599436711152, 5.3762750920341284e-52)</td>\n",
       "    </tr>\n",
       "    <tr>\n",
       "      <th>61</th>\n",
       "      <td>feature_143_cat</td>\n",
       "      <td>-0.236250</td>\n",
       "      <td>0.000000</td>\n",
       "      <td>1.316575</td>\n",
       "      <td>1.000000</td>\n",
       "      <td>-2.000000</td>\n",
       "      <td>-1.570945</td>\n",
       "      <td>(0.2627628055904504, 3.7075323004747554e-64)</td>\n",
       "    </tr>\n",
       "    <tr>\n",
       "      <th>62</th>\n",
       "      <td>feature_152_cat</td>\n",
       "      <td>-1.256750</td>\n",
       "      <td>-2.000000</td>\n",
       "      <td>0.986191</td>\n",
       "      <td>1.000000</td>\n",
       "      <td>-2.000000</td>\n",
       "      <td>-1.515219</td>\n",
       "      <td>(0.2620266176873409, 8.521212166929968e-64)</td>\n",
       "    </tr>\n",
       "    <tr>\n",
       "      <th>63</th>\n",
       "      <td>feature_142_cat</td>\n",
       "      <td>0.010500</td>\n",
       "      <td>1.000000</td>\n",
       "      <td>1.402456</td>\n",
       "      <td>1.000000</td>\n",
       "      <td>-2.000000</td>\n",
       "      <td>-1.458238</td>\n",
       "      <td>(0.2602901863849394, 6.003304593449231e-63)</td>\n",
       "    </tr>\n",
       "    <tr>\n",
       "      <th>96</th>\n",
       "      <td>feature_235_cat</td>\n",
       "      <td>0.323000</td>\n",
       "      <td>0.000000</td>\n",
       "      <td>0.467681</td>\n",
       "      <td>1.000000</td>\n",
       "      <td>0.000000</td>\n",
       "      <td>-1.426920</td>\n",
       "      <td>(-0.2000303557768071, 2.220965973062051e-37)</td>\n",
       "    </tr>\n",
       "    <tr>\n",
       "      <th>40</th>\n",
       "      <td>feature_31_cat</td>\n",
       "      <td>0.682500</td>\n",
       "      <td>1.000000</td>\n",
       "      <td>0.465562</td>\n",
       "      <td>1.000000</td>\n",
       "      <td>0.000000</td>\n",
       "      <td>-1.385192</td>\n",
       "      <td>(-0.304682301283645, 1.082709220745901e-86)</td>\n",
       "    </tr>\n",
       "    <tr>\n",
       "      <th>78</th>\n",
       "      <td>feature_9_cat</td>\n",
       "      <td>-1.133250</td>\n",
       "      <td>-2.000000</td>\n",
       "      <td>1.086181</td>\n",
       "      <td>1.000000</td>\n",
       "      <td>-2.000000</td>\n",
       "      <td>-1.381192</td>\n",
       "      <td>(0.23242588004033685, 3.305300310824221e-50)</td>\n",
       "    </tr>\n",
       "    <tr>\n",
       "      <th>38</th>\n",
       "      <td>feature_140_cat</td>\n",
       "      <td>-0.454500</td>\n",
       "      <td>0.000000</td>\n",
       "      <td>1.138092</td>\n",
       "      <td>1.000000</td>\n",
       "      <td>-2.000000</td>\n",
       "      <td>-1.351552</td>\n",
       "      <td>(0.3086973514662621, 4.66460565614808e-89)</td>\n",
       "    </tr>\n",
       "    <tr>\n",
       "      <th>56</th>\n",
       "      <td>feature_52_cat</td>\n",
       "      <td>-0.808250</td>\n",
       "      <td>-2.000000</td>\n",
       "      <td>1.697558</td>\n",
       "      <td>2.000000</td>\n",
       "      <td>-2.000000</td>\n",
       "      <td>-1.278832</td>\n",
       "      <td>(0.27266713246307517, 3.923310092909814e-69)</td>\n",
       "    </tr>\n",
       "    <tr>\n",
       "      <th>83</th>\n",
       "      <td>feature_144_cat</td>\n",
       "      <td>0.677750</td>\n",
       "      <td>1.000000</td>\n",
       "      <td>2.048647</td>\n",
       "      <td>5.000000</td>\n",
       "      <td>-2.000000</td>\n",
       "      <td>-1.278787</td>\n",
       "      <td>(0.21480811933841898, 5.6782329292628195e-43)</td>\n",
       "    </tr>\n",
       "    <tr>\n",
       "      <th>91</th>\n",
       "      <td>feature_82_cat</td>\n",
       "      <td>0.394250</td>\n",
       "      <td>1.000000</td>\n",
       "      <td>2.209307</td>\n",
       "      <td>5.000000</td>\n",
       "      <td>-2.000000</td>\n",
       "      <td>-1.210795</td>\n",
       "      <td>(0.20667950399591323, 7.646719807232222e-40)</td>\n",
       "    </tr>\n",
       "    <tr>\n",
       "      <th>88</th>\n",
       "      <td>feature_80_cat</td>\n",
       "      <td>0.715250</td>\n",
       "      <td>1.000000</td>\n",
       "      <td>0.451352</td>\n",
       "      <td>1.000000</td>\n",
       "      <td>0.000000</td>\n",
       "      <td>-1.090035</td>\n",
       "      <td>(0.20927898403083262, 7.887718136846076e-41)</td>\n",
       "    </tr>\n",
       "    <tr>\n",
       "      <th>49</th>\n",
       "      <td>feature_53_cat</td>\n",
       "      <td>-0.396750</td>\n",
       "      <td>-2.000000</td>\n",
       "      <td>2.312072</td>\n",
       "      <td>5.000000</td>\n",
       "      <td>-2.000000</td>\n",
       "      <td>-1.071073</td>\n",
       "      <td>(0.28929230102630454, 5.770989553162181e-78)</td>\n",
       "    </tr>\n",
       "    <tr>\n",
       "      <th>36</th>\n",
       "      <td>feature_11_cat</td>\n",
       "      <td>-0.060500</td>\n",
       "      <td>0.000000</td>\n",
       "      <td>1.212727</td>\n",
       "      <td>1.000000</td>\n",
       "      <td>-2.000000</td>\n",
       "      <td>-1.062194</td>\n",
       "      <td>(0.3097430026098864, 1.113231752921603e-89)</td>\n",
       "    </tr>\n",
       "    <tr>\n",
       "      <th>30</th>\n",
       "      <td>feature_8_cat</td>\n",
       "      <td>-0.111000</td>\n",
       "      <td>0.000000</td>\n",
       "      <td>1.188079</td>\n",
       "      <td>1.000000</td>\n",
       "      <td>-2.000000</td>\n",
       "      <td>-1.058338</td>\n",
       "      <td>(0.3244079552700588, 1.121736768367175e-98)</td>\n",
       "    </tr>\n",
       "    <tr>\n",
       "      <th>51</th>\n",
       "      <td>feature_99_cat</td>\n",
       "      <td>0.975000</td>\n",
       "      <td>2.000000</td>\n",
       "      <td>1.910965</td>\n",
       "      <td>4.000000</td>\n",
       "      <td>-2.000000</td>\n",
       "      <td>-1.043187</td>\n",
       "      <td>(0.28431657677052957, 2.942136103949518e-75)</td>\n",
       "    </tr>\n",
       "    <tr>\n",
       "      <th>60</th>\n",
       "      <td>feature_6_cat</td>\n",
       "      <td>-0.209250</td>\n",
       "      <td>0.000000</td>\n",
       "      <td>1.132159</td>\n",
       "      <td>1.000000</td>\n",
       "      <td>-2.000000</td>\n",
       "      <td>-1.004361</td>\n",
       "      <td>(0.26283700383669456, 3.4087460355349754e-64)</td>\n",
       "    </tr>\n",
       "    <tr>\n",
       "      <th>72</th>\n",
       "      <td>feature_102_cat</td>\n",
       "      <td>1.296750</td>\n",
       "      <td>2.000000</td>\n",
       "      <td>2.165493</td>\n",
       "      <td>5.000000</td>\n",
       "      <td>-2.000000</td>\n",
       "      <td>-0.961957</td>\n",
       "      <td>(0.24122773660501567, 4.663363275193041e-54)</td>\n",
       "    </tr>\n",
       "    <tr>\n",
       "      <th>71</th>\n",
       "      <td>feature_101_cat</td>\n",
       "      <td>1.168000</td>\n",
       "      <td>2.000000</td>\n",
       "      <td>2.061271</td>\n",
       "      <td>5.000000</td>\n",
       "      <td>-2.000000</td>\n",
       "      <td>-0.901017</td>\n",
       "      <td>(0.24191556231421346, 2.296622970138888e-54)</td>\n",
       "    </tr>\n",
       "    <tr>\n",
       "      <th>92</th>\n",
       "      <td>feature_263_num</td>\n",
       "      <td>0.095842</td>\n",
       "      <td>0.097246</td>\n",
       "      <td>0.016189</td>\n",
       "      <td>0.145869</td>\n",
       "      <td>0.066127</td>\n",
       "      <td>-0.895133</td>\n",
       "      <td>(-0.2060003766190829, 1.377270143341175e-39)</td>\n",
       "    </tr>\n",
       "    <tr>\n",
       "      <th>...</th>\n",
       "      <td>...</td>\n",
       "      <td>...</td>\n",
       "      <td>...</td>\n",
       "      <td>...</td>\n",
       "      <td>...</td>\n",
       "      <td>...</td>\n",
       "      <td>...</td>\n",
       "      <td>...</td>\n",
       "    </tr>\n",
       "    <tr>\n",
       "      <th>4</th>\n",
       "      <td>feature_248_num</td>\n",
       "      <td>1462.033250</td>\n",
       "      <td>1214.000000</td>\n",
       "      <td>1253.841940</td>\n",
       "      <td>7878.000000</td>\n",
       "      <td>0.000000</td>\n",
       "      <td>1.908297</td>\n",
       "      <td>(0.39744529295363434, 1.7314231206755068e-151)</td>\n",
       "    </tr>\n",
       "    <tr>\n",
       "      <th>35</th>\n",
       "      <td>feature_84_cat</td>\n",
       "      <td>0.851750</td>\n",
       "      <td>1.000000</td>\n",
       "      <td>0.355392</td>\n",
       "      <td>1.000000</td>\n",
       "      <td>0.000000</td>\n",
       "      <td>1.919416</td>\n",
       "      <td>(0.3136554920377388, 4.963899075264017e-92)</td>\n",
       "    </tr>\n",
       "    <tr>\n",
       "      <th>12</th>\n",
       "      <td>feature_250_num</td>\n",
       "      <td>2077.814500</td>\n",
       "      <td>1779.000000</td>\n",
       "      <td>1278.774083</td>\n",
       "      <td>8501.000000</td>\n",
       "      <td>221.000000</td>\n",
       "      <td>1.974668</td>\n",
       "      <td>(0.37001624575768954, 5.083565641740166e-130)</td>\n",
       "    </tr>\n",
       "    <tr>\n",
       "      <th>45</th>\n",
       "      <td>feature_50_cat</td>\n",
       "      <td>-0.489000</td>\n",
       "      <td>-2.000000</td>\n",
       "      <td>2.389625</td>\n",
       "      <td>9.000000</td>\n",
       "      <td>-2.000000</td>\n",
       "      <td>2.047263</td>\n",
       "      <td>(0.3007618288358014, 2.0355669602240407e-84)</td>\n",
       "    </tr>\n",
       "    <tr>\n",
       "      <th>90</th>\n",
       "      <td>feature_107_cat</td>\n",
       "      <td>0.858500</td>\n",
       "      <td>1.000000</td>\n",
       "      <td>1.001863</td>\n",
       "      <td>6.000000</td>\n",
       "      <td>-2.000000</td>\n",
       "      <td>2.296967</td>\n",
       "      <td>(0.20702379353803724, 5.669942566659708e-40)</td>\n",
       "    </tr>\n",
       "    <tr>\n",
       "      <th>42</th>\n",
       "      <td>feature_158_cat</td>\n",
       "      <td>-0.413750</td>\n",
       "      <td>0.000000</td>\n",
       "      <td>1.009612</td>\n",
       "      <td>9.000000</td>\n",
       "      <td>-2.000000</td>\n",
       "      <td>2.300630</td>\n",
       "      <td>(0.3038333558825726, 3.38809877965784e-86)</td>\n",
       "    </tr>\n",
       "    <tr>\n",
       "      <th>93</th>\n",
       "      <td>feature_113_cat</td>\n",
       "      <td>0.995750</td>\n",
       "      <td>1.000000</td>\n",
       "      <td>1.122964</td>\n",
       "      <td>7.000000</td>\n",
       "      <td>0.000000</td>\n",
       "      <td>2.364631</td>\n",
       "      <td>(0.20355338229931286, 1.1279103191610373e-38)</td>\n",
       "    </tr>\n",
       "    <tr>\n",
       "      <th>94</th>\n",
       "      <td>feature_149_num</td>\n",
       "      <td>64.788500</td>\n",
       "      <td>74.000000</td>\n",
       "      <td>26.185171</td>\n",
       "      <td>90.000000</td>\n",
       "      <td>-2.000000</td>\n",
       "      <td>2.497180</td>\n",
       "      <td>(0.20259631785087867, 2.5484392026524766e-38)</td>\n",
       "    </tr>\n",
       "    <tr>\n",
       "      <th>16</th>\n",
       "      <td>feature_249_num</td>\n",
       "      <td>1816.321750</td>\n",
       "      <td>1562.000000</td>\n",
       "      <td>1176.565541</td>\n",
       "      <td>7986.000000</td>\n",
       "      <td>0.000000</td>\n",
       "      <td>2.524074</td>\n",
       "      <td>(0.359110203826262, 4.7979501568017564e-122)</td>\n",
       "    </tr>\n",
       "    <tr>\n",
       "      <th>84</th>\n",
       "      <td>feature_150_num</td>\n",
       "      <td>62.322500</td>\n",
       "      <td>70.500000</td>\n",
       "      <td>25.127173</td>\n",
       "      <td>90.000000</td>\n",
       "      <td>-2.000000</td>\n",
       "      <td>2.567095</td>\n",
       "      <td>(0.21314118915381686, 2.5502624221958353e-42)</td>\n",
       "    </tr>\n",
       "    <tr>\n",
       "      <th>85</th>\n",
       "      <td>feature_148_num</td>\n",
       "      <td>63.034250</td>\n",
       "      <td>72.000000</td>\n",
       "      <td>25.378339</td>\n",
       "      <td>90.000000</td>\n",
       "      <td>-2.000000</td>\n",
       "      <td>2.589611</td>\n",
       "      <td>(0.21230158992498216, 5.408591612481988e-42)</td>\n",
       "    </tr>\n",
       "    <tr>\n",
       "      <th>52</th>\n",
       "      <td>feature_51_cat</td>\n",
       "      <td>0.380250</td>\n",
       "      <td>0.000000</td>\n",
       "      <td>0.580727</td>\n",
       "      <td>4.000000</td>\n",
       "      <td>0.000000</td>\n",
       "      <td>2.607616</td>\n",
       "      <td>(0.28358745018251114, 7.257344840414392e-75)</td>\n",
       "    </tr>\n",
       "    <tr>\n",
       "      <th>75</th>\n",
       "      <td>feature_49_cat</td>\n",
       "      <td>4.546000</td>\n",
       "      <td>-2.000000</td>\n",
       "      <td>14.294876</td>\n",
       "      <td>42.000000</td>\n",
       "      <td>-2.000000</td>\n",
       "      <td>2.693810</td>\n",
       "      <td>(0.23942909217330485, 2.9408728991023786e-53)</td>\n",
       "    </tr>\n",
       "    <tr>\n",
       "      <th>46</th>\n",
       "      <td>feature_157_cat</td>\n",
       "      <td>-0.433000</td>\n",
       "      <td>0.000000</td>\n",
       "      <td>1.005865</td>\n",
       "      <td>8.000000</td>\n",
       "      <td>-2.000000</td>\n",
       "      <td>2.857660</td>\n",
       "      <td>(0.2927230796053706, 7.282271854675868e-80)</td>\n",
       "    </tr>\n",
       "    <tr>\n",
       "      <th>95</th>\n",
       "      <td>feature_114_cat</td>\n",
       "      <td>0.761000</td>\n",
       "      <td>1.000000</td>\n",
       "      <td>0.710637</td>\n",
       "      <td>5.000000</td>\n",
       "      <td>0.000000</td>\n",
       "      <td>2.923260</td>\n",
       "      <td>(0.20232642160163675, 3.204644334326682e-38)</td>\n",
       "    </tr>\n",
       "    <tr>\n",
       "      <th>86</th>\n",
       "      <td>feature_138_cat</td>\n",
       "      <td>0.871500</td>\n",
       "      <td>1.000000</td>\n",
       "      <td>0.334688</td>\n",
       "      <td>1.000000</td>\n",
       "      <td>0.000000</td>\n",
       "      <td>2.929548</td>\n",
       "      <td>(0.21066862304233508, 2.3126373131830257e-41)</td>\n",
       "    </tr>\n",
       "    <tr>\n",
       "      <th>87</th>\n",
       "      <td>feature_228_cat</td>\n",
       "      <td>0.871500</td>\n",
       "      <td>1.000000</td>\n",
       "      <td>0.334688</td>\n",
       "      <td>1.000000</td>\n",
       "      <td>0.000000</td>\n",
       "      <td>2.929548</td>\n",
       "      <td>(0.21066862304233508, 2.3126373131830257e-41)</td>\n",
       "    </tr>\n",
       "    <tr>\n",
       "      <th>43</th>\n",
       "      <td>feature_122_cat</td>\n",
       "      <td>2.601750</td>\n",
       "      <td>1.000000</td>\n",
       "      <td>2.278694</td>\n",
       "      <td>21.000000</td>\n",
       "      <td>-2.000000</td>\n",
       "      <td>2.988637</td>\n",
       "      <td>(0.3019587255405674, 4.150769788106733e-85)</td>\n",
       "    </tr>\n",
       "    <tr>\n",
       "      <th>57</th>\n",
       "      <td>feature_104_cat</td>\n",
       "      <td>0.715000</td>\n",
       "      <td>0.000000</td>\n",
       "      <td>1.116282</td>\n",
       "      <td>8.000000</td>\n",
       "      <td>-2.000000</td>\n",
       "      <td>3.012210</td>\n",
       "      <td>(0.2704214235802234, 5.4995636803727205e-68)</td>\n",
       "    </tr>\n",
       "    <tr>\n",
       "      <th>39</th>\n",
       "      <td>feature_81_cat</td>\n",
       "      <td>1.494500</td>\n",
       "      <td>1.000000</td>\n",
       "      <td>3.206718</td>\n",
       "      <td>21.000000</td>\n",
       "      <td>-2.000000</td>\n",
       "      <td>3.124311</td>\n",
       "      <td>(0.3060658850136151, 1.6730068742451066e-87)</td>\n",
       "    </tr>\n",
       "    <tr>\n",
       "      <th>17</th>\n",
       "      <td>feature_165_cat</td>\n",
       "      <td>-0.179000</td>\n",
       "      <td>0.000000</td>\n",
       "      <td>0.667885</td>\n",
       "      <td>1.000000</td>\n",
       "      <td>-2.000000</td>\n",
       "      <td>3.447312</td>\n",
       "      <td>(0.3589851724015894, 5.897784003971697e-122)</td>\n",
       "    </tr>\n",
       "    <tr>\n",
       "      <th>89</th>\n",
       "      <td>feature_65_cat</td>\n",
       "      <td>-1.149000</td>\n",
       "      <td>-2.000000</td>\n",
       "      <td>2.241440</td>\n",
       "      <td>5.000000</td>\n",
       "      <td>-2.000000</td>\n",
       "      <td>3.485536</td>\n",
       "      <td>(0.20702503668437966, 5.663816997236855e-40)</td>\n",
       "    </tr>\n",
       "    <tr>\n",
       "      <th>27</th>\n",
       "      <td>feature_20_cat</td>\n",
       "      <td>3.350500</td>\n",
       "      <td>3.000000</td>\n",
       "      <td>1.634111</td>\n",
       "      <td>14.000000</td>\n",
       "      <td>1.000000</td>\n",
       "      <td>3.508124</td>\n",
       "      <td>(0.33002720213708114, 2.9310746274887435e-102)</td>\n",
       "    </tr>\n",
       "    <tr>\n",
       "      <th>68</th>\n",
       "      <td>feature_206_cat</td>\n",
       "      <td>1.980750</td>\n",
       "      <td>2.000000</td>\n",
       "      <td>0.852386</td>\n",
       "      <td>8.000000</td>\n",
       "      <td>1.000000</td>\n",
       "      <td>3.606762</td>\n",
       "      <td>(0.2519158566526263, 5.995174243774024e-59)</td>\n",
       "    </tr>\n",
       "    <tr>\n",
       "      <th>5</th>\n",
       "      <td>feature_92_num</td>\n",
       "      <td>3.488750</td>\n",
       "      <td>3.000000</td>\n",
       "      <td>4.146947</td>\n",
       "      <td>30.000000</td>\n",
       "      <td>-2.000000</td>\n",
       "      <td>4.246664</td>\n",
       "      <td>(0.39172432216673453, 7.710763736790508e-147)</td>\n",
       "    </tr>\n",
       "    <tr>\n",
       "      <th>6</th>\n",
       "      <td>feature_86_num</td>\n",
       "      <td>3.613000</td>\n",
       "      <td>3.000000</td>\n",
       "      <td>4.077547</td>\n",
       "      <td>30.000000</td>\n",
       "      <td>-2.000000</td>\n",
       "      <td>4.478073</td>\n",
       "      <td>(0.3853559433907159, 9.004125116446058e-142)</td>\n",
       "    </tr>\n",
       "    <tr>\n",
       "      <th>81</th>\n",
       "      <td>feature_64_cat</td>\n",
       "      <td>0.171250</td>\n",
       "      <td>0.000000</td>\n",
       "      <td>0.471146</td>\n",
       "      <td>2.000000</td>\n",
       "      <td>0.000000</td>\n",
       "      <td>6.973062</td>\n",
       "      <td>(0.21933516705793116, 9.00749481631171e-45)</td>\n",
       "    </tr>\n",
       "    <tr>\n",
       "      <th>22</th>\n",
       "      <td>feature_42_cat</td>\n",
       "      <td>1.401500</td>\n",
       "      <td>1.000000</td>\n",
       "      <td>0.682579</td>\n",
       "      <td>8.000000</td>\n",
       "      <td>0.000000</td>\n",
       "      <td>7.083625</td>\n",
       "      <td>(0.34066222058972484, 2.992828824092694e-109)</td>\n",
       "    </tr>\n",
       "    <tr>\n",
       "      <th>47</th>\n",
       "      <td>feature_168_num</td>\n",
       "      <td>7.284750</td>\n",
       "      <td>5.000000</td>\n",
       "      <td>7.123612</td>\n",
       "      <td>60.000000</td>\n",
       "      <td>0.000000</td>\n",
       "      <td>7.180380</td>\n",
       "      <td>(0.2926234292017723, 8.275560169959561e-80)</td>\n",
       "    </tr>\n",
       "    <tr>\n",
       "      <th>69</th>\n",
       "      <td>feature_43_cat</td>\n",
       "      <td>3.373000</td>\n",
       "      <td>3.000000</td>\n",
       "      <td>0.760602</td>\n",
       "      <td>5.000000</td>\n",
       "      <td>-2.000000</td>\n",
       "      <td>11.998973</td>\n",
       "      <td>(0.2490494959659578, 1.296616045319894e-57)</td>\n",
       "    </tr>\n",
       "  </tbody>\n",
       "</table>\n",
       "<p>97 rows × 8 columns</p>\n",
       "</div>"
      ],
      "text/plain": [
       "            colname         mean       median          std          max  \\\n",
       "70  feature_233_cat     0.501250     1.000000     0.500061     1.000000   \n",
       "50  feature_227_cat     0.487000     0.000000     0.499893     1.000000   \n",
       "41  feature_234_cat     0.479750     0.000000     0.499652     1.000000   \n",
       "29  feature_229_cat     0.463750     0.000000     0.498747     1.000000   \n",
       "31  feature_232_cat     0.577250     1.000000     0.494058     1.000000   \n",
       "55   feature_69_cat     0.615000     1.000000     0.486656     1.000000   \n",
       "73   feature_12_cat    -0.240500    -2.000000     1.980566     3.000000   \n",
       "64  feature_153_cat    -1.174000    -2.000000     0.999987     1.000000   \n",
       "82  feature_135_cat    -1.096250    -2.000000     1.035738     1.000000   \n",
       "65  feature_230_cat     0.649750     1.000000     0.477108     1.000000   \n",
       "76  feature_134_cat    -1.200500    -2.000000     1.006257     1.000000   \n",
       "61  feature_143_cat    -0.236250     0.000000     1.316575     1.000000   \n",
       "62  feature_152_cat    -1.256750    -2.000000     0.986191     1.000000   \n",
       "63  feature_142_cat     0.010500     1.000000     1.402456     1.000000   \n",
       "96  feature_235_cat     0.323000     0.000000     0.467681     1.000000   \n",
       "40   feature_31_cat     0.682500     1.000000     0.465562     1.000000   \n",
       "78    feature_9_cat    -1.133250    -2.000000     1.086181     1.000000   \n",
       "38  feature_140_cat    -0.454500     0.000000     1.138092     1.000000   \n",
       "56   feature_52_cat    -0.808250    -2.000000     1.697558     2.000000   \n",
       "83  feature_144_cat     0.677750     1.000000     2.048647     5.000000   \n",
       "91   feature_82_cat     0.394250     1.000000     2.209307     5.000000   \n",
       "88   feature_80_cat     0.715250     1.000000     0.451352     1.000000   \n",
       "49   feature_53_cat    -0.396750    -2.000000     2.312072     5.000000   \n",
       "36   feature_11_cat    -0.060500     0.000000     1.212727     1.000000   \n",
       "30    feature_8_cat    -0.111000     0.000000     1.188079     1.000000   \n",
       "51   feature_99_cat     0.975000     2.000000     1.910965     4.000000   \n",
       "60    feature_6_cat    -0.209250     0.000000     1.132159     1.000000   \n",
       "72  feature_102_cat     1.296750     2.000000     2.165493     5.000000   \n",
       "71  feature_101_cat     1.168000     2.000000     2.061271     5.000000   \n",
       "92  feature_263_num     0.095842     0.097246     0.016189     0.145869   \n",
       "..              ...          ...          ...          ...          ...   \n",
       "4   feature_248_num  1462.033250  1214.000000  1253.841940  7878.000000   \n",
       "35   feature_84_cat     0.851750     1.000000     0.355392     1.000000   \n",
       "12  feature_250_num  2077.814500  1779.000000  1278.774083  8501.000000   \n",
       "45   feature_50_cat    -0.489000    -2.000000     2.389625     9.000000   \n",
       "90  feature_107_cat     0.858500     1.000000     1.001863     6.000000   \n",
       "42  feature_158_cat    -0.413750     0.000000     1.009612     9.000000   \n",
       "93  feature_113_cat     0.995750     1.000000     1.122964     7.000000   \n",
       "94  feature_149_num    64.788500    74.000000    26.185171    90.000000   \n",
       "16  feature_249_num  1816.321750  1562.000000  1176.565541  7986.000000   \n",
       "84  feature_150_num    62.322500    70.500000    25.127173    90.000000   \n",
       "85  feature_148_num    63.034250    72.000000    25.378339    90.000000   \n",
       "52   feature_51_cat     0.380250     0.000000     0.580727     4.000000   \n",
       "75   feature_49_cat     4.546000    -2.000000    14.294876    42.000000   \n",
       "46  feature_157_cat    -0.433000     0.000000     1.005865     8.000000   \n",
       "95  feature_114_cat     0.761000     1.000000     0.710637     5.000000   \n",
       "86  feature_138_cat     0.871500     1.000000     0.334688     1.000000   \n",
       "87  feature_228_cat     0.871500     1.000000     0.334688     1.000000   \n",
       "43  feature_122_cat     2.601750     1.000000     2.278694    21.000000   \n",
       "57  feature_104_cat     0.715000     0.000000     1.116282     8.000000   \n",
       "39   feature_81_cat     1.494500     1.000000     3.206718    21.000000   \n",
       "17  feature_165_cat    -0.179000     0.000000     0.667885     1.000000   \n",
       "89   feature_65_cat    -1.149000    -2.000000     2.241440     5.000000   \n",
       "27   feature_20_cat     3.350500     3.000000     1.634111    14.000000   \n",
       "68  feature_206_cat     1.980750     2.000000     0.852386     8.000000   \n",
       "5    feature_92_num     3.488750     3.000000     4.146947    30.000000   \n",
       "6    feature_86_num     3.613000     3.000000     4.077547    30.000000   \n",
       "81   feature_64_cat     0.171250     0.000000     0.471146     2.000000   \n",
       "22   feature_42_cat     1.401500     1.000000     0.682579     8.000000   \n",
       "47  feature_168_num     7.284750     5.000000     7.123612    60.000000   \n",
       "69   feature_43_cat     3.373000     3.000000     0.760602     5.000000   \n",
       "\n",
       "           min   kurtosis                                            corr  \n",
       "70    0.000000  -1.999975    (-0.245911483698878, 3.5864457949721645e-56)  \n",
       "50    0.000000  -1.997294   (0.28501893892468677, 1.2297797665546705e-75)  \n",
       "41    0.000000  -1.993428    (-0.3038998283359877, 3.099006913819806e-86)  \n",
       "29    0.000000  -1.978864   (0.32498217181532646, 4.8668514737244375e-99)  \n",
       "31    0.000000  -1.902184    (-0.3238343647880303, 2.578402460731993e-98)  \n",
       "55    0.000000  -1.776581   (0.27622722885734663, 5.6674003054872495e-71)  \n",
       "73   -2.000000  -1.756332     (0.2406468703172147, 8.466692135562988e-54)  \n",
       "64   -2.000000  -1.744295     (0.2589703226826917, 2.621688089724398e-62)  \n",
       "82   -2.000000  -1.700680   (0.21837126993687564, 2.1938219109947215e-44)  \n",
       "65    0.000000  -1.605843     (0.2544420017100246, 3.863287304199243e-60)  \n",
       "76   -2.000000  -1.599732    (0.2365599436711152, 5.3762750920341284e-52)  \n",
       "61   -2.000000  -1.570945    (0.2627628055904504, 3.7075323004747554e-64)  \n",
       "62   -2.000000  -1.515219     (0.2620266176873409, 8.521212166929968e-64)  \n",
       "63   -2.000000  -1.458238     (0.2602901863849394, 6.003304593449231e-63)  \n",
       "96    0.000000  -1.426920    (-0.2000303557768071, 2.220965973062051e-37)  \n",
       "40    0.000000  -1.385192     (-0.304682301283645, 1.082709220745901e-86)  \n",
       "78   -2.000000  -1.381192    (0.23242588004033685, 3.305300310824221e-50)  \n",
       "38   -2.000000  -1.351552      (0.3086973514662621, 4.66460565614808e-89)  \n",
       "56   -2.000000  -1.278832    (0.27266713246307517, 3.923310092909814e-69)  \n",
       "83   -2.000000  -1.278787   (0.21480811933841898, 5.6782329292628195e-43)  \n",
       "91   -2.000000  -1.210795    (0.20667950399591323, 7.646719807232222e-40)  \n",
       "88    0.000000  -1.090035    (0.20927898403083262, 7.887718136846076e-41)  \n",
       "49   -2.000000  -1.071073    (0.28929230102630454, 5.770989553162181e-78)  \n",
       "36   -2.000000  -1.062194     (0.3097430026098864, 1.113231752921603e-89)  \n",
       "30   -2.000000  -1.058338     (0.3244079552700588, 1.121736768367175e-98)  \n",
       "51   -2.000000  -1.043187    (0.28431657677052957, 2.942136103949518e-75)  \n",
       "60   -2.000000  -1.004361   (0.26283700383669456, 3.4087460355349754e-64)  \n",
       "72   -2.000000  -0.961957    (0.24122773660501567, 4.663363275193041e-54)  \n",
       "71   -2.000000  -0.901017    (0.24191556231421346, 2.296622970138888e-54)  \n",
       "92    0.066127  -0.895133    (-0.2060003766190829, 1.377270143341175e-39)  \n",
       "..         ...        ...                                             ...  \n",
       "4     0.000000   1.908297  (0.39744529295363434, 1.7314231206755068e-151)  \n",
       "35    0.000000   1.919416     (0.3136554920377388, 4.963899075264017e-92)  \n",
       "12  221.000000   1.974668   (0.37001624575768954, 5.083565641740166e-130)  \n",
       "45   -2.000000   2.047263    (0.3007618288358014, 2.0355669602240407e-84)  \n",
       "90   -2.000000   2.296967    (0.20702379353803724, 5.669942566659708e-40)  \n",
       "42   -2.000000   2.300630      (0.3038333558825726, 3.38809877965784e-86)  \n",
       "93    0.000000   2.364631   (0.20355338229931286, 1.1279103191610373e-38)  \n",
       "94   -2.000000   2.497180   (0.20259631785087867, 2.5484392026524766e-38)  \n",
       "16    0.000000   2.524074    (0.359110203826262, 4.7979501568017564e-122)  \n",
       "84   -2.000000   2.567095   (0.21314118915381686, 2.5502624221958353e-42)  \n",
       "85   -2.000000   2.589611    (0.21230158992498216, 5.408591612481988e-42)  \n",
       "52    0.000000   2.607616    (0.28358745018251114, 7.257344840414392e-75)  \n",
       "75   -2.000000   2.693810   (0.23942909217330485, 2.9408728991023786e-53)  \n",
       "46   -2.000000   2.857660     (0.2927230796053706, 7.282271854675868e-80)  \n",
       "95    0.000000   2.923260    (0.20232642160163675, 3.204644334326682e-38)  \n",
       "86    0.000000   2.929548   (0.21066862304233508, 2.3126373131830257e-41)  \n",
       "87    0.000000   2.929548   (0.21066862304233508, 2.3126373131830257e-41)  \n",
       "43   -2.000000   2.988637     (0.3019587255405674, 4.150769788106733e-85)  \n",
       "57   -2.000000   3.012210    (0.2704214235802234, 5.4995636803727205e-68)  \n",
       "39   -2.000000   3.124311    (0.3060658850136151, 1.6730068742451066e-87)  \n",
       "17   -2.000000   3.447312    (0.3589851724015894, 5.897784003971697e-122)  \n",
       "89   -2.000000   3.485536    (0.20702503668437966, 5.663816997236855e-40)  \n",
       "27    1.000000   3.508124  (0.33002720213708114, 2.9310746274887435e-102)  \n",
       "68    1.000000   3.606762     (0.2519158566526263, 5.995174243774024e-59)  \n",
       "5    -2.000000   4.246664   (0.39172432216673453, 7.710763736790508e-147)  \n",
       "6    -2.000000   4.478073    (0.3853559433907159, 9.004125116446058e-142)  \n",
       "81    0.000000   6.973062     (0.21933516705793116, 9.00749481631171e-45)  \n",
       "22    0.000000   7.083625   (0.34066222058972484, 2.992828824092694e-109)  \n",
       "47    0.000000   7.180380     (0.2926234292017723, 8.275560169959561e-80)  \n",
       "69   -2.000000  11.998973     (0.2490494959659578, 1.296616045319894e-57)  \n",
       "\n",
       "[97 rows x 8 columns]"
      ]
     },
     "execution_count": 60,
     "metadata": {},
     "output_type": "execute_result"
    }
   ],
   "source": [
    "corr_df.sort_values('kurtosis')"
   ]
  },
  {
   "cell_type": "markdown",
   "metadata": {},
   "source": [
    "### Setting up the validation strategy"
   ]
  },
  {
   "cell_type": "code",
   "execution_count": 109,
   "metadata": {
    "collapsed": true
   },
   "outputs": [],
   "source": [
    "from xgboost import XGBClassifier, plot_importance\n",
    "from sklearn.model_selection import cross_val_score, train_test_split, KFold, StratifiedKFold\n",
    "\n",
    "from sklearn.decomposition import PCA\n",
    "from sklearn.cluster import KMeans\n",
    "\n",
    "from sklearn.linear_model import Ridge, Lasso\n",
    "from sklearn.preprocessing import StandardScaler\n",
    "from sklearn.pipeline import Pipeline\n",
    "from sklearn.metrics import mean_squared_error, r2_score, make_scorer\n",
    "\n",
    "\n",
    "from sklearn.preprocessing import OneHotEncoder, LabelEncoder\n",
    "\n",
    "# pool of regressors\n",
    "from xgboost import XGBRegressor\n",
    "from lightgbm import LGBMRegressor\n",
    "from sklearn.ensemble import RandomForestRegressor, ExtraTreesRegressor\n",
    "from catboost import CatBoostRegressor"
   ]
  },
  {
   "cell_type": "code",
   "execution_count": 104,
   "metadata": {
    "collapsed": true
   },
   "outputs": [],
   "source": [
    "target = 'Energy_consumption'"
   ]
  },
  {
   "cell_type": "code",
   "execution_count": 301,
   "metadata": {
    "collapsed": true
   },
   "outputs": [],
   "source": [
    "train_initial = pd.read_csv('../data/train.csv')\n",
    "test_initial = pd.read_csv('../data/test.csv')\n",
    "\n",
    "X_test = test_initial.drop('Id', axis=1)\n",
    "\n",
    "X = train_initial.drop(['Id', target], axis=1)\n",
    "y = train_initial[target].values.reshape(-1,1)\n",
    "\n",
    "X_train, X_valid, y_train, y_valid = train_test_split(X, y, test_size=.25,\n",
    "                                                   random_state=SEED,\n",
    "                                                   shuffle=True)"
   ]
  },
  {
   "cell_type": "code",
   "execution_count": 302,
   "metadata": {},
   "outputs": [
    {
     "data": {
      "text/plain": [
       "((3000, 285), (3000, 1), (1000, 285), (1000, 1))"
      ]
     },
     "execution_count": 302,
     "metadata": {},
     "output_type": "execute_result"
    }
   ],
   "source": [
    "X_train.shape, y_train.shape, X_valid.shape, y_valid.shape"
   ]
  },
  {
   "cell_type": "code",
   "execution_count": 303,
   "metadata": {},
   "outputs": [
    {
     "data": {
      "text/plain": [
       "(1416.1175590521268, 1281.4285390789423)"
      ]
     },
     "execution_count": 303,
     "metadata": {},
     "output_type": "execute_result"
    }
   ],
   "source": [
    "y_train.std(), y_test.std()"
   ]
  },
  {
   "cell_type": "code",
   "execution_count": 289,
   "metadata": {
    "collapsed": true
   },
   "outputs": [],
   "source": [
    "catcols = X_train.select_dtypes(include='object').columns\n",
    "onehot = OneHotEncoder()\n",
    "\n",
    "train_trans = pd.DataFrame(onehot.fit_transform(X_train[catcols]).toarray())\n",
    "test_trans = pd.DataFrame(onehot.transform(X_valid[catcols]).toarray())\n",
    "\n",
    "X_train = pd.concat([X_train.drop(catcols, axis=1).reset_index(drop=True), \n",
    "                     train_trans], axis=1)\n",
    "\n",
    "X_valid = pd.concat([X_valid.drop(catcols, axis=1).reset_index(drop=True), \n",
    "                    test_trans], axis=1)"
   ]
  },
  {
   "cell_type": "code",
   "execution_count": 290,
   "metadata": {},
   "outputs": [
    {
     "data": {
      "text/plain": [
       "((3000, 303), (1000, 303))"
      ]
     },
     "execution_count": 290,
     "metadata": {},
     "output_type": "execute_result"
    }
   ],
   "source": [
    "X_train.shape, X_valid.shape"
   ]
  },
  {
   "cell_type": "code",
   "execution_count": 291,
   "metadata": {
    "collapsed": true
   },
   "outputs": [],
   "source": [
    "kf = KFold(n_splits=5, shuffle=True, random_state=SEED)\n",
    "scaler = StandardScaler()"
   ]
  },
  {
   "cell_type": "code",
   "execution_count": 292,
   "metadata": {
    "collapsed": true
   },
   "outputs": [],
   "source": [
    "scaler = StandardScaler()\n",
    "lasso = Lasso(alpha=5, random_state=SEED)\n",
    "pipe_lasso = Pipeline([('scaler', scaler),\n",
    "                       ('lr', lasso)])"
   ]
  },
  {
   "cell_type": "code",
   "execution_count": 293,
   "metadata": {
    "collapsed": true
   },
   "outputs": [],
   "source": [
    "scores_lasso = cross_val_score(pipe_lasso, X_train, y_train, scoring=make_scorer(mean_squared_error),\n",
    "                              cv=kf)"
   ]
  },
  {
   "cell_type": "code",
   "execution_count": 294,
   "metadata": {},
   "outputs": [
    {
     "data": {
      "text/plain": [
       "(694712.665415784, 33142.44533205803)"
      ]
     },
     "execution_count": 294,
     "metadata": {},
     "output_type": "execute_result"
    }
   ],
   "source": [
    "scores_lasso.mean(), scores_lasso.std()"
   ]
  },
  {
   "cell_type": "code",
   "execution_count": 295,
   "metadata": {},
   "outputs": [
    {
     "data": {
      "text/plain": [
       "887103.1002817721"
      ]
     },
     "execution_count": 295,
     "metadata": {},
     "output_type": "execute_result"
    }
   ],
   "source": [
    "y_pred = pipe_lr.fit(X_train, y_train).predict(X_valid)\n",
    "mean_squared_error(y_valid, y_pred)"
   ]
  },
  {
   "cell_type": "markdown",
   "metadata": {},
   "source": [
    "### Baseline submission"
   ]
  },
  {
   "cell_type": "code",
   "execution_count": 191,
   "metadata": {
    "collapsed": true
   },
   "outputs": [],
   "source": [
    "from sklearn.base import clone"
   ]
  },
  {
   "cell_type": "code",
   "execution_count": 204,
   "metadata": {
    "collapsed": true
   },
   "outputs": [],
   "source": [
    "def prediction_by_folds(train_X, train_y, test_X, cv, model):\n",
    "    predictions = np.zeros((test_X.shape[0], 1))\n",
    "    for (tr_ind, val_ind) in cv.split(train_X):\n",
    "        X_train_fold = train_X.iloc[tr_ind]\n",
    "        y_train_fold = train_y.iloc[tr_ind]\n",
    "        \n",
    "        model_fold = clone(model)\n",
    "        y_pred = model_fold.fit(X_train_fold, y_train_fold).predict(test_X).reshape(-1,1)\n",
    "        predictions += y_pred\n",
    "        \n",
    "    return predictions/cv.n_splits"
   ]
  },
  {
   "cell_type": "code",
   "execution_count": 271,
   "metadata": {
    "collapsed": true
   },
   "outputs": [],
   "source": [
    "catcols = X.select_dtypes(include='object').columns\n",
    "onehot = OneHotEncoder() \n",
    "\n",
    "train_trans = pd.DataFrame(onehot.fit_transform(X[catcols]).toarray())\n",
    "X_train_full = pd.concat([X.drop(catcols, axis=1).reset_index(drop=True),\n",
    "                    train_trans], axis=1)"
   ]
  },
  {
   "cell_type": "code",
   "execution_count": 272,
   "metadata": {
    "collapsed": true
   },
   "outputs": [],
   "source": [
    "test_trans = pd.DataFrame(onehot.transform(X_test[catcols]).toarray())\n",
    "X_test = pd.concat([X_test.drop(catcols, axis=1).reset_index(drop=True), \n",
    "                    test_trans], axis=1)"
   ]
  },
  {
   "cell_type": "code",
   "execution_count": null,
   "metadata": {
    "collapsed": true
   },
   "outputs": [],
   "source": [
    "y_pred = prediction_by_folds(X, y, X_test, cv=kf, model=pipe_lasso)"
   ]
  },
  {
   "cell_type": "code",
   "execution_count": 205,
   "metadata": {
    "collapsed": true
   },
   "outputs": [],
   "source": [
    "scaler = StandardScaler()\n",
    "lasso = Lasso(alpha=5, random_state=SEED)\n",
    "pipe_lasso = Pipeline([('scaler', scaler),\n",
    "                       ('lr', lasso)])\n",
    "\n",
    "# pipe_lasso.fit(X, y)\n",
    "# y_pred = pipe_lasso.predict(X_test)"
   ]
  },
  {
   "cell_type": "code",
   "execution_count": 206,
   "metadata": {
    "collapsed": true
   },
   "outputs": [],
   "source": [
    "kf = KFold(n_splits=5, shuffle=True, random_state=SEED)\n",
    "y_pred = prediction_by_folds(X_train_full, y, X_test, cv=kf, model=pipe_lasso)"
   ]
  },
  {
   "cell_type": "code",
   "execution_count": 208,
   "metadata": {
    "collapsed": true
   },
   "outputs": [],
   "source": [
    "submission = pd.DataFrame(test_initial['Id'], columns=['Id'])\n",
    "submission[target] = y_pred"
   ]
  },
  {
   "cell_type": "code",
   "execution_count": 178,
   "metadata": {
    "collapsed": true
   },
   "outputs": [],
   "source": [
    "!mkdir ../data/submissions"
   ]
  },
  {
   "cell_type": "code",
   "execution_count": 209,
   "metadata": {
    "collapsed": true
   },
   "outputs": [],
   "source": [
    "submission.to_csv('../data/submissions/baseline_v1_lasso_alpha5_folds.csv', index=False)"
   ]
  },
  {
   "cell_type": "markdown",
   "metadata": {},
   "source": [
    "### Trying to stabilize the validation"
   ]
  },
  {
   "cell_type": "code",
   "execution_count": 212,
   "metadata": {
    "scrolled": true
   },
   "outputs": [
    {
     "data": {
      "text/plain": [
       "<matplotlib.axes._subplots.AxesSubplot at 0x111d6de48>"
      ]
     },
     "execution_count": 212,
     "metadata": {},
     "output_type": "execute_result"
    },
    {
     "data": {
      "image/png": "[encoded data removed]",
      "text/plain": [
       "<Figure size 432x288 with 1 Axes>"
      ]
     },
     "metadata": {},
     "output_type": "display_data"
    }
   ],
   "source": [
    "sns.boxplot(train[target])"
   ]
  },
  {
   "cell_type": "code",
   "execution_count": 213,
   "metadata": {},
   "outputs": [
    {
     "data": {
      "text/plain": [
       "<matplotlib.axes._subplots.AxesSubplot at 0x117f2a320>"
      ]
     },
     "execution_count": 213,
     "metadata": {},
     "output_type": "execute_result"
    },
    {
     "data": {
      "image/png": "[encoded data removed]",
      "text/plain": [
       "<Figure size 432x288 with 1 Axes>"
      ]
     },
     "metadata": {},
     "output_type": "display_data"
    }
   ],
   "source": [
    "sns.distplot(train[target])"
   ]
  },
  {
   "cell_type": "code",
   "execution_count": 214,
   "metadata": {
    "collapsed": true
   },
   "outputs": [],
   "source": [
    "from tqdm import tqdm_notebook"
   ]
  },
  {
   "cell_type": "code",
   "execution_count": 220,
   "metadata": {
    "scrolled": true
   },
   "outputs": [
    {
     "data": {
      "application/vnd.jupyter.widget-view+json": {
       "model_id": "7801aba0650548b9a8e09d138082973e",
       "version_major": 2,
       "version_minor": 0
      },
      "text/plain": [
       "A Jupyter Widget"
      ]
     },
     "metadata": {},
     "output_type": "display_data"
    },
    {
     "name": "stdout",
     "output_type": "stream",
     "text": [
      "\n"
     ]
    },
    {
     "data": {
      "image/png": "[encoded data removed]",
      "text/plain": [
       "<Figure size 1440x720 with 7 Axes>"
      ]
     },
     "metadata": {},
     "output_type": "display_data"
    }
   ],
   "source": [
    "n_clusters=[2, 3, 4, 5, 7, 8, 10]\n",
    "target_values = train[target].values.reshape(-1,1)\n",
    "plt.subplots(figsize=(FIGSIZE))\n",
    "counter=1\n",
    "for n in tqdm_notebook(n_clusters, total=len(n_clusters)):\n",
    "    kmeans = KMeans(n_clusters=n)\n",
    "    predicted_target = kmeans.fit(target_values).predict(target_values)\n",
    "    plt.subplot(len(n_clusters), 1, counter)\n",
    "    plt.title('Num clusters: {}'.format(n))\n",
    "    un_pred = np.unique(predicted_target)\n",
    "    for unique in un_pred:\n",
    "        target_plot = target_values[predicted_target == unique]\n",
    "        plt.hist(target_plot, label=\"{}\".format(unique))\n",
    "    counter += 1\n",
    "plt.subplots_adjust(top=5)"
   ]
  },
  {
   "cell_type": "code",
   "execution_count": 221,
   "metadata": {
    "collapsed": true
   },
   "outputs": [],
   "source": [
    "kmeans = KMeans(n_clusters=4)\n",
    "predicted_target = kmeans.fit(target_values).predict(target_values)\n",
    "train['clusters'] = predicted_target"
   ]
  },
  {
   "cell_type": "code",
   "execution_count": 223,
   "metadata": {
    "collapsed": true
   },
   "outputs": [],
   "source": [
    "def prediction_by_folds(train_X, train_y, test_X, cv, model):\n",
    "    predictions = np.zeros((test_X.shape[0], 1))\n",
    "    for (tr_ind, val_ind) in cv.split(train_X):\n",
    "        X_train_fold = train_X.iloc[tr_ind]\n",
    "        y_train_fold = train_y.iloc[tr_ind]\n",
    "        \n",
    "        model_fold = clone(model)\n",
    "        y_pred = model_fold.fit(X_train_fold, y_train_fold).predict(test_X).reshape(-1,1)\n",
    "        predictions += y_pred\n",
    "        \n",
    "    return predictions/cv.n_splits"
   ]
  },
  {
   "cell_type": "code",
   "execution_count": 255,
   "metadata": {
    "collapsed": true
   },
   "outputs": [],
   "source": [
    "def prediction_cluster_folds(train_X, train_y, test_X,model,\n",
    "                            n_clusters=4,n_splits=5):\n",
    "    \n",
    "    kmeans = KMeans(n_clusters=n_clusters, random_state=SEED)\n",
    "    predicted_target = kmeans.fit(train_y).predict(train_y)\n",
    "    \n",
    "    predictions_holdout = np.zeros((test_X.shape[0], 1))\n",
    "\n",
    "    scores = []\n",
    "    skf = StratifiedKFold(n_splits=n_splits, shuffle=True, random_state=SEED)\n",
    "\n",
    "    for (tr_ind, val_ind) in skf.split(train_X, predicted_target):\n",
    "        X_train_fold = train_X[tr_ind]\n",
    "        y_train_fold = train_y[tr_ind]\n",
    "\n",
    "        X_valid_fold = train_X[val_ind]\n",
    "        y_valid_fold = train_y[val_ind]\n",
    "\n",
    "        model_fold = clone(model)\n",
    "        y_pred = model_fold.fit(X_train_fold, y_train_fold).predict(X_valid_fold).reshape(-1,1)\n",
    "        scores.append(mean_squared_error(y_valid_fold, y_pred))\n",
    "\n",
    "        y_pred_holdout = model_fold.predict(test_X).reshape(-1,1)\n",
    "        predictions_holdout += y_pred_holdout\n",
    "    \n",
    "    predictions_holdout /= skf.n_splits\n",
    "    return predictions_holdout, scores"
   ]
  },
  {
   "cell_type": "code",
   "execution_count": 243,
   "metadata": {
    "collapsed": true
   },
   "outputs": [],
   "source": [
    "res, score = prediction_cluster_folds(X_train.values, y_train, X_valid.values, pipe_lasso)"
   ]
  },
  {
   "cell_type": "code",
   "execution_count": 247,
   "metadata": {
    "collapsed": true
   },
   "outputs": [],
   "source": [
    "scaler = StandardScaler()\n",
    "lasso = Lasso(alpha=5, random_state=SEED)\n",
    "pipe_lasso = Pipeline([('scaler', scaler),\n",
    "                       ('lr', lasso)])"
   ]
  },
  {
   "cell_type": "code",
   "execution_count": 258,
   "metadata": {},
   "outputs": [
    {
     "data": {
      "application/vnd.jupyter.widget-view+json": {
       "model_id": "9166f17c8a58444a8827aa5fa01af3d0",
       "version_major": 2,
       "version_minor": 0
      },
      "text/plain": [
       "A Jupyter Widget"
      ]
     },
     "metadata": {},
     "output_type": "display_data"
    },
    {
     "name": "stdout",
     "output_type": "stream",
     "text": [
      "\n"
     ]
    }
   ],
   "source": [
    "n_splits = [3, 4, 5, 6, 7, 8, 9, 10]\n",
    "\n",
    "n_splits_scores = []\n",
    "for n_split in tqdm_notebook(n_splits, total=len(n_splits)):\n",
    "    _, score = prediction_cluster_folds(X_train.values, y_train, X_valid.values, pipe_lasso,\n",
    "                                       n_splits=n_split)\n",
    "    n_splits_scores.append(score)"
   ]
  },
  {
   "cell_type": "code",
   "execution_count": 262,
   "metadata": {},
   "outputs": [
    {
     "data": {
      "text/plain": [
       "[(3, (773258.9413229808, 38791.84890341773)),\n",
       " (4, (762443.9986280887, 96895.11856476527)),\n",
       " (5, (754193.7345266572, 59340.768968570854)),\n",
       " (6, (747471.4452160773, 111862.6403616605)),\n",
       " (7, (747306.3653326664, 77502.77132435674)),\n",
       " (8, (743597.1365164719, 99369.73013875258)),\n",
       " (9, (746835.9175816558, 101025.77396539663)),\n",
       " (10, (743027.8487600452, 116051.62312058761))]"
      ]
     },
     "execution_count": 262,
     "metadata": {},
     "output_type": "execute_result"
    }
   ],
   "source": [
    "list(zip(n_splits, map(lambda x: (np.mean(x), np.std(x)), n_splits_scores)))"
   ]
  },
  {
   "cell_type": "code",
   "execution_count": 259,
   "metadata": {},
   "outputs": [
    {
     "data": {
      "image/png": "[encoded data removed]",
      "text/plain": [
       "<Figure size 1440x720 with 1 Axes>"
      ]
     },
     "metadata": {},
     "output_type": "display_data"
    }
   ],
   "source": [
    "plt.subplots(figsize=FIGSIZE)\n",
    "plt.plot(n_splits, list(map(np.mean, n_splits_scores)));"
   ]
  },
  {
   "cell_type": "code",
   "execution_count": 263,
   "metadata": {},
   "outputs": [
    {
     "data": {
      "application/vnd.jupyter.widget-view+json": {
       "model_id": "8eedfaa9091747b298164b8f91f37adf",
       "version_major": 2,
       "version_minor": 0
      },
      "text/plain": [
       "A Jupyter Widget"
      ]
     },
     "metadata": {},
     "output_type": "display_data"
    },
    {
     "name": "stdout",
     "output_type": "stream",
     "text": [
      "\n"
     ]
    }
   ],
   "source": [
    "n_clusters = [2, 3, 4, 5, 6, 7, 8]\n",
    "n_clusters_scores = []\n",
    "for n_cl in tqdm_notebook(n_clusters, total=len(n_clusters)):\n",
    "    _, score = prediction_cluster_folds(X_train.values, y_train, X_valid.values, pipe_lasso,\n",
    "                                       n_splits=7, n_clusters=n_cl)\n",
    "    n_clusters_scores.append(score)"
   ]
  },
  {
   "cell_type": "code",
   "execution_count": 265,
   "metadata": {
    "collapsed": true
   },
   "outputs": [],
   "source": [
    "n_clusters = 4\n",
    "n_splits = 7"
   ]
  },
  {
   "cell_type": "code",
   "execution_count": 296,
   "metadata": {
    "collapsed": true
   },
   "outputs": [],
   "source": [
    "pred, score = prediction_cluster_folds(X_train.values, y_train, X_valid.values, pipe_lasso,\n",
    "                                       n_splits=n_splits, n_clusters=n_clusters)"
   ]
  },
  {
   "cell_type": "markdown",
   "metadata": {},
   "source": [
    "### Submission clustered validation"
   ]
  },
  {
   "cell_type": "code",
   "execution_count": 276,
   "metadata": {
    "collapsed": true
   },
   "outputs": [],
   "source": [
    "scaler = StandardScaler()\n",
    "lasso = Lasso(alpha=5, random_state=SEED)\n",
    "pipe_lasso = Pipeline([('scaler', scaler),\n",
    "                       ('lr', lasso)])\n",
    "\n",
    "y_pred,scores = prediction_cluster_folds(X_train_full.values, y.values.reshape(-1,1), \n",
    "                                 X_test.values,\n",
    "                                 model=pipe_lasso,\n",
    "                                 n_clusters=n_clusters,\n",
    "                                 n_splits=n_splits)"
   ]
  },
  {
   "cell_type": "code",
   "execution_count": 278,
   "metadata": {
    "collapsed": true
   },
   "outputs": [],
   "source": [
    "submission = pd.DataFrame(test_initial['Id'], columns=['Id'])\n",
    "submission[target] = y_pred\n",
    "submission.to_csv('../data/submissions/baseline_v2_lasso_alpha5_cluster_folds.csv', index=False)"
   ]
  },
  {
   "cell_type": "markdown",
   "metadata": {},
   "source": [
    "### XGBoost"
   ]
  },
  {
   "cell_type": "code",
   "execution_count": 331,
   "metadata": {
    "collapsed": true
   },
   "outputs": [],
   "source": [
    "train_initial = pd.read_csv('../data/train.csv')\n",
    "test_initial = pd.read_csv('../data/test.csv')\n",
    "\n",
    "X_test = test_initial.drop('Id', axis=1)\n",
    "\n",
    "X = train_initial.drop(['Id', target], axis=1)\n",
    "y = train_initial[target].values.reshape(-1,1)\n",
    "\n",
    "X_train, X_valid, y_train, y_valid = train_test_split(X, y, test_size=.25,\n",
    "                                                     random_state=SEED,\n",
    "                                                     shuffle=True)"
   ]
  },
  {
   "cell_type": "code",
   "execution_count": 332,
   "metadata": {},
   "outputs": [
    {
     "data": {
      "text/plain": [
       "((3000, 285), (1000, 285), (3000, 1), (1000, 1))"
      ]
     },
     "execution_count": 332,
     "metadata": {},
     "output_type": "execute_result"
    }
   ],
   "source": [
    "X_train.shape, X_valid.shape, y_train.shape, y_valid.shape"
   ]
  },
  {
   "cell_type": "code",
   "execution_count": 333,
   "metadata": {
    "collapsed": true
   },
   "outputs": [],
   "source": [
    "# 4,257 - LabelEncoder\n",
    "# 258 - OneHot"
   ]
  },
  {
   "cell_type": "code",
   "execution_count": 334,
   "metadata": {
    "collapsed": true
   },
   "outputs": [],
   "source": [
    "catcols = X_train.select_dtypes(include='object').columns\n",
    "onehot = OneHotEncoder()\n",
    "\n",
    "train_trans = pd.DataFrame(onehot.fit_transform(X_train[catcols]).toarray())\n",
    "test_trans = pd.DataFrame(onehot.transform(X_valid[catcols]).toarray())\n",
    "\n",
    "X_train = pd.concat([X_train.drop(catcols, axis=1).reset_index(drop=True), \n",
    "                     train_trans], axis=1)\n",
    "\n",
    "X_valid = pd.concat([X_valid.drop(catcols, axis=1).reset_index(drop=True), \n",
    "                    test_trans], axis=1)\n",
    "\n",
    "\n",
    "catcols = X.select_dtypes(include='object').columns\n",
    "onehot = OneHotEncoder() \n",
    "\n",
    "train_trans = pd.DataFrame(onehot.fit_transform(X[catcols]).toarray())\n",
    "X_train_full = pd.concat([X.drop(catcols, axis=1).reset_index(drop=True),\n",
    "                    train_trans], axis=1)\n",
    "\n",
    "test_trans = pd.DataFrame(onehot.transform(X_test[catcols]).toarray())\n",
    "X_test = pd.concat([X_test.drop(catcols, axis=1).reset_index(drop=True), \n",
    "                    test_trans], axis=1)"
   ]
  },
  {
   "cell_type": "code",
   "execution_count": 327,
   "metadata": {
    "collapsed": true
   },
   "outputs": [],
   "source": [
    "xgb = XGBRegressor(random_state=SEED, n_jobs=-1)\n",
    "y_pred,scores = prediction_cluster_folds(X_train.values, y_train, \n",
    "                                 X_valid.values,\n",
    "                                 model=xgb,\n",
    "                                 n_clusters=n_clusters,\n",
    "                                 n_splits=n_splits)"
   ]
  },
  {
   "cell_type": "code",
   "execution_count": 337,
   "metadata": {},
   "outputs": [
    {
     "data": {
      "text/plain": [
       "(716218.6550778305, 89808.3724766475, 637866.1233504438)"
      ]
     },
     "execution_count": 337,
     "metadata": {},
     "output_type": "execute_result"
    }
   ],
   "source": [
    "np.mean(scores), np.std(scores), mean_squared_error(y_valid, y_pred)"
   ]
  },
  {
   "cell_type": "code",
   "execution_count": 339,
   "metadata": {
    "collapsed": true
   },
   "outputs": [],
   "source": [
    "xgb = XGBRegressor(random_state=SEED, n_jobs=-1)\n",
    "y_pred,scores = prediction_cluster_folds(X_train_full.values, y, \n",
    "                                 X_test.values,\n",
    "                                 model=xgb,\n",
    "                                 n_clusters=n_clusters,\n",
    "                                 n_splits=n_splits)"
   ]
  },
  {
   "cell_type": "code",
   "execution_count": 341,
   "metadata": {},
   "outputs": [
    {
     "data": {
      "text/plain": [
       "698149.7450907946"
      ]
     },
     "execution_count": 341,
     "metadata": {},
     "output_type": "execute_result"
    }
   ],
   "source": [
    "np.mean(scores)"
   ]
  },
  {
   "cell_type": "code",
   "execution_count": 353,
   "metadata": {
    "collapsed": true
   },
   "outputs": [],
   "source": [
    "zoo_models = [\n",
    "    ('CatBoost', CatBoostRegressor(iterations=100,\n",
    "                                   thread_count=4, \n",
    "                                   random_state=SEED, \n",
    "                                   verbose=False)),\n",
    "    ('XGBoost', XGBRegressor(random_state=SEED, n_jobs=-1)),\n",
    "    ('RandomForest', RandomForestRegressor(n_estimators=100, \n",
    "                                           random_state=SEED, \n",
    "                                           n_jobs=-1)),\n",
    "    ('ExtraTrees', ExtraTreesRegressor(n_estimators=100,\n",
    "                                       random_state=SEED, \n",
    "                                       n_jobs=-1)),\n",
    "    ('LGBM', LGBMRegressor(n_estimators=100,\n",
    "                           n_jobs=-1,\n",
    "                           random_state=SEED))\n",
    "]"
   ]
  },
  {
   "cell_type": "code",
   "execution_count": 354,
   "metadata": {},
   "outputs": [
    {
     "data": {
      "application/vnd.jupyter.widget-view+json": {
       "model_id": "b0ae2d995a6746f6a9eb99a9f8c9284a",
       "version_major": 2,
       "version_minor": 0
      },
      "text/plain": [
       "A Jupyter Widget"
      ]
     },
     "metadata": {},
     "output_type": "display_data"
    }
   ],
   "source": [
    "model_scores = {}\n",
    "for name, model in tqdm_notebook(zoo_models, total=(len(zoo_models))):\n",
    "    # score on train + validation voting\n",
    "    # score on full + prediction test\n",
    "    y_pred_val, scores_train = prediction_cluster_folds(X_train.values, y_train,\n",
    "                                                       X_valid.values,\n",
    "                                                       model=model,\n",
    "                                                       n_clusters=n_clusters,\n",
    "                                                       n_splits=n_splits)\n",
    "    y_pred_test, scores_full = prediction_cluster_folds(X_train_full.values, y,\n",
    "                                                       X_test.values,\n",
    "                                                       model=model,\n",
    "                                                       n_clusters=n_clusters,\n",
    "                                                       n_splits=n_splits)\n",
    "    \n",
    "    model_scores[name] = {\n",
    "        'pred_valid' : y_pred_val,\n",
    "        'pred_test' : y_pred_test,\n",
    "        'scores_train' : np.array(scores_train),\n",
    "        'scores_full' : np.array(scores_full),\n",
    "        'mae_valid' : mean_squared_error(y_valid, y_pred_val)\n",
    "    }"
   ]
  },
  {
   "cell_type": "code",
   "execution_count": 356,
   "metadata": {
    "scrolled": true
   },
   "outputs": [
    {
     "name": "stdout",
     "output_type": "stream",
     "text": [
      "Model: CatBoost\n",
      "Mean train: 929858.4751630237\n",
      "Std train: 127708.80448678655\n",
      "Mean full: 881692.2310086583\n",
      "Std full: 55752.54657923444\n",
      "Validation: 779426.7177991588\n",
      "\n",
      "\n",
      "\n",
      "Model: XGBoost\n",
      "Mean train: 716218.6550778305\n",
      "Std train: 89808.3724766475\n",
      "Mean full: 698149.7450907946\n",
      "Std full: 45240.41999339095\n",
      "Validation: 637866.1233504438\n",
      "\n",
      "\n",
      "\n",
      "Model: RandomForest\n",
      "Mean train: 791883.7644633049\n",
      "Std train: 92112.8389930899\n",
      "Mean full: 775546.8544052849\n",
      "Std full: 48400.52202883365\n",
      "Validation: 670876.8073864996\n",
      "\n",
      "\n",
      "\n",
      "Model: ExtraTrees\n",
      "Mean train: 801975.1820428595\n",
      "Std train: 98073.30715894233\n",
      "Mean full: 769823.1710923103\n",
      "Std full: 53770.62472490684\n",
      "Validation: 688629.5065191862\n",
      "\n",
      "\n",
      "\n",
      "Model: LGBM\n",
      "Mean train: 722804.0673068006\n",
      "Std train: 77914.65030905064\n",
      "Mean full: 693704.8302096423\n",
      "Std full: 45239.792479667754\n",
      "Validation: 604495.6481080331\n",
      "\n",
      "\n",
      "\n",
      "Ensemble MAE: 635686.745322792\n"
     ]
    }
   ],
   "source": [
    "ens_pred_val = np.zeros((X_valid.shape[0], 1))\n",
    "ens_pred_test = np.zeros((X_test.shape[0], 1))\n",
    "for name, info in model_scores.items():\n",
    "    print(\"Model: {}\\nMean train: {}\\nStd train: {}\\nMean full: {}\\nStd full: {}\\nValidation: {}\".\\\n",
    "              format(name, info['scores_train'].mean(), info['scores_train'].std(),\n",
    "                    info['scores_full'].mean(), info['scores_full'].std(),\n",
    "                    info['mae_valid']))\n",
    "    ens_pred_val += info['pred_valid']\n",
    "    ens_pred_test += info['pred_test']\n",
    "    print(\"\\n\\n\")\n",
    "ens_pred_val /= len(model_scores)\n",
    "ens_pred_test /= len(model_scores)\n",
    "\n",
    "print(\"Ensemble MAE: {}\".format(mean_squared_error(y_valid, ens_pred_val)))"
   ]
  },
  {
   "cell_type": "code",
   "execution_count": 358,
   "metadata": {
    "collapsed": true
   },
   "outputs": [],
   "source": [
    "zoo_models = [\n",
    "    ('XGBoost', XGBRegressor(n_estimators=100, \n",
    "                             random_state=SEED, \n",
    "                             n_jobs=-1)),\n",
    "    ('LGBM', LGBMRegressor(n_estimators=100,\n",
    "                           n_jobs=-1,\n",
    "                           random_state=SEED))\n",
    "]"
   ]
  },
  {
   "cell_type": "code",
   "execution_count": 359,
   "metadata": {},
   "outputs": [
    {
     "data": {
      "application/vnd.jupyter.widget-view+json": {
       "model_id": "86874c9b0fc3428b97152106b539305d",
       "version_major": 2,
       "version_minor": 0
      },
      "text/plain": [
       "A Jupyter Widget"
      ]
     },
     "metadata": {},
     "output_type": "display_data"
    }
   ],
   "source": [
    "model_scores = {}\n",
    "for name, model in tqdm_notebook(zoo_models, total=(len(zoo_models))):\n",
    "    # score on train + validation voting\n",
    "    # score on full + prediction test\n",
    "    y_pred_val, scores_train = prediction_cluster_folds(X_train.values, y_train,\n",
    "                                                       X_valid.values,\n",
    "                                                       model=model,\n",
    "                                                       n_clusters=n_clusters,\n",
    "                                                       n_splits=n_splits)\n",
    "    y_pred_test, scores_full = prediction_cluster_folds(X_train_full.values, y,\n",
    "                                                       X_test.values,\n",
    "                                                       model=model,\n",
    "                                                       n_clusters=n_clusters,\n",
    "                                                       n_splits=n_splits)\n",
    "    \n",
    "    model_scores[name] = {\n",
    "        'pred_valid' : y_pred_val,\n",
    "        'pred_test' : y_pred_test,\n",
    "        'scores_train' : np.array(scores_train),\n",
    "        'scores_full' : np.array(scores_full),\n",
    "        'mae_valid' : mean_squared_error(y_valid, y_pred_val)\n",
    "    }"
   ]
  },
  {
   "cell_type": "code",
   "execution_count": 360,
   "metadata": {},
   "outputs": [
    {
     "name": "stdout",
     "output_type": "stream",
     "text": [
      "Model: XGBoost\n",
      "Mean train: 716218.6550778305\n",
      "Std train: 89808.3724766475\n",
      "Mean full: 698149.7450907946\n",
      "Std full: 45240.41999339095\n",
      "Validation: 637866.1233504438\n",
      "\n",
      "\n",
      "\n",
      "Model: LGBM\n",
      "Mean train: 722804.0673068006\n",
      "Std train: 77914.65030905064\n",
      "Mean full: 693704.8302096423\n",
      "Std full: 45239.792479667754\n",
      "Validation: 604495.6481080331\n",
      "\n",
      "\n",
      "\n",
      "Ensemble MAE: 611213.3019625137\n"
     ]
    }
   ],
   "source": [
    "ens_pred_val = np.zeros((X_valid.shape[0], 1))\n",
    "ens_pred_test = np.zeros((X_test.shape[0], 1))\n",
    "for name, info in model_scores.items():\n",
    "    print(\"Model: {}\\nMean train: {}\\nStd train: {}\\nMean full: {}\\nStd full: {}\\nValidation: {}\".\\\n",
    "              format(name, info['scores_train'].mean(), info['scores_train'].std(),\n",
    "                    info['scores_full'].mean(), info['scores_full'].std(),\n",
    "                    info['mae_valid']))\n",
    "    ens_pred_val += info['pred_valid']\n",
    "    ens_pred_test += info['pred_test']\n",
    "    print(\"\\n\\n\")\n",
    "ens_pred_val /= len(model_scores)\n",
    "ens_pred_test /= len(model_scores)\n",
    "\n",
    "print(\"Ensemble MAE: {}\".format(mean_squared_error(y_valid, ens_pred_val)))"
   ]
  },
  {
   "cell_type": "code",
   "execution_count": 369,
   "metadata": {},
   "outputs": [
    {
     "data": {
      "text/plain": [
       "array([753768.34672743, 629008.29060344, 731138.69309687, 708485.0012532 ,\n",
       "       762030.14676007, 864644.19265361, 564455.91445019])"
      ]
     },
     "execution_count": 369,
     "metadata": {},
     "output_type": "execute_result"
    }
   ],
   "source": [
    "model_scores['XGBoost']['scores_train']"
   ]
  },
  {
   "cell_type": "code",
   "execution_count": 370,
   "metadata": {},
   "outputs": [
    {
     "data": {
      "text/plain": [
       "array([754246.51854658, 674997.56979072, 722618.38589954, 730882.10564584,\n",
       "       819251.63231499, 792797.40174887, 564834.85720107])"
      ]
     },
     "execution_count": 370,
     "metadata": {},
     "output_type": "execute_result"
    }
   ],
   "source": [
    "model_scores['LGBM']['scores_train']"
   ]
  },
  {
   "cell_type": "code",
   "execution_count": 365,
   "metadata": {
    "collapsed": true
   },
   "outputs": [],
   "source": [
    "lgbm = LGBMRegressor(n_estimators=100,\n",
    "                     n_jobs=-1, \n",
    "                     random_state=SEED)"
   ]
  },
  {
   "cell_type": "code",
   "execution_count": 366,
   "metadata": {
    "collapsed": true
   },
   "outputs": [],
   "source": [
    "y_pred_test, scores_full = prediction_cluster_folds(X_train_full.values, y,\n",
    "                                                       X_test.values,\n",
    "                                                       model=lgbm,\n",
    "                                                       n_clusters=n_clusters,\n",
    "                                                       n_splits=n_splits)"
   ]
  },
  {
   "cell_type": "code",
   "execution_count": 367,
   "metadata": {},
   "outputs": [
    {
     "data": {
      "text/plain": [
       "693704.8302096423"
      ]
     },
     "execution_count": 367,
     "metadata": {},
     "output_type": "execute_result"
    }
   ],
   "source": [
    "np.mean(scores_full)"
   ]
  },
  {
   "cell_type": "code",
   "execution_count": 368,
   "metadata": {
    "collapsed": true
   },
   "outputs": [],
   "source": [
    "submission = pd.DataFrame(test_initial['Id'], columns=['Id'])\n",
    "submission[target] = y_pred\n",
    "submission.to_csv('../data/submissions/lgb_oob_cluster_folds.csv', index=False)"
   ]
  },
  {
   "cell_type": "code",
   "execution_count": 351,
   "metadata": {
    "collapsed": true
   },
   "outputs": [],
   "source": [
    "from sklearn.base import clone\n",
    "\n",
    "def prediction_cluster_folds(train_X, train_y, test_X,model,\n",
    "                            n_clusters=4,n_splits=5):\n",
    "    \"\"\"\n",
    "        train_X -- ndarray\n",
    "        train_y -- ndarray with (n, 1) shape\n",
    "    \"\"\"\n",
    "    kmeans = KMeans(n_clusters=n_clusters, random_state=SEED)\n",
    "    predicted_target = kmeans.fit(train_y).predict(train_y)\n",
    "    \n",
    "    predictions_holdout = np.zeros((test_X.shape[0], 1))\n",
    "\n",
    "    scores = []\n",
    "    skf = StratifiedKFold(n_splits=n_splits, shuffle=True, random_state=SEED)\n",
    "\n",
    "    for (tr_ind, val_ind) in skf.split(train_X, predicted_target):\n",
    "        X_train_fold = train_X[tr_ind]\n",
    "        y_train_fold = np.squeeze(train_y[tr_ind])\n",
    "\n",
    "        X_valid_fold = train_X[val_ind]\n",
    "        y_valid_fold = np.squeeze(train_y[val_ind])\n",
    "\n",
    "        model_fold = clone(model)\n",
    "        y_pred = model_fold.fit(X_train_fold, y_train_fold).predict(X_valid_fold).reshape(-1,1)\n",
    "        scores.append(mean_squared_error(y_valid_fold, y_pred))\n",
    "\n",
    "        y_pred_holdout = model_fold.predict(test_X).reshape(-1,1)\n",
    "        predictions_holdout += y_pred_holdout\n",
    "    \n",
    "    predictions_holdout /= skf.n_splits\n",
    "    return predictions_holdout, scores"
   ]
  },
  {
   "cell_type": "code",
   "execution_count": 371,
   "metadata": {},
   "outputs": [
    {
     "data": {
      "text/plain": [
       "3.5"
      ]
     },
     "execution_count": 371,
     "metadata": {},
     "output_type": "execute_result"
    }
   ],
   "source": [
    "alpha=.5\n",
    "sum([(1-alpha)*1, (1-alpha)*1, (1-alpha)*1, (1-alpha)*0.5, alpha*0.5, alpha*1, alpha*1.5, alpha*0.5])"
   ]
  },
  {
   "cell_type": "markdown",
   "metadata": {},
   "source": [
    "### Fold ensembling"
   ]
  },
  {
   "cell_type": "code",
   "execution_count": 541,
   "metadata": {
    "collapsed": true
   },
   "outputs": [],
   "source": [
    "def prediction_cluster_folds_ensemble(train_X, train_y, test_X, models, \n",
    "                                      n_clusters=4,n_splits=5):\n",
    "    \"\"\"\n",
    "        train_X -- ndarray\n",
    "        train_y -- ndarray with (n, 1) shape\n",
    "    \"\"\"\n",
    "    kmeans = KMeans(n_clusters=n_clusters, random_state=SEED)\n",
    "    predicted_target = kmeans.fit(train_y).predict(train_y)\n",
    "    \n",
    "    predictions_holdout = np.zeros((test_X.shape[0], 1))\n",
    "\n",
    "    scores = []\n",
    "    skf = StratifiedKFold(n_splits=n_splits, shuffle=True, random_state=SEED)\n",
    "\n",
    "    for (tr_ind, val_ind) in skf.split(train_X, predicted_target):\n",
    "        X_train_fold = train_X[tr_ind]\n",
    "        y_train_fold = np.squeeze(train_y[tr_ind])\n",
    "\n",
    "        X_valid_fold = train_X[val_ind]\n",
    "        y_valid_fold = np.squeeze(train_y[val_ind])\n",
    "        \n",
    "        # ensembling weighting average\n",
    "        pred_test_inline = np.zeros((test_X.shape[0], 1))\n",
    "        pred_val_inline = np.zeros((X_valid_fold.shape[0], 1))\n",
    "        weight_sum = 0\n",
    "        for (alpha, model) in models:\n",
    "            model_fold = clone(model)\n",
    "            y_pred = model_fold.fit(X_train_fold, y_train_fold).predict(X_valid_fold).reshape(-1,1)\n",
    "            pred_val_inline += alpha * y_pred\n",
    "            \n",
    "            y_pred = model_fold.predict(test_X).reshape(-1,1)\n",
    "            pred_test_inline += alpha * y_pred\n",
    "            weight_sum += alpha\n",
    "        \n",
    "        pred_test_inline /= weight_sum\n",
    "        pred_val_inline /= weight_sum\n",
    "        ####\n",
    "        \n",
    "        scores.append(mean_squared_error(y_valid_fold, pred_val_inline))\n",
    "        predictions_holdout += pred_test_inline\n",
    "    \n",
    "    predictions_holdout /= skf.n_splits\n",
    "    return predictions_holdout, scores"
   ]
  },
  {
   "cell_type": "code",
   "execution_count": 437,
   "metadata": {
    "collapsed": true
   },
   "outputs": [],
   "source": [
    "alpha=0.5\n",
    "zoo_models = [ (alpha, XGBRegressor(n_estimators=100, \n",
    "                             random_state=SEED, \n",
    "                             n_jobs=-1)),\n",
    "              (alpha, LGBMRegressor(n_estimators=100,\n",
    "                           n_jobs=-1,\n",
    "                           random_state=SEED))\n",
    "]"
   ]
  },
  {
   "cell_type": "code",
   "execution_count": 438,
   "metadata": {
    "collapsed": true
   },
   "outputs": [],
   "source": [
    "y_pred, scores = prediction_cluster_folds_ensemble(X_train_full.values, y, \n",
    "                                                   X_test.values,  \n",
    "                                                   zoo_models, \n",
    "                                                   n_clusters=n_clusters, \n",
    "                                                   n_splits=n_splits)"
   ]
  },
  {
   "cell_type": "code",
   "execution_count": 401,
   "metadata": {},
   "outputs": [
    {
     "data": {
      "text/plain": [
       "array([[1929.54623243],\n",
       "       [1270.82565492],\n",
       "       [1034.32335008],\n",
       "       ...,\n",
       "       [2975.41445911],\n",
       "       [3056.62688327],\n",
       "       [1401.17709006]])"
      ]
     },
     "execution_count": 401,
     "metadata": {},
     "output_type": "execute_result"
    }
   ],
   "source": [
    "y_pred"
   ]
  },
  {
   "cell_type": "code",
   "execution_count": 393,
   "metadata": {},
   "outputs": [
    {
     "data": {
      "text/plain": [
       "[625346.0075192594,\n",
       " 619842.5695412367,\n",
       " 677113.1725212014,\n",
       " 713077.7088758622,\n",
       " 702744.0178411735,\n",
       " 747589.3518239736,\n",
       " 642595.9030634712]"
      ]
     },
     "execution_count": 393,
     "metadata": {},
     "output_type": "execute_result"
    }
   ],
   "source": [
    "scores"
   ]
  },
  {
   "cell_type": "code",
   "execution_count": 439,
   "metadata": {},
   "outputs": [
    {
     "data": {
      "text/plain": [
       "675472.6758837396"
      ]
     },
     "execution_count": 439,
     "metadata": {},
     "output_type": "execute_result"
    }
   ],
   "source": [
    "np.mean(scores)"
   ]
  },
  {
   "cell_type": "code",
   "execution_count": 395,
   "metadata": {},
   "outputs": [
    {
     "data": {
      "text/plain": [
       "44800.58127885088"
      ]
     },
     "execution_count": 395,
     "metadata": {},
     "output_type": "execute_result"
    }
   ],
   "source": [
    "np.std(scores)"
   ]
  },
  {
   "cell_type": "code",
   "execution_count": 402,
   "metadata": {
    "collapsed": true
   },
   "outputs": [],
   "source": [
    "submission = pd.DataFrame(test_initial['Id'], columns=['Id'])\n",
    "submission[target] = y_pred\n",
    "submission.to_csv('../data/submissions/lgb_xgb_oob_ensemble_cluster_folds.csv', index=False)"
   ]
  },
  {
   "cell_type": "markdown",
   "metadata": {},
   "source": [
    "### Adding other models to model zoo"
   ]
  },
  {
   "cell_type": "code",
   "execution_count": 403,
   "metadata": {
    "collapsed": true
   },
   "outputs": [],
   "source": [
    "from sklearn.linear_model import SGDRegressor\n",
    "from sklearn.preprocessing import PolynomialFeatures"
   ]
  },
  {
   "cell_type": "code",
   "execution_count": 501,
   "metadata": {
    "collapsed": true
   },
   "outputs": [],
   "source": [
    "scaler= StandardScaler()\n",
    "lr = SGDRegressor(loss='squared_loss', random_state=SEED, penalty='elasticnet',\n",
    "                 alpha=5, l1_ratio=.75)\n",
    "lasso = Lasso(alpha=5, random_state=SEED)\n",
    "pipe_sgd = Pipeline([('scaler', scaler),\n",
    "                       ('lr', lr)])\n",
    "\n",
    "pipe_lasso = Pipeline([('scaler', scaler),\n",
    "                       ('lr', lasso)])"
   ]
  },
  {
   "cell_type": "code",
   "execution_count": 459,
   "metadata": {
    "collapsed": true
   },
   "outputs": [],
   "source": [
    "y_pred, scores = prediction_cluster_folds(X_train.values, y_train, X_valid.values,\n",
    "                                          pipe_lasso,\n",
    "                                         n_clusters=n_clusters, n_splits=n_splits)"
   ]
  },
  {
   "cell_type": "code",
   "execution_count": 460,
   "metadata": {},
   "outputs": [
    {
     "data": {
      "text/plain": [
       "765127.2157820935"
      ]
     },
     "execution_count": 460,
     "metadata": {},
     "output_type": "execute_result"
    }
   ],
   "source": [
    "np.mean(scores)"
   ]
  },
  {
   "cell_type": "code",
   "execution_count": 453,
   "metadata": {},
   "outputs": [
    {
     "data": {
      "text/plain": [
       "[795034.401183603,\n",
       " 699441.898191981,\n",
       " 739502.0682594902,\n",
       " 760750.0294927062,\n",
       " 857297.1953839398,\n",
       " 785655.1573649837,\n",
       " 593463.8074519605]"
      ]
     },
     "execution_count": 453,
     "metadata": {},
     "output_type": "execute_result"
    }
   ],
   "source": [
    "scores"
   ]
  },
  {
   "cell_type": "code",
   "execution_count": 467,
   "metadata": {
    "collapsed": true
   },
   "outputs": [],
   "source": [
    "from sklearn.feature_selection import SelectFromModel"
   ]
  },
  {
   "cell_type": "code",
   "execution_count": 468,
   "metadata": {},
   "outputs": [
    {
     "data": {
      "text/plain": [
       "XGBRegressor(base_score=0.5, booster='gbtree', colsample_bylevel=1,\n",
       "       colsample_bytree=1, gamma=0, learning_rate=0.1, max_delta_step=0,\n",
       "       max_depth=3, min_child_weight=1, missing=None, n_estimators=100,\n",
       "       n_jobs=-1, nthread=None, objective='reg:linear', random_state=17,\n",
       "       reg_alpha=0, reg_lambda=1, scale_pos_weight=1, seed=None,\n",
       "       silent=True, subsample=1)"
      ]
     },
     "execution_count": 468,
     "metadata": {},
     "output_type": "execute_result"
    }
   ],
   "source": [
    "xgb = XGBRegressor(random_state=SEED, n_jobs=-1)\n",
    "xgb.fit(X_train_full, y)"
   ]
  },
  {
   "cell_type": "code",
   "execution_count": 475,
   "metadata": {
    "collapsed": true
   },
   "outputs": [],
   "source": [
    "feat_imp = list(zip(X_train_full.columns, xgb.feature_importances_))\n",
    "feat_imp = sorted(feat_imp, key=lambda x: x[1], reverse=True)"
   ]
  },
  {
   "cell_type": "code",
   "execution_count": 502,
   "metadata": {
    "collapsed": true
   },
   "outputs": [],
   "source": [
    "# select from model\n",
    "xgb = XGBRegressor(random_state=SEED, n_jobs=-1)\n",
    "lgb = LGBMRegressor(random_state=SEED, n_jobs=-1)\n",
    "lbg_xgb = Pipeline([('thresholding', SelectFromModel(xgb, threshold=0.001)),\n",
    "                   ('lbg', lgb)])"
   ]
  },
  {
   "cell_type": "code",
   "execution_count": 503,
   "metadata": {
    "collapsed": true
   },
   "outputs": [
    {
     "ename": "ValueError",
     "evalue": "The underlying estimator Pipeline has no `coef_` or `feature_importances_` attribute. Either pass a fitted estimator to SelectFromModel or call fit before calling transform.",
     "output_type": "error",
     "traceback": [
      "\u001b[0;31m---------------------------------------------------------------------------\u001b[0m",
      "\u001b[0;31mValueError\u001b[0m                                Traceback (most recent call last)",
      "\u001b[0;32m<ipython-input-503-e21e28a0fcf2>\u001b[0m in \u001b[0;36m<module>\u001b[0;34m()\u001b[0m\n\u001b[1;32m      1\u001b[0m y_pred, scores = prediction_cluster_folds(X_train_full.values, y, X_test.values,\n\u001b[1;32m      2\u001b[0m                                           \u001b[0mlbg_xgb\u001b[0m\u001b[0;34m,\u001b[0m\u001b[0;34m\u001b[0m\u001b[0;34m\u001b[0m\u001b[0m\n\u001b[0;32m----> 3\u001b[0;31m                                          n_clusters=n_clusters, n_splits=n_splits)\n\u001b[0m",
      "\u001b[0;32m<ipython-input-351-f4fc89c3682d>\u001b[0m in \u001b[0;36mprediction_cluster_folds\u001b[0;34m(train_X, train_y, test_X, model, n_clusters, n_splits)\u001b[0m\n\u001b[1;32m     18\u001b[0m \u001b[0;34m\u001b[0m\u001b[0m\n\u001b[1;32m     19\u001b[0m         \u001b[0mmodel_fold\u001b[0m \u001b[0;34m=\u001b[0m \u001b[0mclone\u001b[0m\u001b[0;34m(\u001b[0m\u001b[0mmodel\u001b[0m\u001b[0;34m)\u001b[0m\u001b[0;34m\u001b[0m\u001b[0;34m\u001b[0m\u001b[0m\n\u001b[0;32m---> 20\u001b[0;31m         \u001b[0my_pred\u001b[0m \u001b[0;34m=\u001b[0m \u001b[0mmodel_fold\u001b[0m\u001b[0;34m.\u001b[0m\u001b[0mfit\u001b[0m\u001b[0;34m(\u001b[0m\u001b[0mX_train_fold\u001b[0m\u001b[0;34m,\u001b[0m \u001b[0my_train_fold\u001b[0m\u001b[0;34m)\u001b[0m\u001b[0;34m.\u001b[0m\u001b[0mpredict\u001b[0m\u001b[0;34m(\u001b[0m\u001b[0mX_valid_fold\u001b[0m\u001b[0;34m)\u001b[0m\u001b[0;34m.\u001b[0m\u001b[0mreshape\u001b[0m\u001b[0;34m(\u001b[0m\u001b[0;34m-\u001b[0m\u001b[0;36m1\u001b[0m\u001b[0;34m,\u001b[0m\u001b[0;36m1\u001b[0m\u001b[0;34m)\u001b[0m\u001b[0;34m\u001b[0m\u001b[0;34m\u001b[0m\u001b[0m\n\u001b[0m\u001b[1;32m     21\u001b[0m         \u001b[0mscores\u001b[0m\u001b[0;34m.\u001b[0m\u001b[0mappend\u001b[0m\u001b[0;34m(\u001b[0m\u001b[0mmean_squared_error\u001b[0m\u001b[0;34m(\u001b[0m\u001b[0my_valid_fold\u001b[0m\u001b[0;34m,\u001b[0m \u001b[0my_pred\u001b[0m\u001b[0;34m)\u001b[0m\u001b[0;34m)\u001b[0m\u001b[0;34m\u001b[0m\u001b[0;34m\u001b[0m\u001b[0m\n\u001b[1;32m     22\u001b[0m \u001b[0;34m\u001b[0m\u001b[0m\n",
      "\u001b[0;32m~/anaconda3/lib/python3.6/site-packages/sklearn/pipeline.py\u001b[0m in \u001b[0;36mfit\u001b[0;34m(self, X, y, **fit_params)\u001b[0m\n\u001b[1;32m    263\u001b[0m             \u001b[0mThis\u001b[0m \u001b[0mestimator\u001b[0m\u001b[0;34m\u001b[0m\u001b[0;34m\u001b[0m\u001b[0m\n\u001b[1;32m    264\u001b[0m         \"\"\"\n\u001b[0;32m--> 265\u001b[0;31m         \u001b[0mXt\u001b[0m\u001b[0;34m,\u001b[0m \u001b[0mfit_params\u001b[0m \u001b[0;34m=\u001b[0m \u001b[0mself\u001b[0m\u001b[0;34m.\u001b[0m\u001b[0m_fit\u001b[0m\u001b[0;34m(\u001b[0m\u001b[0mX\u001b[0m\u001b[0;34m,\u001b[0m \u001b[0my\u001b[0m\u001b[0;34m,\u001b[0m \u001b[0;34m**\u001b[0m\u001b[0mfit_params\u001b[0m\u001b[0;34m)\u001b[0m\u001b[0;34m\u001b[0m\u001b[0;34m\u001b[0m\u001b[0m\n\u001b[0m\u001b[1;32m    266\u001b[0m         \u001b[0;32mif\u001b[0m \u001b[0mself\u001b[0m\u001b[0;34m.\u001b[0m\u001b[0m_final_estimator\u001b[0m \u001b[0;32mis\u001b[0m \u001b[0;32mnot\u001b[0m \u001b[0;32mNone\u001b[0m\u001b[0;34m:\u001b[0m\u001b[0;34m\u001b[0m\u001b[0;34m\u001b[0m\u001b[0m\n\u001b[1;32m    267\u001b[0m             \u001b[0mself\u001b[0m\u001b[0;34m.\u001b[0m\u001b[0m_final_estimator\u001b[0m\u001b[0;34m.\u001b[0m\u001b[0mfit\u001b[0m\u001b[0;34m(\u001b[0m\u001b[0mXt\u001b[0m\u001b[0;34m,\u001b[0m \u001b[0my\u001b[0m\u001b[0;34m,\u001b[0m \u001b[0;34m**\u001b[0m\u001b[0mfit_params\u001b[0m\u001b[0;34m)\u001b[0m\u001b[0;34m\u001b[0m\u001b[0;34m\u001b[0m\u001b[0m\n",
      "\u001b[0;32m~/anaconda3/lib/python3.6/site-packages/sklearn/pipeline.py\u001b[0m in \u001b[0;36m_fit\u001b[0;34m(self, X, y, **fit_params)\u001b[0m\n\u001b[1;32m    228\u001b[0m                 Xt, fitted_transformer = fit_transform_one_cached(\n\u001b[1;32m    229\u001b[0m                     \u001b[0mcloned_transformer\u001b[0m\u001b[0;34m,\u001b[0m \u001b[0mXt\u001b[0m\u001b[0;34m,\u001b[0m \u001b[0my\u001b[0m\u001b[0;34m,\u001b[0m \u001b[0;32mNone\u001b[0m\u001b[0;34m,\u001b[0m\u001b[0;34m\u001b[0m\u001b[0;34m\u001b[0m\u001b[0m\n\u001b[0;32m--> 230\u001b[0;31m                     **fit_params_steps[name])\n\u001b[0m\u001b[1;32m    231\u001b[0m                 \u001b[0;31m# Replace the transformer of the step with the fitted\u001b[0m\u001b[0;34m\u001b[0m\u001b[0;34m\u001b[0m\u001b[0;34m\u001b[0m\u001b[0m\n\u001b[1;32m    232\u001b[0m                 \u001b[0;31m# transformer. This is necessary when loading the transformer\u001b[0m\u001b[0;34m\u001b[0m\u001b[0;34m\u001b[0m\u001b[0;34m\u001b[0m\u001b[0m\n",
      "\u001b[0;32m~/anaconda3/lib/python3.6/site-packages/sklearn/externals/joblib/memory.py\u001b[0m in \u001b[0;36m__call__\u001b[0;34m(self, *args, **kwargs)\u001b[0m\n\u001b[1;32m    327\u001b[0m \u001b[0;34m\u001b[0m\u001b[0m\n\u001b[1;32m    328\u001b[0m     \u001b[0;32mdef\u001b[0m \u001b[0m__call__\u001b[0m\u001b[0;34m(\u001b[0m\u001b[0mself\u001b[0m\u001b[0;34m,\u001b[0m \u001b[0;34m*\u001b[0m\u001b[0margs\u001b[0m\u001b[0;34m,\u001b[0m \u001b[0;34m**\u001b[0m\u001b[0mkwargs\u001b[0m\u001b[0;34m)\u001b[0m\u001b[0;34m:\u001b[0m\u001b[0;34m\u001b[0m\u001b[0;34m\u001b[0m\u001b[0m\n\u001b[0;32m--> 329\u001b[0;31m         \u001b[0;32mreturn\u001b[0m \u001b[0mself\u001b[0m\u001b[0;34m.\u001b[0m\u001b[0mfunc\u001b[0m\u001b[0;34m(\u001b[0m\u001b[0;34m*\u001b[0m\u001b[0margs\u001b[0m\u001b[0;34m,\u001b[0m \u001b[0;34m**\u001b[0m\u001b[0mkwargs\u001b[0m\u001b[0;34m)\u001b[0m\u001b[0;34m\u001b[0m\u001b[0;34m\u001b[0m\u001b[0m\n\u001b[0m\u001b[1;32m    330\u001b[0m \u001b[0;34m\u001b[0m\u001b[0m\n\u001b[1;32m    331\u001b[0m     \u001b[0;32mdef\u001b[0m \u001b[0mcall_and_shelve\u001b[0m\u001b[0;34m(\u001b[0m\u001b[0mself\u001b[0m\u001b[0;34m,\u001b[0m \u001b[0;34m*\u001b[0m\u001b[0margs\u001b[0m\u001b[0;34m,\u001b[0m \u001b[0;34m**\u001b[0m\u001b[0mkwargs\u001b[0m\u001b[0;34m)\u001b[0m\u001b[0;34m:\u001b[0m\u001b[0;34m\u001b[0m\u001b[0;34m\u001b[0m\u001b[0m\n",
      "\u001b[0;32m~/anaconda3/lib/python3.6/site-packages/sklearn/pipeline.py\u001b[0m in \u001b[0;36m_fit_transform_one\u001b[0;34m(transformer, X, y, weight, **fit_params)\u001b[0m\n\u001b[1;32m    612\u001b[0m \u001b[0;32mdef\u001b[0m \u001b[0m_fit_transform_one\u001b[0m\u001b[0;34m(\u001b[0m\u001b[0mtransformer\u001b[0m\u001b[0;34m,\u001b[0m \u001b[0mX\u001b[0m\u001b[0;34m,\u001b[0m \u001b[0my\u001b[0m\u001b[0;34m,\u001b[0m \u001b[0mweight\u001b[0m\u001b[0;34m,\u001b[0m \u001b[0;34m**\u001b[0m\u001b[0mfit_params\u001b[0m\u001b[0;34m)\u001b[0m\u001b[0;34m:\u001b[0m\u001b[0;34m\u001b[0m\u001b[0;34m\u001b[0m\u001b[0m\n\u001b[1;32m    613\u001b[0m     \u001b[0;32mif\u001b[0m \u001b[0mhasattr\u001b[0m\u001b[0;34m(\u001b[0m\u001b[0mtransformer\u001b[0m\u001b[0;34m,\u001b[0m \u001b[0;34m'fit_transform'\u001b[0m\u001b[0;34m)\u001b[0m\u001b[0;34m:\u001b[0m\u001b[0;34m\u001b[0m\u001b[0;34m\u001b[0m\u001b[0m\n\u001b[0;32m--> 614\u001b[0;31m         \u001b[0mres\u001b[0m \u001b[0;34m=\u001b[0m \u001b[0mtransformer\u001b[0m\u001b[0;34m.\u001b[0m\u001b[0mfit_transform\u001b[0m\u001b[0;34m(\u001b[0m\u001b[0mX\u001b[0m\u001b[0;34m,\u001b[0m \u001b[0my\u001b[0m\u001b[0;34m,\u001b[0m \u001b[0;34m**\u001b[0m\u001b[0mfit_params\u001b[0m\u001b[0;34m)\u001b[0m\u001b[0;34m\u001b[0m\u001b[0;34m\u001b[0m\u001b[0m\n\u001b[0m\u001b[1;32m    615\u001b[0m     \u001b[0;32melse\u001b[0m\u001b[0;34m:\u001b[0m\u001b[0;34m\u001b[0m\u001b[0;34m\u001b[0m\u001b[0m\n\u001b[1;32m    616\u001b[0m         \u001b[0mres\u001b[0m \u001b[0;34m=\u001b[0m \u001b[0mtransformer\u001b[0m\u001b[0;34m.\u001b[0m\u001b[0mfit\u001b[0m\u001b[0;34m(\u001b[0m\u001b[0mX\u001b[0m\u001b[0;34m,\u001b[0m \u001b[0my\u001b[0m\u001b[0;34m,\u001b[0m \u001b[0;34m**\u001b[0m\u001b[0mfit_params\u001b[0m\u001b[0;34m)\u001b[0m\u001b[0;34m.\u001b[0m\u001b[0mtransform\u001b[0m\u001b[0;34m(\u001b[0m\u001b[0mX\u001b[0m\u001b[0;34m)\u001b[0m\u001b[0;34m\u001b[0m\u001b[0;34m\u001b[0m\u001b[0m\n",
      "\u001b[0;32m~/anaconda3/lib/python3.6/site-packages/sklearn/base.py\u001b[0m in \u001b[0;36mfit_transform\u001b[0;34m(self, X, y, **fit_params)\u001b[0m\n\u001b[1;32m    463\u001b[0m         \u001b[0;32melse\u001b[0m\u001b[0;34m:\u001b[0m\u001b[0;34m\u001b[0m\u001b[0;34m\u001b[0m\u001b[0m\n\u001b[1;32m    464\u001b[0m             \u001b[0;31m# fit method of arity 2 (supervised transformation)\u001b[0m\u001b[0;34m\u001b[0m\u001b[0;34m\u001b[0m\u001b[0;34m\u001b[0m\u001b[0m\n\u001b[0;32m--> 465\u001b[0;31m             \u001b[0;32mreturn\u001b[0m \u001b[0mself\u001b[0m\u001b[0;34m.\u001b[0m\u001b[0mfit\u001b[0m\u001b[0;34m(\u001b[0m\u001b[0mX\u001b[0m\u001b[0;34m,\u001b[0m \u001b[0my\u001b[0m\u001b[0;34m,\u001b[0m \u001b[0;34m**\u001b[0m\u001b[0mfit_params\u001b[0m\u001b[0;34m)\u001b[0m\u001b[0;34m.\u001b[0m\u001b[0mtransform\u001b[0m\u001b[0;34m(\u001b[0m\u001b[0mX\u001b[0m\u001b[0;34m)\u001b[0m\u001b[0;34m\u001b[0m\u001b[0;34m\u001b[0m\u001b[0m\n\u001b[0m\u001b[1;32m    466\u001b[0m \u001b[0;34m\u001b[0m\u001b[0m\n\u001b[1;32m    467\u001b[0m \u001b[0;34m\u001b[0m\u001b[0m\n",
      "\u001b[0;32m~/anaconda3/lib/python3.6/site-packages/sklearn/feature_selection/base.py\u001b[0m in \u001b[0;36mtransform\u001b[0;34m(self, X)\u001b[0m\n\u001b[1;32m     74\u001b[0m         \"\"\"\n\u001b[1;32m     75\u001b[0m         \u001b[0mX\u001b[0m \u001b[0;34m=\u001b[0m \u001b[0mcheck_array\u001b[0m\u001b[0;34m(\u001b[0m\u001b[0mX\u001b[0m\u001b[0;34m,\u001b[0m \u001b[0mdtype\u001b[0m\u001b[0;34m=\u001b[0m\u001b[0;32mNone\u001b[0m\u001b[0;34m,\u001b[0m \u001b[0maccept_sparse\u001b[0m\u001b[0;34m=\u001b[0m\u001b[0;34m'csr'\u001b[0m\u001b[0;34m)\u001b[0m\u001b[0;34m\u001b[0m\u001b[0;34m\u001b[0m\u001b[0m\n\u001b[0;32m---> 76\u001b[0;31m         \u001b[0mmask\u001b[0m \u001b[0;34m=\u001b[0m \u001b[0mself\u001b[0m\u001b[0;34m.\u001b[0m\u001b[0mget_support\u001b[0m\u001b[0;34m(\u001b[0m\u001b[0;34m)\u001b[0m\u001b[0;34m\u001b[0m\u001b[0;34m\u001b[0m\u001b[0m\n\u001b[0m\u001b[1;32m     77\u001b[0m         \u001b[0;32mif\u001b[0m \u001b[0;32mnot\u001b[0m \u001b[0mmask\u001b[0m\u001b[0;34m.\u001b[0m\u001b[0many\u001b[0m\u001b[0;34m(\u001b[0m\u001b[0;34m)\u001b[0m\u001b[0;34m:\u001b[0m\u001b[0;34m\u001b[0m\u001b[0;34m\u001b[0m\u001b[0m\n\u001b[1;32m     78\u001b[0m             warn(\"No features were selected: either the data is\"\n",
      "\u001b[0;32m~/anaconda3/lib/python3.6/site-packages/sklearn/feature_selection/base.py\u001b[0m in \u001b[0;36mget_support\u001b[0;34m(self, indices)\u001b[0m\n\u001b[1;32m     45\u001b[0m             \u001b[0mvalues\u001b[0m \u001b[0mare\u001b[0m \u001b[0mindices\u001b[0m \u001b[0minto\u001b[0m \u001b[0mthe\u001b[0m \u001b[0minput\u001b[0m \u001b[0mfeature\u001b[0m \u001b[0mvector\u001b[0m\u001b[0;34m.\u001b[0m\u001b[0;34m\u001b[0m\u001b[0;34m\u001b[0m\u001b[0m\n\u001b[1;32m     46\u001b[0m         \"\"\"\n\u001b[0;32m---> 47\u001b[0;31m         \u001b[0mmask\u001b[0m \u001b[0;34m=\u001b[0m \u001b[0mself\u001b[0m\u001b[0;34m.\u001b[0m\u001b[0m_get_support_mask\u001b[0m\u001b[0;34m(\u001b[0m\u001b[0;34m)\u001b[0m\u001b[0;34m\u001b[0m\u001b[0;34m\u001b[0m\u001b[0m\n\u001b[0m\u001b[1;32m     48\u001b[0m         \u001b[0;32mreturn\u001b[0m \u001b[0mmask\u001b[0m \u001b[0;32mif\u001b[0m \u001b[0;32mnot\u001b[0m \u001b[0mindices\u001b[0m \u001b[0;32melse\u001b[0m \u001b[0mnp\u001b[0m\u001b[0;34m.\u001b[0m\u001b[0mwhere\u001b[0m\u001b[0;34m(\u001b[0m\u001b[0mmask\u001b[0m\u001b[0;34m)\u001b[0m\u001b[0;34m[\u001b[0m\u001b[0;36m0\u001b[0m\u001b[0;34m]\u001b[0m\u001b[0;34m\u001b[0m\u001b[0;34m\u001b[0m\u001b[0m\n\u001b[1;32m     49\u001b[0m \u001b[0;34m\u001b[0m\u001b[0m\n",
      "\u001b[0;32m~/anaconda3/lib/python3.6/site-packages/sklearn/feature_selection/from_model.py\u001b[0m in \u001b[0;36m_get_support_mask\u001b[0;34m(self)\u001b[0m\n\u001b[1;32m    151\u001b[0m                              \u001b[0;34m' \"prefit=True\" while passing the fitted'\u001b[0m\u001b[0;34m\u001b[0m\u001b[0;34m\u001b[0m\u001b[0m\n\u001b[1;32m    152\u001b[0m                              ' estimator to the constructor.')\n\u001b[0;32m--> 153\u001b[0;31m         \u001b[0mscores\u001b[0m \u001b[0;34m=\u001b[0m \u001b[0m_get_feature_importances\u001b[0m\u001b[0;34m(\u001b[0m\u001b[0mestimator\u001b[0m\u001b[0;34m,\u001b[0m \u001b[0mself\u001b[0m\u001b[0;34m.\u001b[0m\u001b[0mnorm_order\u001b[0m\u001b[0;34m)\u001b[0m\u001b[0;34m\u001b[0m\u001b[0;34m\u001b[0m\u001b[0m\n\u001b[0m\u001b[1;32m    154\u001b[0m         \u001b[0mthreshold\u001b[0m \u001b[0;34m=\u001b[0m \u001b[0m_calculate_threshold\u001b[0m\u001b[0;34m(\u001b[0m\u001b[0mestimator\u001b[0m\u001b[0;34m,\u001b[0m \u001b[0mscores\u001b[0m\u001b[0;34m,\u001b[0m \u001b[0mself\u001b[0m\u001b[0;34m.\u001b[0m\u001b[0mthreshold\u001b[0m\u001b[0;34m)\u001b[0m\u001b[0;34m\u001b[0m\u001b[0;34m\u001b[0m\u001b[0m\n\u001b[1;32m    155\u001b[0m         \u001b[0;32mif\u001b[0m \u001b[0mself\u001b[0m\u001b[0;34m.\u001b[0m\u001b[0mmax_features\u001b[0m \u001b[0;32mis\u001b[0m \u001b[0;32mnot\u001b[0m \u001b[0;32mNone\u001b[0m\u001b[0;34m:\u001b[0m\u001b[0;34m\u001b[0m\u001b[0;34m\u001b[0m\u001b[0m\n",
      "\u001b[0;32m~/anaconda3/lib/python3.6/site-packages/sklearn/feature_selection/from_model.py\u001b[0m in \u001b[0;36m_get_feature_importances\u001b[0;34m(estimator, norm_order)\u001b[0m\n\u001b[1;32m     31\u001b[0m             \u001b[0;34m\"`feature_importances_` attribute. Either pass a fitted estimator\"\u001b[0m\u001b[0;34m\u001b[0m\u001b[0;34m\u001b[0m\u001b[0m\n\u001b[1;32m     32\u001b[0m             \u001b[0;34m\" to SelectFromModel or call fit before calling transform.\"\u001b[0m\u001b[0;34m\u001b[0m\u001b[0;34m\u001b[0m\u001b[0m\n\u001b[0;32m---> 33\u001b[0;31m             % estimator.__class__.__name__)\n\u001b[0m\u001b[1;32m     34\u001b[0m \u001b[0;34m\u001b[0m\u001b[0m\n\u001b[1;32m     35\u001b[0m     \u001b[0;32mreturn\u001b[0m \u001b[0mimportances\u001b[0m\u001b[0;34m\u001b[0m\u001b[0;34m\u001b[0m\u001b[0m\n",
      "\u001b[0;31mValueError\u001b[0m: The underlying estimator Pipeline has no `coef_` or `feature_importances_` attribute. Either pass a fitted estimator to SelectFromModel or call fit before calling transform."
     ]
    }
   ],
   "source": [
    "y_pred, scores = prediction_cluster_folds(X_train_full.values, y, X_test.values,\n",
    "                                          lbg_xgb,\n",
    "                                         n_clusters=n_clusters, n_splits=n_splits)"
   ]
  },
  {
   "cell_type": "code",
   "execution_count": 499,
   "metadata": {},
   "outputs": [
    {
     "data": {
      "text/plain": [
       "[678552.4237016721,\n",
       " 632358.7996325137,\n",
       " 663717.566859581,\n",
       " 690697.7417200186,\n",
       " 730495.3908282985,\n",
       " 762235.6630082164,\n",
       " 675359.9843554054]"
      ]
     },
     "execution_count": 499,
     "metadata": {},
     "output_type": "execute_result"
    }
   ],
   "source": [
    "scores"
   ]
  },
  {
   "cell_type": "code",
   "execution_count": 504,
   "metadata": {},
   "outputs": [
    {
     "data": {
      "text/plain": [
       "(690488.224300815, 40027.37870877716)"
      ]
     },
     "execution_count": 504,
     "metadata": {},
     "output_type": "execute_result"
    }
   ],
   "source": [
    "np.mean(scores), np.std(scores)"
   ]
  },
  {
   "cell_type": "code",
   "execution_count": 505,
   "metadata": {
    "collapsed": true
   },
   "outputs": [],
   "source": [
    "from sklearn.decomposition import TruncatedSVD"
   ]
  },
  {
   "cell_type": "code",
   "execution_count": 514,
   "metadata": {
    "collapsed": true
   },
   "outputs": [],
   "source": [
    "# svd\n",
    "n_components = 125\n",
    "lgb_svd = Pipeline([('pca', TruncatedSVD(n_components=n_components, random_state=SEED)),\n",
    "                   ('lgb', LGBMRegressor(random_state=SEED, n_jobs=-1))])"
   ]
  },
  {
   "cell_type": "code",
   "execution_count": 515,
   "metadata": {
    "collapsed": true
   },
   "outputs": [],
   "source": [
    "y_pred, scores = prediction_cluster_folds(X_train.values, y_train, X_valid.values,\n",
    "                                          lgb_svd,\n",
    "                                         n_clusters=n_clusters, n_splits=n_splits)"
   ]
  },
  {
   "cell_type": "code",
   "execution_count": 516,
   "metadata": {},
   "outputs": [
    {
     "data": {
      "text/plain": [
       "[1002462.6617691228,\n",
       " 919870.7383011793,\n",
       " 1014781.6468730615,\n",
       " 923379.8154887427,\n",
       " 1139536.720011712,\n",
       " 926164.4959365788,\n",
       " 911029.2126179399]"
      ]
     },
     "execution_count": 516,
     "metadata": {},
     "output_type": "execute_result"
    }
   ],
   "source": [
    "scores"
   ]
  },
  {
   "cell_type": "code",
   "execution_count": 517,
   "metadata": {},
   "outputs": [
    {
     "data": {
      "text/plain": [
       "976746.4701426197"
      ]
     },
     "execution_count": 517,
     "metadata": {},
     "output_type": "execute_result"
    }
   ],
   "source": [
    "np.mean(scores)"
   ]
  },
  {
   "cell_type": "code",
   "execution_count": 518,
   "metadata": {
    "collapsed": true
   },
   "outputs": [],
   "source": [
    "# trying with lasso"
   ]
  },
  {
   "cell_type": "code",
   "execution_count": 542,
   "metadata": {
    "collapsed": true
   },
   "outputs": [],
   "source": [
    "scaler= StandardScaler()\n",
    "lasso = Lasso(alpha=10, random_state=SEED, max_iter=1000)\n",
    "pipe_lasso = Pipeline([('scaler', scaler),\n",
    "                       ('lr', lasso)])\n",
    "\n",
    "alpha=0.5\n",
    "zoo_models = [ (.7, XGBRegressor(n_estimators=100, \n",
    "                             random_state=SEED, \n",
    "                             n_jobs=-1)),\n",
    "              (1, LGBMRegressor(n_estimators=100,\n",
    "                           n_jobs=-1,\n",
    "                           random_state=SEED)),\n",
    "              (.5, pipe_lasso)\n",
    "]"
   ]
  },
  {
   "cell_type": "code",
   "execution_count": 543,
   "metadata": {
    "collapsed": true
   },
   "outputs": [],
   "source": [
    "y_pred, scores = prediction_cluster_folds_ensemble(X_train_full.values, y, \n",
    "                                                   X_test.values,  \n",
    "                                                   zoo_models, \n",
    "                                                   n_clusters=n_clusters, \n",
    "                                                   n_splits=n_splits)"
   ]
  },
  {
   "cell_type": "code",
   "execution_count": 544,
   "metadata": {},
   "outputs": [
    {
     "data": {
      "text/plain": [
       "(664285.1684316786, 44823.61363952092)"
      ]
     },
     "execution_count": 544,
     "metadata": {},
     "output_type": "execute_result"
    }
   ],
   "source": [
    "np.mean(scores), np.std(scores)"
   ]
  },
  {
   "cell_type": "code",
   "execution_count": 533,
   "metadata": {
    "collapsed": true
   },
   "outputs": [],
   "source": [
    "# did not improve the result\n",
    "submission = pd.DataFrame(test_initial['Id'], columns=['Id'])\n",
    "submission[target] = y_pred\n",
    "submission.to_csv('../data/submissions/lgb_xgb_oob_lasso5_ensemble_cluster_folds.csv', index=False)"
   ]
  },
  {
   "cell_type": "markdown",
   "metadata": {
    "collapsed": true
   },
   "source": [
    "### Combine some overcomplex stuff"
   ]
  },
  {
   "cell_type": "code",
   "execution_count": 545,
   "metadata": {
    "collapsed": true
   },
   "outputs": [],
   "source": [
    "cbt = .5\n",
    "ss = .5\n",
    "nest_lgb=1\n",
    "nest_xgb=1\n",
    "alphas = [.3, .4, .5, .7, .1, .2, .3, .5]\n",
    "zoo_models = [\n",
    "\n",
    "    LGBMRegressor(num_leaves=2, \n",
    "                  learning_rate=0.07, \n",
    "                  n_estimators=int(500*nest_lgb), \n",
    "                  colsample_bytree=cbt, \n",
    "                  subsample=ss,n_jobs=-1, random_state=SEED),\n",
    "    LGBMRegressor(num_leaves=3, \n",
    "                  learning_rate=0.07, \n",
    "                  n_estimators=int(400*nest_lgb),\n",
    "                  colsample_bytree=cbt, \n",
    "                  subsample=ss,\n",
    "                  n_jobs=-1, random_state=SEED+1),\n",
    "    LGBMRegressor(num_leaves=4, \n",
    "                  learning_rate=0.07, \n",
    "                  n_estimators=int(300*nest_lgb),\n",
    "                  colsample_bytree=cbt, \n",
    "                  subsample=ss,\n",
    "                  n_jobs=-1, random_state=SEED+2),\n",
    "    LGBMRegressor(num_leaves=5, \n",
    "                  learning_rate=0.07, \n",
    "                  n_estimators=int(200*nest_lgb),\n",
    "                  colsample_bytree=cbt, \n",
    "                  subsample=ss,\n",
    "                  n_jobs=-1, random_state=SEED+3),\n",
    "    \n",
    "    \n",
    "    XGBRegressor(max_depth=1,\n",
    "                 learning_rate=0.1,\n",
    "                 n_estimators=int(400*nest_xgb),\n",
    "                 subsample=ss,\n",
    "                 colsample_bytree=cbt,\n",
    "                 n_jobs=-1,\n",
    "                 random_state=0+SEED),\n",
    "    XGBRegressor(max_depth=2,\n",
    "                 learning_rate=0.1,\n",
    "                 n_estimators=int(300*nest_xgb),\n",
    "                 subsample=ss,\n",
    "                 colsample_bytree=cbt,\n",
    "                 n_jobs=-1,\n",
    "                 random_state=1+SEED),\n",
    "    XGBRegressor(max_depth=3,\n",
    "                 learning_rate=0.1,\n",
    "                 n_estimators=int(200*nest_xgb),\n",
    "                 subsample=ss,\n",
    "                 colsample_bytree=cbt,\n",
    "                 n_jobs=-1,\n",
    "                 random_state=2+SEED),\n",
    "    XGBRegressor(max_depth=4,\n",
    "                 learning_rate=0.1,\n",
    "                 n_estimators=int(100*nest_xgb),\n",
    "                 subsample=ss,\n",
    "                 colsample_bytree=cbt,\n",
    "                 n_jobs=-1,\n",
    "                 random_state=3+SEED)\n",
    "]"
   ]
  },
  {
   "cell_type": "code",
   "execution_count": 546,
   "metadata": {
    "collapsed": true
   },
   "outputs": [],
   "source": [
    "zoo_models = list(zip(alphas, zoo_models))"
   ]
  },
  {
   "cell_type": "code",
   "execution_count": 551,
   "metadata": {},
   "outputs": [
    {
     "data": {
      "text/plain": [
       "8"
      ]
     },
     "execution_count": 551,
     "metadata": {},
     "output_type": "execute_result"
    }
   ],
   "source": [
    "len(zoo_models)"
   ]
  },
  {
   "cell_type": "code",
   "execution_count": 548,
   "metadata": {},
   "outputs": [
    {
     "name": "stdout",
     "output_type": "stream",
     "text": [
      "CPU times: user 2min 33s, sys: 2.2 s, total: 2min 35s\n",
      "Wall time: 2min 6s\n"
     ]
    }
   ],
   "source": [
    "%%time\n",
    "y_pred, scores = prediction_cluster_folds_ensemble(X_train_full.values, y, \n",
    "                                                   X_test.values,  \n",
    "                                                   zoo_models, \n",
    "                                                   n_clusters=n_clusters,\n",
    "                                                   n_splits=n_splits)"
   ]
  },
  {
   "cell_type": "code",
   "execution_count": 549,
   "metadata": {},
   "outputs": [
    {
     "data": {
      "text/plain": [
       "(671611.1942929082, 50291.65300299337)"
      ]
     },
     "execution_count": 549,
     "metadata": {},
     "output_type": "execute_result"
    }
   ],
   "source": [
    "np.mean(scores), np.std(scores)"
   ]
  },
  {
   "cell_type": "code",
   "execution_count": 550,
   "metadata": {
    "collapsed": true
   },
   "outputs": [],
   "source": [
    "submission = pd.DataFrame(test_initial['Id'], columns=['Id'])\n",
    "submission[target] = y_pred\n",
    "submission.to_csv('../data/submissions/lgb_xgb_big_ensemble_cluster_folds.csv', index=False)"
   ]
  },
  {
   "cell_type": "code",
   "execution_count": null,
   "metadata": {
    "collapsed": true
   },
   "outputs": [],
   "source": []
  }
 ],
 "metadata": {
  "kernelspec": {
   "display_name": "Python 3",
   "language": "python",
   "name": "python3"
  },
  "language_info": {
   "codemirror_mode": {
    "name": "ipython",
    "version": 3
   },
   "file_extension": ".py",
   "mimetype": "text/x-python",
   "name": "python",
   "nbconvert_exporter": "python",
   "pygments_lexer": "ipython3",
   "version": "3.6.8"
  }
 },
 "nbformat": 4,
 "nbformat_minor": 2
}
