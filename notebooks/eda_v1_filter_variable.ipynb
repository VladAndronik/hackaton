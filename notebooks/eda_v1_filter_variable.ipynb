{
 "cells": [
  {
   "cell_type": "code",
   "execution_count": 40,
   "metadata": {
    "collapsed": true
   },
   "outputs": [],
   "source": [
    "%matplotlib inline\n",
    "\n",
    "import pandas as pd\n",
    "import numpy as np\n",
    "\n",
    "import matplotlib.pyplot as plt\n",
    "import seaborn as sns\n",
    "\n",
    "FIGSIZE=(20,10)"
   ]
  },
  {
   "cell_type": "code",
   "execution_count": 41,
   "metadata": {
    "collapsed": true
   },
   "outputs": [],
   "source": [
    "data = pd.read_csv('../data/train.csv')"
   ]
  },
  {
   "cell_type": "code",
   "execution_count": 42,
   "metadata": {
    "collapsed": true
   },
   "outputs": [],
   "source": [
    "test = pd.read_csv('../data/test.csv')"
   ]
  },
  {
   "cell_type": "code",
   "execution_count": 43,
   "metadata": {},
   "outputs": [
    {
     "data": {
      "text/plain": [
       "((4000, 287), (1686, 286))"
      ]
     },
     "execution_count": 43,
     "metadata": {},
     "output_type": "execute_result"
    }
   ],
   "source": [
    "data.shape, test.shape"
   ]
  },
  {
   "cell_type": "code",
   "execution_count": 44,
   "metadata": {},
   "outputs": [],
   "source": [
    "colna_tr = data.isna().sum() > 0\n",
    "colna_tr = colna_tr[colna_tr].index.tolist()\n",
    "\n",
    "colna_tt = test.isna().sum() > 0\n",
    "colna_tt = colna_tt[colna_tt].index.tolist()"
   ]
  },
  {
   "cell_type": "code",
   "execution_count": 45,
   "metadata": {},
   "outputs": [
    {
     "data": {
      "text/plain": [
       "(0, 0)"
      ]
     },
     "execution_count": 45,
     "metadata": {},
     "output_type": "execute_result"
    }
   ],
   "source": [
    "len(colna_tr), len(colna_tt)"
   ]
  },
  {
   "cell_type": "markdown",
   "metadata": {},
   "source": [
    "## Filtering"
   ]
  },
  {
   "cell_type": "markdown",
   "metadata": {},
   "source": [
    "### Looking on data, trying to reduce the number of features by filtering out non-variative ones"
   ]
  },
  {
   "cell_type": "code",
   "execution_count": 46,
   "metadata": {
    "collapsed": true
   },
   "outputs": [],
   "source": [
    "catbytype_cols = data.select_dtypes(include=['object']).columns.tolist()"
   ]
  },
  {
   "cell_type": "code",
   "execution_count": 47,
   "metadata": {
    "collapsed": true
   },
   "outputs": [],
   "source": [
    "cols_use = set(data.columns) - set(['Id', 'Energy_consumption']) - set(catbytype_cols)"
   ]
  },
  {
   "cell_type": "code",
   "execution_count": 48,
   "metadata": {
    "collapsed": true
   },
   "outputs": [],
   "source": [
    "cols_freq = list(zip(cols_use, map(lambda x: data[x].nunique(), cols_use)))\n",
    "cols_freq = [(x[0], x[1], x[1]/data.shape[0]) for x in cols_freq]\n",
    "cols_freq = sorted(cols_freq, key=lambda x: x[1], reverse=True)"
   ]
  },
  {
   "cell_type": "code",
   "execution_count": 49,
   "metadata": {},
   "outputs": [
    {
     "data": {
      "text/plain": [
       "281"
      ]
     },
     "execution_count": 49,
     "metadata": {},
     "output_type": "execute_result"
    }
   ],
   "source": [
    "len(cols_freq)"
   ]
  },
  {
   "cell_type": "code",
   "execution_count": 50,
   "metadata": {},
   "outputs": [
    {
     "data": {
      "text/plain": [
       "[('feature_253', 3740, 0.935),\n",
       " ('feature_262', 3266, 0.8165),\n",
       " ('feature_259', 2985, 0.74625),\n",
       " ('feature_260', 2952, 0.738),\n",
       " ('feature_264', 2715, 0.67875),\n",
       " ('feature_255', 2379, 0.59475),\n",
       " ('feature_268', 2305, 0.57625),\n",
       " ('feature_254', 2242, 0.5605),\n",
       " ('feature_261', 2167, 0.54175),\n",
       " ('feature_269', 2005, 0.50125),\n",
       " ('feature_270', 1912, 0.478),\n",
       " ('feature_250', 1865, 0.46625),\n",
       " ('feature_248', 1853, 0.46325),\n",
       " ('feature_249', 1815, 0.45375),\n",
       " ('feature_265', 1456, 0.364),\n",
       " ('feature_271', 1277, 0.31925),\n",
       " ('feature_251', 1219, 0.30475),\n",
       " ('feature_256', 718, 0.1795),\n",
       " ('feature_252', 679, 0.16975),\n",
       " ('feature_272', 600, 0.15),\n",
       " ('feature_274', 402, 0.1005),\n",
       " ('feature_273', 267, 0.06675),\n",
       " ('feature_275', 264, 0.066),\n",
       " ('feature_278', 217, 0.05425),\n",
       " ('feature_277', 215, 0.05375),\n",
       " ('feature_267', 215, 0.05375),\n",
       " ('feature_279', 210, 0.0525),\n",
       " ('feature_276', 155, 0.03875),\n",
       " ('feature_266', 136, 0.034),\n",
       " ('feature_200', 68, 0.017),\n",
       " ('feature_68', 47, 0.01175),\n",
       " ('feature_280', 44, 0.011),\n",
       " ('feature_168', 43, 0.01075),\n",
       " ('feature_59', 41, 0.01025),\n",
       " ('feature_148', 38, 0.0095),\n",
       " ('feature_263', 38, 0.0095),\n",
       " ('feature_128', 37, 0.00925),\n",
       " ('feature_129', 36, 0.009),\n",
       " ('feature_224', 35, 0.00875),\n",
       " ('feature_149', 35, 0.00875),\n",
       " ('feature_150', 35, 0.00875),\n",
       " ('feature_127', 33, 0.00825),\n",
       " ('feature_221', 29, 0.00725),\n",
       " ('feature_281', 28, 0.007),\n",
       " ('feature_63', 28, 0.007),\n",
       " ('feature_92', 25, 0.00625),\n",
       " ('feature_86', 24, 0.006),\n",
       " ('feature_60', 21, 0.00525),\n",
       " ('feature_66', 20, 0.005),\n",
       " ('feature_21', 19, 0.00475),\n",
       " ('feature_81', 19, 0.00475),\n",
       " ('feature_137', 14, 0.0035),\n",
       " ('feature_20', 14, 0.0035),\n",
       " ('feature_33', 14, 0.0035),\n",
       " ('feature_37', 13, 0.00325),\n",
       " ('feature_155', 13, 0.00325),\n",
       " ('feature_160', 13, 0.00325),\n",
       " ('feature_205', 11, 0.00275),\n",
       " ('feature_156', 11, 0.00275),\n",
       " ('feature_121', 11, 0.00275),\n",
       " ('feature_2', 10, 0.0025),\n",
       " ('feature_112', 10, 0.0025),\n",
       " ('feature_104', 10, 0.0025),\n",
       " ('feature_103', 10, 0.0025),\n",
       " ('feature_94', 10, 0.0025),\n",
       " ('feature_106', 10, 0.0025),\n",
       " ('feature_157', 9, 0.00225),\n",
       " ('feature_111', 9, 0.00225),\n",
       " ('feature_17', 9, 0.00225),\n",
       " ('feature_25', 9, 0.00225),\n",
       " ('feature_42', 9, 0.00225),\n",
       " ('feature_15', 8, 0.002),\n",
       " ('feature_23', 8, 0.002),\n",
       " ('feature_14', 8, 0.002),\n",
       " ('feature_113', 8, 0.002),\n",
       " ('feature_158', 8, 0.002),\n",
       " ('feature_110', 8, 0.002),\n",
       " ('feature_115', 8, 0.002),\n",
       " ('feature_22', 8, 0.002),\n",
       " ('feature_206', 8, 0.002),\n",
       " ('feature_209', 8, 0.002),\n",
       " ('feature_107', 8, 0.002),\n",
       " ('feature_145', 8, 0.002),\n",
       " ('feature_105', 8, 0.002),\n",
       " ('feature_207', 8, 0.002),\n",
       " ('feature_109', 8, 0.002),\n",
       " ('feature_147', 7, 0.00175),\n",
       " ('feature_116', 7, 0.00175),\n",
       " ('feature_54', 7, 0.00175),\n",
       " ('feature_49', 7, 0.00175),\n",
       " ('feature_146', 7, 0.00175),\n",
       " ('feature_45', 7, 0.00175),\n",
       " ('feature_132', 7, 0.00175),\n",
       " ('feature_122', 7, 0.00175),\n",
       " ('feature_126', 7, 0.00175),\n",
       " ('feature_18', 7, 0.00175),\n",
       " ('feature_83', 7, 0.00175),\n",
       " ('feature_123', 7, 0.00175),\n",
       " ('feature_141', 7, 0.00175),\n",
       " ('feature_26', 7, 0.00175),\n",
       " ('feature_71', 7, 0.00175),\n",
       " ('feature_89', 7, 0.00175),\n",
       " ('feature_108', 7, 0.00175),\n",
       " ('feature_161', 7, 0.00175),\n",
       " ('feature_93', 7, 0.00175),\n",
       " ('feature_166', 7, 0.00175),\n",
       " ('feature_208', 6, 0.0015),\n",
       " ('feature_53', 6, 0.0015),\n",
       " ('feature_203', 6, 0.0015),\n",
       " ('feature_48', 6, 0.0015),\n",
       " ('feature_56', 6, 0.0015),\n",
       " ('feature_283', 6, 0.0015),\n",
       " ('feature_43', 6, 0.0015),\n",
       " ('feature_98', 6, 0.0015),\n",
       " ('feature_97', 6, 0.0015),\n",
       " ('feature_101', 6, 0.0015),\n",
       " ('feature_100', 6, 0.0015),\n",
       " ('feature_131', 6, 0.0015),\n",
       " ('feature_47', 6, 0.0015),\n",
       " ('feature_35', 6, 0.0015),\n",
       " ('feature_114', 6, 0.0015),\n",
       " ('feature_102', 6, 0.0015),\n",
       " ('feature_38', 6, 0.0015),\n",
       " ('feature_82', 6, 0.0015),\n",
       " ('feature_50', 6, 0.0015),\n",
       " ('feature_96', 6, 0.0015),\n",
       " ('feature_163', 6, 0.0015),\n",
       " ('feature_10', 6, 0.0015),\n",
       " ('feature_144', 6, 0.0015),\n",
       " ('feature_44', 6, 0.0015),\n",
       " ('feature_173', 5, 0.00125),\n",
       " ('feature_70', 5, 0.00125),\n",
       " ('feature_170', 5, 0.00125),\n",
       " ('feature_164', 5, 0.00125),\n",
       " ('feature_204', 5, 0.00125),\n",
       " ('feature_180', 5, 0.00125),\n",
       " ('feature_186', 5, 0.00125),\n",
       " ('feature_51', 5, 0.00125),\n",
       " ('feature_195', 5, 0.00125),\n",
       " ('feature_169', 5, 0.00125),\n",
       " ('feature_187', 5, 0.00125),\n",
       " ('feature_67', 5, 0.00125),\n",
       " ('feature_19', 5, 0.00125),\n",
       " ('feature_194', 5, 0.00125),\n",
       " ('feature_185', 5, 0.00125),\n",
       " ('feature_184', 5, 0.00125),\n",
       " ('feature_95', 5, 0.00125),\n",
       " ('feature_183', 5, 0.00125),\n",
       " ('feature_181', 5, 0.00125),\n",
       " ('feature_171', 5, 0.00125),\n",
       " ('feature_28', 5, 0.00125),\n",
       " ('feature_179', 5, 0.00125),\n",
       " ('feature_282', 5, 0.00125),\n",
       " ('feature_5', 5, 0.00125),\n",
       " ('feature_182', 5, 0.00125),\n",
       " ('feature_167', 5, 0.00125),\n",
       " ('feature_99', 5, 0.00125),\n",
       " ('feature_177', 5, 0.00125),\n",
       " ('feature_178', 5, 0.00125),\n",
       " ('feature_193', 5, 0.00125),\n",
       " ('feature_198', 4, 0.001),\n",
       " ('feature_285', 4, 0.001),\n",
       " ('feature_191', 4, 0.001),\n",
       " ('feature_88', 4, 0.001),\n",
       " ('feature_197', 4, 0.001),\n",
       " ('feature_190', 4, 0.001),\n",
       " ('feature_176', 4, 0.001),\n",
       " ('feature_219', 4, 0.001),\n",
       " ('feature_188', 4, 0.001),\n",
       " ('feature_139', 4, 0.001),\n",
       " ('feature_217', 4, 0.001),\n",
       " ('feature_284', 4, 0.001),\n",
       " ('feature_189', 4, 0.001),\n",
       " ('feature_87', 4, 0.001),\n",
       " ('feature_62', 4, 0.001),\n",
       " ('feature_1', 4, 0.001),\n",
       " ('feature_29', 4, 0.001),\n",
       " ('feature_196', 4, 0.001),\n",
       " ('feature_65', 4, 0.001),\n",
       " ('feature_91', 4, 0.001),\n",
       " ('feature_218', 4, 0.001),\n",
       " ('feature_12', 4, 0.001),\n",
       " ('feature_55', 4, 0.001),\n",
       " ('feature_30', 4, 0.001),\n",
       " ('feature_57', 4, 0.001),\n",
       " ('feature_175', 4, 0.001),\n",
       " ('feature_192', 4, 0.001),\n",
       " ('feature_41', 3, 0.00075),\n",
       " ('feature_222', 3, 0.00075),\n",
       " ('feature_40', 3, 0.00075),\n",
       " ('feature_6', 3, 0.00075),\n",
       " ('feature_143', 3, 0.00075),\n",
       " ('feature_34', 3, 0.00075),\n",
       " ('feature_215', 3, 0.00075),\n",
       " ('feature_225', 3, 0.00075),\n",
       " ('feature_52', 3, 0.00075),\n",
       " ('feature_246', 3, 0.00075),\n",
       " ('feature_154', 3, 0.00075),\n",
       " ('feature_165', 3, 0.00075),\n",
       " ('feature_140', 3, 0.00075),\n",
       " ('feature_64', 3, 0.00075),\n",
       " ('feature_39', 3, 0.00075),\n",
       " ('feature_151', 3, 0.00075),\n",
       " ('feature_13', 3, 0.00075),\n",
       " ('feature_213', 3, 0.00075),\n",
       " ('feature_118', 3, 0.00075),\n",
       " ('feature_201', 3, 0.00075),\n",
       " ('feature_32', 3, 0.00075),\n",
       " ('feature_174', 3, 0.00075),\n",
       " ('feature_216', 3, 0.00075),\n",
       " ('feature_162', 3, 0.00075),\n",
       " ('feature_24', 3, 0.00075),\n",
       " ('feature_9', 3, 0.00075),\n",
       " ('feature_58', 3, 0.00075),\n",
       " ('feature_85', 3, 0.00075),\n",
       " ('feature_61', 3, 0.00075),\n",
       " ('feature_11', 3, 0.00075),\n",
       " ('feature_8', 3, 0.00075),\n",
       " ('feature_46', 3, 0.00075),\n",
       " ('feature_124', 3, 0.00075),\n",
       " ('feature_16', 3, 0.00075),\n",
       " ('feature_27', 3, 0.00075),\n",
       " ('feature_245', 3, 0.00075),\n",
       " ('feature_7', 3, 0.00075),\n",
       " ('feature_211', 3, 0.00075),\n",
       " ('feature_130', 3, 0.00075),\n",
       " ('feature_142', 3, 0.00075),\n",
       " ('feature_152', 3, 0.00075),\n",
       " ('feature_134', 3, 0.00075),\n",
       " ('feature_120', 3, 0.00075),\n",
       " ('feature_135', 3, 0.00075),\n",
       " ('feature_212', 3, 0.00075),\n",
       " ('feature_133', 3, 0.00075),\n",
       " ('feature_244', 3, 0.00075),\n",
       " ('feature_153', 3, 0.00075),\n",
       " ('feature_125', 3, 0.00075),\n",
       " ('feature_220', 3, 0.00075),\n",
       " ('feature_214', 3, 0.00075),\n",
       " ('feature_210', 2, 0.0005),\n",
       " ('feature_234', 2, 0.0005),\n",
       " ('feature_239', 2, 0.0005),\n",
       " ('feature_75', 2, 0.0005),\n",
       " ('feature_136', 2, 0.0005),\n",
       " ('feature_202', 2, 0.0005),\n",
       " ('feature_238', 2, 0.0005),\n",
       " ('feature_72', 2, 0.0005),\n",
       " ('feature_119', 2, 0.0005),\n",
       " ('feature_79', 2, 0.0005),\n",
       " ('feature_159', 2, 0.0005),\n",
       " ('feature_233', 2, 0.0005),\n",
       " ('feature_74', 2, 0.0005),\n",
       " ('feature_69', 2, 0.0005),\n",
       " ('feature_117', 2, 0.0005),\n",
       " ('feature_241', 2, 0.0005),\n",
       " ('feature_80', 2, 0.0005),\n",
       " ('feature_243', 2, 0.0005),\n",
       " ('feature_229', 2, 0.0005),\n",
       " ('feature_84', 2, 0.0005),\n",
       " ('feature_90', 2, 0.0005),\n",
       " ('feature_235', 2, 0.0005),\n",
       " ('feature_236', 2, 0.0005),\n",
       " ('feature_76', 2, 0.0005),\n",
       " ('feature_227', 2, 0.0005),\n",
       " ('feature_36', 2, 0.0005),\n",
       " ('feature_247', 2, 0.0005),\n",
       " ('feature_31', 2, 0.0005),\n",
       " ('feature_242', 2, 0.0005),\n",
       " ('feature_232', 2, 0.0005),\n",
       " ('feature_223', 2, 0.0005),\n",
       " ('feature_237', 2, 0.0005),\n",
       " ('feature_138', 2, 0.0005),\n",
       " ('feature_172', 2, 0.0005),\n",
       " ('feature_230', 2, 0.0005),\n",
       " ('feature_77', 2, 0.0005),\n",
       " ('feature_199', 2, 0.0005),\n",
       " ('feature_240', 2, 0.0005),\n",
       " ('feature_78', 2, 0.0005),\n",
       " ('feature_228', 2, 0.0005),\n",
       " ('feature_73', 2, 0.0005),\n",
       " ('feature_226', 1, 0.00025),\n",
       " ('feature_231', 1, 0.00025)]"
      ]
     },
     "execution_count": 50,
     "metadata": {},
     "output_type": "execute_result"
    }
   ],
   "source": [
    "cols_freq"
   ]
  },
  {
   "cell_type": "code",
   "execution_count": 51,
   "metadata": {},
   "outputs": [
    {
     "name": "stdout",
     "output_type": "stream",
     "text": [
      "<class 'pandas.core.frame.DataFrame'>\n",
      "RangeIndex: 4000 entries, 0 to 3999\n",
      "Columns: 287 entries, Id to Energy_consumption\n",
      "dtypes: float64(22), int64(261), object(4)\n",
      "memory usage: 8.8+ MB\n"
     ]
    }
   ],
   "source": [
    "data.info()"
   ]
  },
  {
   "cell_type": "code",
   "execution_count": 52,
   "metadata": {
    "collapsed": true
   },
   "outputs": [],
   "source": [
    "cols_int = data.select_dtypes(include=['int']).columns.tolist()\n",
    "cols_float = set(cols_use) - set(cols_int)"
   ]
  },
  {
   "cell_type": "code",
   "execution_count": 53,
   "metadata": {
    "collapsed": true
   },
   "outputs": [],
   "source": [
    "cols_int_freq = list(filter(lambda x: x[0] in cols_int, cols_freq))\n",
    "cols_float_freq = list(filter(lambda x: x[0] in cols_float, cols_freq))"
   ]
  },
  {
   "cell_type": "code",
   "execution_count": 54,
   "metadata": {},
   "outputs": [
    {
     "data": {
      "text/plain": [
       "(21, 260)"
      ]
     },
     "execution_count": 54,
     "metadata": {},
     "output_type": "execute_result"
    }
   ],
   "source": [
    "len(cols_float_freq), len(cols_int_freq)"
   ]
  },
  {
   "cell_type": "code",
   "execution_count": 55,
   "metadata": {
    "scrolled": true
   },
   "outputs": [
    {
     "data": {
      "text/plain": [
       "[('feature_253', 3740, 0.935),\n",
       " ('feature_262', 3266, 0.8165),\n",
       " ('feature_264', 2715, 0.67875),\n",
       " ('feature_268', 2305, 0.57625),\n",
       " ('feature_269', 2005, 0.50125),\n",
       " ('feature_270', 1912, 0.478),\n",
       " ('feature_265', 1456, 0.364),\n",
       " ('feature_271', 1277, 0.31925),\n",
       " ('feature_272', 600, 0.15),\n",
       " ('feature_274', 402, 0.1005),\n",
       " ('feature_273', 267, 0.06675),\n",
       " ('feature_275', 264, 0.066),\n",
       " ('feature_278', 217, 0.05425),\n",
       " ('feature_277', 215, 0.05375),\n",
       " ('feature_267', 215, 0.05375),\n",
       " ('feature_279', 210, 0.0525),\n",
       " ('feature_276', 155, 0.03875),\n",
       " ('feature_266', 136, 0.034),\n",
       " ('feature_280', 44, 0.011),\n",
       " ('feature_263', 38, 0.0095),\n",
       " ('feature_281', 28, 0.007)]"
      ]
     },
     "execution_count": 55,
     "metadata": {},
     "output_type": "execute_result"
    }
   ],
   "source": [
    "cols_float_freq"
   ]
  },
  {
   "cell_type": "code",
   "execution_count": 56,
   "metadata": {
    "collapsed": true
   },
   "outputs": [],
   "source": [
    "# drop features with only unique value\n",
    "cols_drop = [x[0] for x in cols_int_freq if x[1] == 1]"
   ]
  },
  {
   "cell_type": "code",
   "execution_count": 57,
   "metadata": {},
   "outputs": [
    {
     "data": {
      "text/plain": [
       "['feature_226', 'feature_231']"
      ]
     },
     "execution_count": 57,
     "metadata": {},
     "output_type": "execute_result"
    }
   ],
   "source": [
    "cols_drop"
   ]
  },
  {
   "cell_type": "markdown",
   "metadata": {},
   "source": [
    "### Filter out features with low variability"
   ]
  },
  {
   "cell_type": "code",
   "execution_count": 58,
   "metadata": {
    "collapsed": true
   },
   "outputs": [],
   "source": [
    "get_variability = lambda x: x.value_counts(normalize=True).iloc[0]\n",
    "col_var = list(zip(cols_use, map(lambda x: get_variability(data[x]), cols_use)))\n",
    "col_var = sorted(col_var, key=lambda x:x[1], reverse=True)"
   ]
  },
  {
   "cell_type": "code",
   "execution_count": 59,
   "metadata": {
    "collapsed": true
   },
   "outputs": [],
   "source": [
    "var_ratio = 0.95\n",
    "cols_drop = set([x[0] for x in col_var if x[1] >= 0.90]).union(set(cols_drop))"
   ]
  },
  {
   "cell_type": "code",
   "execution_count": 60,
   "metadata": {},
   "outputs": [
    {
     "data": {
      "text/plain": [
       "42"
      ]
     },
     "execution_count": 60,
     "metadata": {},
     "output_type": "execute_result"
    }
   ],
   "source": [
    "len(cols_drop)"
   ]
  },
  {
   "cell_type": "code",
   "execution_count": 61,
   "metadata": {
    "collapsed": true
   },
   "outputs": [],
   "source": [
    "data.drop(cols_drop, axis=1, inplace=True)\n",
    "test.drop(cols_drop, axis=1, inplace=True)"
   ]
  },
  {
   "cell_type": "code",
   "execution_count": 62,
   "metadata": {
    "collapsed": true
   },
   "outputs": [],
   "source": [
    "# recompute staff for categorical/numerical distinction by frequency of unique values\n",
    "cols_use = set(data.columns) - set(['Id', 'Energy_consumption']) - set(catbytype_cols)\n",
    "\n",
    "cols_freq = list(zip(cols_use, map(lambda x: data[x].nunique(), cols_use)))\n",
    "cols_freq = sorted(cols_freq, key=lambda x: x[1], reverse=True)\n",
    "cols_freq = [(x[0], x[1], x[1]/data.shape[0]) for x in cols_freq]\n",
    "\n",
    "cols_int = data.select_dtypes(include=['int']).columns.tolist()\n",
    "cols_float = set(cols_use) - set(cols_int)\n",
    "\n",
    "cols_int_freq = list(filter(lambda x: x[0] in cols_int, cols_freq))\n",
    "cols_float_freq = list(filter(lambda x: x[0] in cols_float, cols_freq))"
   ]
  },
  {
   "cell_type": "code",
   "execution_count": 63,
   "metadata": {},
   "outputs": [
    {
     "data": {
      "text/plain": [
       "[('feature_259', 2985, 0.74625),\n",
       " ('feature_260', 2952, 0.738),\n",
       " ('feature_255', 2379, 0.59475),\n",
       " ('feature_254', 2242, 0.5605),\n",
       " ('feature_261', 2167, 0.54175),\n",
       " ('feature_250', 1865, 0.46625),\n",
       " ('feature_248', 1853, 0.46325),\n",
       " ('feature_249', 1815, 0.45375),\n",
       " ('feature_251', 1219, 0.30475),\n",
       " ('feature_256', 718, 0.1795),\n",
       " ('feature_252', 679, 0.16975),\n",
       " ('feature_200', 68, 0.017),\n",
       " ('feature_68', 47, 0.01175),\n",
       " ('feature_168', 43, 0.01075),\n",
       " ('feature_59', 41, 0.01025),\n",
       " ('feature_148', 38, 0.0095),\n",
       " ('feature_128', 37, 0.00925),\n",
       " ('feature_129', 36, 0.009),\n",
       " ('feature_149', 35, 0.00875),\n",
       " ('feature_150', 35, 0.00875),\n",
       " ('feature_127', 33, 0.00825),\n",
       " ('feature_63', 28, 0.007),\n",
       " ('feature_92', 25, 0.00625),\n",
       " ('feature_86', 24, 0.006),\n",
       " ('feature_60', 21, 0.00525),\n",
       " ('feature_66', 20, 0.005),\n",
       " ('feature_21', 19, 0.00475),\n",
       " ('feature_81', 19, 0.00475),\n",
       " ('feature_20', 14, 0.0035),\n",
       " ('feature_137', 14, 0.0035),\n",
       " ('feature_155', 13, 0.00325),\n",
       " ('feature_160', 13, 0.00325),\n",
       " ('feature_121', 11, 0.00275),\n",
       " ('feature_156', 11, 0.00275),\n",
       " ('feature_205', 11, 0.00275),\n",
       " ('feature_104', 10, 0.0025),\n",
       " ('feature_103', 10, 0.0025),\n",
       " ('feature_2', 10, 0.0025),\n",
       " ('feature_94', 10, 0.0025),\n",
       " ('feature_112', 10, 0.0025),\n",
       " ('feature_106', 10, 0.0025),\n",
       " ('feature_157', 9, 0.00225),\n",
       " ('feature_111', 9, 0.00225),\n",
       " ('feature_17', 9, 0.00225),\n",
       " ('feature_25', 9, 0.00225),\n",
       " ('feature_42', 9, 0.00225),\n",
       " ('feature_115', 8, 0.002),\n",
       " ('feature_22', 8, 0.002),\n",
       " ('feature_15', 8, 0.002),\n",
       " ('feature_23', 8, 0.002),\n",
       " ('feature_206', 8, 0.002),\n",
       " ('feature_14', 8, 0.002),\n",
       " ('feature_209', 8, 0.002),\n",
       " ('feature_113', 8, 0.002),\n",
       " ('feature_107', 8, 0.002),\n",
       " ('feature_158', 8, 0.002),\n",
       " ('feature_145', 8, 0.002),\n",
       " ('feature_110', 8, 0.002),\n",
       " ('feature_207', 8, 0.002),\n",
       " ('feature_109', 8, 0.002),\n",
       " ('feature_126', 7, 0.00175),\n",
       " ('feature_147', 7, 0.00175),\n",
       " ('feature_18', 7, 0.00175),\n",
       " ('feature_116', 7, 0.00175),\n",
       " ('feature_83', 7, 0.00175),\n",
       " ('feature_123', 7, 0.00175),\n",
       " ('feature_141', 7, 0.00175),\n",
       " ('feature_26', 7, 0.00175),\n",
       " ('feature_54', 7, 0.00175),\n",
       " ('feature_49', 7, 0.00175),\n",
       " ('feature_146', 7, 0.00175),\n",
       " ('feature_71', 7, 0.00175),\n",
       " ('feature_89', 7, 0.00175),\n",
       " ('feature_108', 7, 0.00175),\n",
       " ('feature_45', 7, 0.00175),\n",
       " ('feature_161', 7, 0.00175),\n",
       " ('feature_93', 7, 0.00175),\n",
       " ('feature_132', 7, 0.00175),\n",
       " ('feature_122', 7, 0.00175),\n",
       " ('feature_131', 6, 0.0015),\n",
       " ('feature_47', 6, 0.0015),\n",
       " ('feature_114', 6, 0.0015),\n",
       " ('feature_208', 6, 0.0015),\n",
       " ('feature_53', 6, 0.0015),\n",
       " ('feature_203', 6, 0.0015),\n",
       " ('feature_48', 6, 0.0015),\n",
       " ('feature_102', 6, 0.0015),\n",
       " ('feature_82', 6, 0.0015),\n",
       " ('feature_56', 6, 0.0015),\n",
       " ('feature_50', 6, 0.0015),\n",
       " ('feature_283', 6, 0.0015),\n",
       " ('feature_43', 6, 0.0015),\n",
       " ('feature_98', 6, 0.0015),\n",
       " ('feature_96', 6, 0.0015),\n",
       " ('feature_163', 6, 0.0015),\n",
       " ('feature_97', 6, 0.0015),\n",
       " ('feature_101', 6, 0.0015),\n",
       " ('feature_10', 6, 0.0015),\n",
       " ('feature_144', 6, 0.0015),\n",
       " ('feature_44', 6, 0.0015),\n",
       " ('feature_100', 6, 0.0015),\n",
       " ('feature_95', 5, 0.00125),\n",
       " ('feature_173', 5, 0.00125),\n",
       " ('feature_70', 5, 0.00125),\n",
       " ('feature_183', 5, 0.00125),\n",
       " ('feature_170', 5, 0.00125),\n",
       " ('feature_181', 5, 0.00125),\n",
       " ('feature_164', 5, 0.00125),\n",
       " ('feature_204', 5, 0.00125),\n",
       " ('feature_171', 5, 0.00125),\n",
       " ('feature_180', 5, 0.00125),\n",
       " ('feature_186', 5, 0.00125),\n",
       " ('feature_28', 5, 0.00125),\n",
       " ('feature_51', 5, 0.00125),\n",
       " ('feature_169', 5, 0.00125),\n",
       " ('feature_179', 5, 0.00125),\n",
       " ('feature_187', 5, 0.00125),\n",
       " ('feature_282', 5, 0.00125),\n",
       " ('feature_5', 5, 0.00125),\n",
       " ('feature_182', 5, 0.00125),\n",
       " ('feature_167', 5, 0.00125),\n",
       " ('feature_19', 5, 0.00125),\n",
       " ('feature_194', 5, 0.00125),\n",
       " ('feature_99', 5, 0.00125),\n",
       " ('feature_177', 5, 0.00125),\n",
       " ('feature_185', 5, 0.00125),\n",
       " ('feature_178', 5, 0.00125),\n",
       " ('feature_193', 5, 0.00125),\n",
       " ('feature_184', 5, 0.00125),\n",
       " ('feature_198', 4, 0.001),\n",
       " ('feature_285', 4, 0.001),\n",
       " ('feature_87', 4, 0.001),\n",
       " ('feature_62', 4, 0.001),\n",
       " ('feature_1', 4, 0.001),\n",
       " ('feature_191', 4, 0.001),\n",
       " ('feature_88', 4, 0.001),\n",
       " ('feature_197', 4, 0.001),\n",
       " ('feature_29', 4, 0.001),\n",
       " ('feature_196', 4, 0.001),\n",
       " ('feature_190', 4, 0.001),\n",
       " ('feature_176', 4, 0.001),\n",
       " ('feature_65', 4, 0.001),\n",
       " ('feature_91', 4, 0.001),\n",
       " ('feature_219', 4, 0.001),\n",
       " ('feature_188', 4, 0.001),\n",
       " ('feature_12', 4, 0.001),\n",
       " ('feature_139', 4, 0.001),\n",
       " ('feature_217', 4, 0.001),\n",
       " ('feature_55', 4, 0.001),\n",
       " ('feature_30', 4, 0.001),\n",
       " ('feature_175', 4, 0.001),\n",
       " ('feature_189', 4, 0.001),\n",
       " ('feature_41', 3, 0.00075),\n",
       " ('feature_40', 3, 0.00075),\n",
       " ('feature_6', 3, 0.00075),\n",
       " ('feature_143', 3, 0.00075),\n",
       " ('feature_85', 3, 0.00075),\n",
       " ('feature_61', 3, 0.00075),\n",
       " ('feature_11', 3, 0.00075),\n",
       " ('feature_52', 3, 0.00075),\n",
       " ('feature_8', 3, 0.00075),\n",
       " ('feature_46', 3, 0.00075),\n",
       " ('feature_246', 3, 0.00075),\n",
       " ('feature_154', 3, 0.00075),\n",
       " ('feature_165', 3, 0.00075),\n",
       " ('feature_124', 3, 0.00075),\n",
       " ('feature_16', 3, 0.00075),\n",
       " ('feature_27', 3, 0.00075),\n",
       " ('feature_245', 3, 0.00075),\n",
       " ('feature_7', 3, 0.00075),\n",
       " ('feature_140', 3, 0.00075),\n",
       " ('feature_130', 3, 0.00075),\n",
       " ('feature_64', 3, 0.00075),\n",
       " ('feature_39', 3, 0.00075),\n",
       " ('feature_142', 3, 0.00075),\n",
       " ('feature_151', 3, 0.00075),\n",
       " ('feature_13', 3, 0.00075),\n",
       " ('feature_152', 3, 0.00075),\n",
       " ('feature_134', 3, 0.00075),\n",
       " ('feature_118', 3, 0.00075),\n",
       " ('feature_201', 3, 0.00075),\n",
       " ('feature_135', 3, 0.00075),\n",
       " ('feature_32', 3, 0.00075),\n",
       " ('feature_133', 3, 0.00075),\n",
       " ('feature_244', 3, 0.00075),\n",
       " ('feature_174', 3, 0.00075),\n",
       " ('feature_153', 3, 0.00075),\n",
       " ('feature_125', 3, 0.00075),\n",
       " ('feature_220', 3, 0.00075),\n",
       " ('feature_162', 3, 0.00075),\n",
       " ('feature_24', 3, 0.00075),\n",
       " ('feature_9', 3, 0.00075),\n",
       " ('feature_247', 2, 0.0005),\n",
       " ('feature_31', 2, 0.0005),\n",
       " ('feature_234', 2, 0.0005),\n",
       " ('feature_232', 2, 0.0005),\n",
       " ('feature_75', 2, 0.0005),\n",
       " ('feature_136', 2, 0.0005),\n",
       " ('feature_202', 2, 0.0005),\n",
       " ('feature_72', 2, 0.0005),\n",
       " ('feature_237', 2, 0.0005),\n",
       " ('feature_138', 2, 0.0005),\n",
       " ('feature_172', 2, 0.0005),\n",
       " ('feature_79', 2, 0.0005),\n",
       " ('feature_230', 2, 0.0005),\n",
       " ('feature_77', 2, 0.0005),\n",
       " ('feature_199', 2, 0.0005),\n",
       " ('feature_159', 2, 0.0005),\n",
       " ('feature_233', 2, 0.0005),\n",
       " ('feature_74', 2, 0.0005),\n",
       " ('feature_69', 2, 0.0005),\n",
       " ('feature_117', 2, 0.0005),\n",
       " ('feature_80', 2, 0.0005),\n",
       " ('feature_243', 2, 0.0005),\n",
       " ('feature_229', 2, 0.0005),\n",
       " ('feature_84', 2, 0.0005),\n",
       " ('feature_90', 2, 0.0005),\n",
       " ('feature_235', 2, 0.0005),\n",
       " ('feature_236', 2, 0.0005),\n",
       " ('feature_78', 2, 0.0005),\n",
       " ('feature_76', 2, 0.0005),\n",
       " ('feature_227', 2, 0.0005),\n",
       " ('feature_228', 2, 0.0005),\n",
       " ('feature_73', 2, 0.0005)]"
      ]
     },
     "execution_count": 63,
     "metadata": {},
     "output_type": "execute_result"
    }
   ],
   "source": [
    "cols_int_freq"
   ]
  },
  {
   "cell_type": "code",
   "execution_count": 64,
   "metadata": {},
   "outputs": [
    {
     "data": {
      "text/plain": [
       "[('feature_253', 3740, 0.935),\n",
       " ('feature_262', 3266, 0.8165),\n",
       " ('feature_264', 2715, 0.67875),\n",
       " ('feature_268', 2305, 0.57625),\n",
       " ('feature_269', 2005, 0.50125),\n",
       " ('feature_270', 1912, 0.478),\n",
       " ('feature_265', 1456, 0.364),\n",
       " ('feature_271', 1277, 0.31925),\n",
       " ('feature_272', 600, 0.15),\n",
       " ('feature_274', 402, 0.1005),\n",
       " ('feature_267', 215, 0.05375),\n",
       " ('feature_266', 136, 0.034),\n",
       " ('feature_280', 44, 0.011),\n",
       " ('feature_263', 38, 0.0095),\n",
       " ('feature_281', 28, 0.007)]"
      ]
     },
     "execution_count": 64,
     "metadata": {},
     "output_type": "execute_result"
    }
   ],
   "source": [
    "cols_float_freq"
   ]
  },
  {
   "cell_type": "code",
   "execution_count": 65,
   "metadata": {
    "collapsed": true
   },
   "outputs": [],
   "source": [
    "# take as categorical features - those with less than 20 unique values\n",
    "# we would assume that float columns are numerical by definition\n",
    "cols_cat = [x[0] for x in cols_int_freq if x[1] <= 20] + catbytype_cols"
   ]
  },
  {
   "cell_type": "code",
   "execution_count": 66,
   "metadata": {
    "collapsed": true
   },
   "outputs": [],
   "source": [
    "cols_num = set(cols_use) - set(cols_cat)\n",
    "cols_num = list(cols_num.union(cols_float))"
   ]
  },
  {
   "cell_type": "code",
   "execution_count": 67,
   "metadata": {},
   "outputs": [
    {
     "name": "stdout",
     "output_type": "stream",
     "text": [
      "Number numerical: 40\n",
      "Number categorical: 203\n",
      "Number filtered: 42\n"
     ]
    }
   ],
   "source": [
    "print(\"Number numerical: {}\\nNumber categorical: {}\\nNumber filtered: {}\".format(\n",
    "    len(cols_num), len(cols_cat), len(cols_drop)\n",
    "))"
   ]
  },
  {
   "cell_type": "code",
   "execution_count": 68,
   "metadata": {
    "collapsed": true
   },
   "outputs": [],
   "source": [
    "cols_use = cols_num + cols_cat"
   ]
  },
  {
   "cell_type": "code",
   "execution_count": 69,
   "metadata": {},
   "outputs": [
    {
     "data": {
      "text/plain": [
       "243"
      ]
     },
     "execution_count": 69,
     "metadata": {},
     "output_type": "execute_result"
    }
   ],
   "source": [
    "len(cols_use)"
   ]
  },
  {
   "cell_type": "code",
   "execution_count": 70,
   "metadata": {
    "collapsed": true
   },
   "outputs": [],
   "source": [
    "cols_rename_dict = dict(zip(cols_use, [\"_\".join([col, 'cat' if col in cols_cat else 'num']) \n",
    "                                  for col in cols_use]))"
   ]
  },
  {
   "cell_type": "code",
   "execution_count": 71,
   "metadata": {
    "collapsed": true
   },
   "outputs": [],
   "source": [
    "data.rename(columns=cols_rename_dict, inplace=True)\n",
    "test.rename(columns=cols_rename_dict, inplace=True)"
   ]
  },
  {
   "cell_type": "code",
   "execution_count": 72,
   "metadata": {
    "collapsed": true
   },
   "outputs": [],
   "source": [
    "data.to_csv('../data/data_improved/train_drop_variable_renamed.csv', index=False)\n",
    "test.to_csv('../data/data_improved/test_drop_variable_renamed.csv', index=False)"
   ]
  }
 ],
 "metadata": {
  "kernelspec": {
   "display_name": "Python 3",
   "language": "python",
   "name": "python3"
  },
  "language_info": {
   "codemirror_mode": {
    "name": "ipython",
    "version": 3
   },
   "file_extension": ".py",
   "mimetype": "text/x-python",
   "name": "python",
   "nbconvert_exporter": "python",
   "pygments_lexer": "ipython3",
   "version": "3.6.8"
  }
 },
 "nbformat": 4,
 "nbformat_minor": 2
}
