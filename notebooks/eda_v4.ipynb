{
 "cells": [
  {
   "cell_type": "code",
   "execution_count": 20,
   "metadata": {
    "collapsed": true
   },
   "outputs": [],
   "source": [
    "%matplotlib inline\n",
    "\n",
    "import pandas as pd\n",
    "import numpy as np\n",
    "\n",
    "import matplotlib.pyplot as plt\n",
    "import seaborn as sns\n",
    "from warnings import filterwarnings\n",
    "filterwarnings('ignore')\n",
    "from tqdm import tqdm_notebook\n",
    "\n",
    "FIGSIZE=(20,10)\n",
    "SEED=17"
   ]
  },
  {
   "cell_type": "code",
   "execution_count": 2,
   "metadata": {
    "collapsed": true
   },
   "outputs": [],
   "source": [
    "from xgboost import XGBClassifier, plot_importance\n",
    "from sklearn.model_selection import cross_val_score, train_test_split, KFold, StratifiedKFold\n",
    "\n",
    "from sklearn.decomposition import PCA\n",
    "from sklearn.cluster import KMeans\n",
    "\n",
    "from sklearn.linear_model import Ridge, Lasso\n",
    "from sklearn.preprocessing import StandardScaler\n",
    "from sklearn.pipeline import Pipeline\n",
    "from sklearn.metrics import mean_squared_error, r2_score, make_scorer\n",
    "\n",
    "\n",
    "from sklearn.preprocessing import OneHotEncoder, LabelEncoder\n",
    "\n",
    "# pool of regressors\n",
    "from xgboost import XGBRegressor\n",
    "from lightgbm import LGBMRegressor\n",
    "from sklearn.ensemble import RandomForestRegressor, ExtraTreesRegressor\n",
    "from catboost import CatBoostRegressor"
   ]
  },
  {
   "cell_type": "code",
   "execution_count": 3,
   "metadata": {
    "collapsed": true
   },
   "outputs": [],
   "source": [
    "target = 'Energy_consumption'"
   ]
  },
  {
   "cell_type": "code",
   "execution_count": 4,
   "metadata": {
    "collapsed": true
   },
   "outputs": [],
   "source": [
    "train_initial = pd.read_csv('../data/train.csv')\n",
    "test_initial = pd.read_csv('../data/test.csv')\n",
    "\n",
    "X_test = test_initial.drop('Id', axis=1)\n",
    "\n",
    "X = train_initial.drop(['Id', target], axis=1)\n",
    "y = train_initial[target].values.reshape(-1,1)\n",
    "\n",
    "X_train, X_valid, y_train, y_valid = train_test_split(X, y, test_size=.25,\n",
    "                                                   random_state=SEED,\n",
    "                                                   shuffle=True)"
   ]
  },
  {
   "cell_type": "code",
   "execution_count": 11,
   "metadata": {
    "collapsed": true
   },
   "outputs": [],
   "source": [
    "catcols = X_train.select_dtypes(include='object').columns\n",
    "onehot = OneHotEncoder()\n",
    "\n",
    "train_trans = pd.DataFrame(onehot.fit_transform(X_train[catcols]).toarray())\n",
    "test_trans = pd.DataFrame(onehot.transform(X_valid[catcols]).toarray())\n",
    "\n",
    "X_train = pd.concat([X_train.drop(catcols, axis=1).reset_index(drop=True), \n",
    "                     train_trans], axis=1)\n",
    "\n",
    "X_valid = pd.concat([X_valid.drop(catcols, axis=1).reset_index(drop=True), \n",
    "                    test_trans], axis=1)\n",
    "\n",
    "\n",
    "catcols = X.select_dtypes(include='object').columns\n",
    "onehot = OneHotEncoder() \n",
    "\n",
    "train_trans = pd.DataFrame(onehot.fit_transform(X[catcols]).toarray())\n",
    "X_train_full = pd.concat([X.drop(catcols, axis=1).reset_index(drop=True),\n",
    "                    train_trans], axis=1)\n",
    "\n",
    "test_trans = pd.DataFrame(onehot.transform(X_test[catcols]).toarray())\n",
    "X_test = pd.concat([X_test.drop(catcols, axis=1).reset_index(drop=True), \n",
    "                    test_trans], axis=1)"
   ]
  },
  {
   "cell_type": "code",
   "execution_count": 53,
   "metadata": {
    "collapsed": true
   },
   "outputs": [],
   "source": [
    "from sklearn.base import clone\n",
    "\n",
    "def prediction_cluster_folds(train_X, train_y, test_X,model,\n",
    "                            n_clusters=4,n_splits=5):\n",
    "    \"\"\"\n",
    "        train_X -- ndarray\n",
    "        train_y -- ndarray with (n, 1) shape\n",
    "    \"\"\"\n",
    "    kmeans = KMeans(n_clusters=n_clusters, random_state=SEED)\n",
    "    predicted_target = kmeans.fit(train_y).predict(train_y)\n",
    "    \n",
    "    predictions_holdout = np.zeros((test_X.shape[0], 1))\n",
    "    predictions_val = np.zeros((train_X.shape[0], 1))\n",
    "\n",
    "    scores = []\n",
    "    skf = StratifiedKFold(n_splits=n_splits, shuffle=True, random_state=SEED)\n",
    "\n",
    "    for (tr_ind, val_ind) in skf.split(train_X, predicted_target):\n",
    "        X_train_fold = train_X[tr_ind]\n",
    "        y_train_fold = np.squeeze(train_y[tr_ind])\n",
    "\n",
    "        X_valid_fold = train_X[val_ind]\n",
    "        y_valid_fold = np.squeeze(train_y[val_ind])\n",
    "\n",
    "        model_fold = clone(model)\n",
    "        y_pred = model_fold.fit(X_train_fold, y_train_fold).predict(X_valid_fold).reshape(-1,1)\n",
    "        scores.append(mean_squared_error(y_valid_fold, y_pred))\n",
    "        predictions_val[val_ind] = y_pred\n",
    "\n",
    "        y_pred_holdout = model_fold.predict(test_X).reshape(-1,1)\n",
    "        predictions_holdout += y_pred_holdout\n",
    "        \n",
    "    \n",
    "    predictions_holdout /= skf.n_splits\n",
    "    return predictions_holdout, scores, predictions_val"
   ]
  },
  {
   "cell_type": "code",
   "execution_count": 39,
   "metadata": {
    "collapsed": true
   },
   "outputs": [],
   "source": [
    "def prediction_cluster_folds_ensemble(train_X, train_y, test_X, models, \n",
    "                                      n_clusters=4,n_splits=5,\n",
    "                                     seed=SEED):\n",
    "    \"\"\"\n",
    "        train_X -- ndarray\n",
    "        train_y -- ndarray with (n, 1) shape\n",
    "    \"\"\"\n",
    "    kmeans = KMeans(n_clusters=n_clusters, random_state=SEED)\n",
    "    predicted_target = kmeans.fit(train_y).predict(train_y)\n",
    "    \n",
    "    predictions_holdout = np.zeros((test_X.shape[0], 1))\n",
    "    predictions_val = np.zeros((train_X.shape[0], 1))\n",
    "\n",
    "    scores = []\n",
    "    skf = StratifiedKFold(n_splits=n_splits, shuffle=True, random_state=seed)\n",
    "\n",
    "    for (tr_ind, val_ind) in tqdm_notebook(skf.split(train_X, predicted_target), \n",
    "                                           total=skf.n_splits):\n",
    "        X_train_fold = train_X[tr_ind]\n",
    "        y_train_fold = np.squeeze(train_y[tr_ind])\n",
    "\n",
    "        X_valid_fold = train_X[val_ind]\n",
    "        y_valid_fold = np.squeeze(train_y[val_ind])\n",
    "        \n",
    "        # ensembling weighting average\n",
    "        pred_test_inline = np.zeros((test_X.shape[0], 1))\n",
    "        pred_val_inline = np.zeros((X_valid_fold.shape[0], 1))\n",
    "        weight_sum = 0\n",
    "        for (type_model, alpha, model) in models:\n",
    "            if type_model == 1:\n",
    "                model_fold = clone(model)\n",
    "                y_pred = model_fold.fit(X_train_fold, y_train_fold).predict(X_valid_fold).reshape(-1,1)\n",
    "                pred_val_inline += alpha * y_pred\n",
    "\n",
    "                y_pred = model_fold.predict(test_X).reshape(-1,1)\n",
    "                pred_test_inline += alpha * y_pred\n",
    "                weight_sum += alpha\n",
    "            else:\n",
    "                y_pred = model.fit(X_train_fold, y_train_fold, \n",
    "                                   X_valid_fold, y_valid_fold).predict(X_valid_fold)\n",
    "                pred_val_inline += alpha * y_pred\n",
    "                \n",
    "                y_pred = model.predict(test_X)\n",
    "                pred_test_inline += alpha * y_pred\n",
    "                weight_sum += alpha\n",
    "        \n",
    "        pred_test_inline /= weight_sum\n",
    "        pred_val_inline /= weight_sum\n",
    "        ####\n",
    "        predictions_val[val_ind] = pred_val_inline\n",
    "        \n",
    "        scores.append(mean_squared_error(y_valid_fold, pred_val_inline))\n",
    "        predictions_holdout += pred_test_inline\n",
    "        \n",
    "    \n",
    "    predictions_holdout /= skf.n_splits\n",
    "    return predictions_holdout, scores, predictions_val"
   ]
  },
  {
   "cell_type": "code",
   "execution_count": 13,
   "metadata": {
    "collapsed": true
   },
   "outputs": [],
   "source": [
    "alpha=0.5\n",
    "\n",
    "zoo_models = [ (alpha, XGBRegressor(n_estimators=100, \n",
    "                             random_state=SEED, \n",
    "                             n_jobs=-1)),\n",
    "              (alpha, LGBMRegressor(n_estimators=100,\n",
    "                           n_jobs=-1,\n",
    "                           random_state=SEED))\n",
    "]"
   ]
  },
  {
   "cell_type": "code",
   "execution_count": 22,
   "metadata": {},
   "outputs": [
    {
     "data": {
      "application/vnd.jupyter.widget-view+json": {
       "model_id": "1f4d288be96d4bca9f2adb909d8b6054",
       "version_major": 2,
       "version_minor": 0
      },
      "text/plain": [
       "A Jupyter Widget"
      ]
     },
     "metadata": {},
     "output_type": "display_data"
    }
   ],
   "source": [
    "predictions_test = np.zeros((X_test.shape[0], 1))\n",
    "predictions_val = np.zeros((X_train_full.shape[0], 1))\n",
    "\n",
    "t = 10\n",
    "\n",
    "for i in tqdm_notebook(range(t), total=t):\n",
    "    y_pred, scores, y_pred_val = prediction_cluster_folds_ensemble(X_train_full.values, y, \n",
    "                                                                   X_test.values,  \n",
    "                                                                   zoo_models,\n",
    "                                                                   n_clusters=4, \n",
    "                                                                   n_splits=7,\n",
    "                                                                   seed=SEED+i)\n",
    "    predictions_test += y_pred\n",
    "    predictions_val += y_pred_val\n",
    "    \n",
    "predictions_test /= t\n",
    "predictions_val /= t"
   ]
  },
  {
   "cell_type": "code",
   "execution_count": 23,
   "metadata": {},
   "outputs": [
    {
     "data": {
      "text/plain": [
       "648459.1982865153"
      ]
     },
     "execution_count": 23,
     "metadata": {},
     "output_type": "execute_result"
    }
   ],
   "source": [
    "mean_squared_error(y, predictions_val)"
   ]
  },
  {
   "cell_type": "code",
   "execution_count": 24,
   "metadata": {
    "collapsed": true
   },
   "outputs": [],
   "source": [
    "submission = pd.DataFrame(test_initial['Id'], columns=['Id'])\n",
    "submission[target] = predictions_test\n",
    "submission.to_csv('../data/submissions/xgb_lgb_oob_10seeds_ensemble.csv', index=False)"
   ]
  },
  {
   "cell_type": "markdown",
   "metadata": {},
   "source": [
    "### Trying NN"
   ]
  },
  {
   "cell_type": "code",
   "execution_count": 30,
   "metadata": {
    "collapsed": true
   },
   "outputs": [],
   "source": [
    "from keras.layers import Input, Dense, Dropout\n",
    "from keras.models import Model\n",
    "from keras.optimizers import Adam\n",
    "\n",
    "def create_model(input_shape):\n",
    "    inps = Input(shape=input_shape)\n",
    "    x = Dense(256, activation='relu')(inps)\n",
    "    x = Dropout(0.2)(x)\n",
    "    x = Dense(128, activation='relu')(x)\n",
    "    x = Dropout(0.1)(x)\n",
    "    x = Dense(1)(x)\n",
    "    model = Model(inputs=inps, outputs=x)\n",
    "    model.compile(\n",
    "        optimizer=Adam(lr=1e-3),\n",
    "        loss=['mse']\n",
    "    )\n",
    "    #model.summary()\n",
    "    return model"
   ]
  },
  {
   "cell_type": "code",
   "execution_count": 31,
   "metadata": {
    "collapsed": true
   },
   "outputs": [],
   "source": [
    "kf = KFold(n_splits=5, shuffle=True, random_state=SEED)"
   ]
  },
  {
   "cell_type": "code",
   "execution_count": 32,
   "metadata": {
    "scrolled": true
   },
   "outputs": [
    {
     "data": {
      "application/vnd.jupyter.widget-view+json": {
       "model_id": "fa2d1d214aa34d4f9991d5eb93aa8393",
       "version_major": 2,
       "version_minor": 0
      },
      "text/plain": [
       "A Jupyter Widget"
      ]
     },
     "metadata": {},
     "output_type": "display_data"
    },
    {
     "name": "stdout",
     "output_type": "stream",
     "text": [
      "\n",
      "Epoch 00089: ReduceLROnPlateau reducing learning rate to 0.0005000000237487257.\n",
      "\n",
      "Epoch 00099: ReduceLROnPlateau reducing learning rate to 0.0002500000118743628.\n",
      "\n",
      "Epoch 00109: ReduceLROnPlateau reducing learning rate to 0.0001250000059371814.\n",
      "\n",
      "Epoch 00119: ReduceLROnPlateau reducing learning rate to 6.25000029685907e-05.\n",
      "Restoring model weights from the end of the best epoch\n",
      "\n",
      "Epoch 00129: ReduceLROnPlateau reducing learning rate to 3.125000148429535e-05.\n",
      "Epoch 00129: early stopping\n",
      "598808.7256662837\n",
      "\n",
      "Epoch 00077: ReduceLROnPlateau reducing learning rate to 0.0005000000237487257.\n",
      "\n",
      "Epoch 00087: ReduceLROnPlateau reducing learning rate to 0.0002500000118743628.\n",
      "\n",
      "Epoch 00097: ReduceLROnPlateau reducing learning rate to 0.0001250000059371814.\n",
      "\n",
      "Epoch 00107: ReduceLROnPlateau reducing learning rate to 6.25000029685907e-05.\n",
      "Restoring model weights from the end of the best epoch\n",
      "\n",
      "Epoch 00117: ReduceLROnPlateau reducing learning rate to 3.125000148429535e-05.\n",
      "Epoch 00117: early stopping\n",
      "844159.3100097971\n",
      "\n",
      "Epoch 00100: ReduceLROnPlateau reducing learning rate to 0.0005000000237487257.\n",
      "\n",
      "Epoch 00110: ReduceLROnPlateau reducing learning rate to 0.0002500000118743628.\n",
      "\n",
      "Epoch 00120: ReduceLROnPlateau reducing learning rate to 0.0001250000059371814.\n",
      "\n",
      "Epoch 00130: ReduceLROnPlateau reducing learning rate to 6.25000029685907e-05.\n",
      "Restoring model weights from the end of the best epoch\n",
      "\n",
      "Epoch 00140: ReduceLROnPlateau reducing learning rate to 3.125000148429535e-05.\n",
      "Epoch 00140: early stopping\n",
      "729846.4908513356\n",
      "\n",
      "Epoch 00093: ReduceLROnPlateau reducing learning rate to 0.0005000000237487257.\n",
      "\n",
      "Epoch 00103: ReduceLROnPlateau reducing learning rate to 0.0002500000118743628.\n",
      "\n",
      "Epoch 00113: ReduceLROnPlateau reducing learning rate to 0.0001250000059371814.\n",
      "\n",
      "Epoch 00123: ReduceLROnPlateau reducing learning rate to 6.25000029685907e-05.\n",
      "Restoring model weights from the end of the best epoch\n",
      "\n",
      "Epoch 00133: ReduceLROnPlateau reducing learning rate to 3.125000148429535e-05.\n",
      "Epoch 00133: early stopping\n",
      "694877.6145774748\n",
      "\n",
      "Epoch 00107: ReduceLROnPlateau reducing learning rate to 0.0005000000237487257.\n",
      "\n",
      "Epoch 00117: ReduceLROnPlateau reducing learning rate to 0.0002500000118743628.\n",
      "\n",
      "Epoch 00127: ReduceLROnPlateau reducing learning rate to 0.0001250000059371814.\n",
      "\n",
      "Epoch 00137: ReduceLROnPlateau reducing learning rate to 6.25000029685907e-05.\n",
      "Restoring model weights from the end of the best epoch\n",
      "\n",
      "Epoch 00147: ReduceLROnPlateau reducing learning rate to 3.125000148429535e-05.\n",
      "Epoch 00147: early stopping\n",
      "632217.2313298328\n",
      "Average MSE: 699981.8744869448\n"
     ]
    }
   ],
   "source": [
    "from keras import callbacks\n",
    "from sklearn.metrics import mean_squared_error\n",
    "\n",
    "test_predictions = []\n",
    "metric_results = []\n",
    "scaler = StandardScaler()\n",
    "X_array = scaler.fit_transform(X_train_full.values)\n",
    "X_test_array = scaler.transform(X_test.values)\n",
    "\n",
    "for ind, (tr, val) in tqdm_notebook(enumerate(kf.split(X_array)), total=kf.n_splits):\n",
    "    X_tr = X_array[tr]\n",
    "    y_tr = y[tr]\n",
    "\n",
    "    X_vl = X_array[val]\n",
    "    y_vl = y[val]\n",
    "    \n",
    "    model = create_model((X_tr.shape[1],))\n",
    "    es = callbacks.EarlyStopping(monitor='val_loss', min_delta=0.0001, patience=50, verbose=0, \n",
    "                                 mode='auto', restore_best_weights=True)\n",
    "    rlr = callbacks.ReduceLROnPlateau(monitor='val_loss', factor=0.5, patience=10, min_lr=1e-6, \n",
    "                                      mode='auto', verbose=0)\n",
    "    model.fit(\n",
    "        X_tr, y_tr, epochs=500, batch_size=256, validation_data=(X_vl, y_vl), verbose=False, callbacks=[es, rlr]\n",
    "    )\n",
    "    test_predictions.append(model.predict(X_test.values).flatten())\n",
    "    metric_results.append(mean_squared_error(y_vl, model.predict(X_vl).flatten()))\n",
    "    print(metric_results[-1])\n",
    "    \n",
    "print(f'Average MSE: {np.mean(metric_results)}')"
   ]
  },
  {
   "cell_type": "code",
   "execution_count": 121,
   "metadata": {
    "collapsed": true
   },
   "outputs": [],
   "source": [
    "class NN():\n",
    "    \n",
    "    def __init__(self, input_shape, epochs, batch_size, dropout=.2):\n",
    "        self.input_shape = input_shape\n",
    "        self.epochs = epochs\n",
    "        self.batch_size=batch_size\n",
    "        self.dropout = dropout\n",
    "        \n",
    "        \n",
    "    def _init_model(self):\n",
    "        inps = Input(shape=self.input_shape)\n",
    "        x = Dense(256, activation='relu')(inps)\n",
    "        x = Dropout(self.dropout)(x)\n",
    "        x = Dense(128, activation='relu')(x)\n",
    "        x = Dropout(.5 * self.dropout)(x)\n",
    "        x = Dense(1)(x)\n",
    "        model = Model(inputs=inps, outputs=x)\n",
    "        model.compile(\n",
    "            optimizer=Adam(lr=1e-3),\n",
    "            loss=['mse']\n",
    "        )\n",
    "        return model\n",
    "    \n",
    "    def fit(self, train_X, train_y, val_X, val_y):\n",
    "        self.model = self._init_model()\n",
    "\n",
    "        es = callbacks.EarlyStopping(monitor='val_loss', min_delta=0.0001, patience=50, verbose=0, \n",
    "                                     mode='auto', restore_best_weights=True)\n",
    "        rlr = callbacks.ReduceLROnPlateau(monitor='val_loss', factor=0.5, patience=10, min_lr=1e-6, \n",
    "                                          mode='auto', verbose=0)\n",
    "        self.model.fit(\n",
    "            train_X, train_y, epochs=self.epochs, batch_size=self.batch_size, \n",
    "            validation_data=(val_X, val_y), verbose=False, \n",
    "            callbacks=[es, rlr]\n",
    "        )\n",
    "        return self\n",
    "    \n",
    "    def predict(self, test_X):\n",
    "        pred = self.model.predict(test_X).flatten().reshape(-1,1)\n",
    "        return pred"
   ]
  },
  {
   "cell_type": "code",
   "execution_count": 46,
   "metadata": {
    "collapsed": true
   },
   "outputs": [],
   "source": [
    "alpha=0.5\n",
    "\n",
    "zoo_models = [ (1,alpha, XGBRegressor(n_estimators=100, \n",
    "                             random_state=SEED, \n",
    "                             n_jobs=-1)),\n",
    "              (1,alpha, LGBMRegressor(n_estimators=100,\n",
    "                           n_jobs=-1,\n",
    "                           random_state=SEED)),\n",
    "              (0, alpha, NN(input_shape=(X_array.shape[1],), epochs=500, batch_size=256))\n",
    "]"
   ]
  },
  {
   "cell_type": "code",
   "execution_count": 47,
   "metadata": {},
   "outputs": [
    {
     "data": {
      "application/vnd.jupyter.widget-view+json": {
       "model_id": "184eb3853cda4a4697aef22fc3bb9a02",
       "version_major": 2,
       "version_minor": 0
      },
      "text/plain": [
       "A Jupyter Widget"
      ]
     },
     "metadata": {},
     "output_type": "display_data"
    }
   ],
   "source": [
    "y_pred, scores, y_pred_val = prediction_cluster_folds_ensemble(X_array, y, \n",
    "                                                               X_test_array,  \n",
    "                                                               zoo_models,\n",
    "                                                               n_clusters=4, \n",
    "                                                               n_splits=7,\n",
    "                                                               seed=SEED)"
   ]
  },
  {
   "cell_type": "code",
   "execution_count": 48,
   "metadata": {},
   "outputs": [
    {
     "data": {
      "text/plain": [
       "643817.026045401"
      ]
     },
     "execution_count": 48,
     "metadata": {},
     "output_type": "execute_result"
    }
   ],
   "source": [
    "np.mean(scores)"
   ]
  },
  {
   "cell_type": "code",
   "execution_count": 49,
   "metadata": {},
   "outputs": [
    {
     "data": {
      "application/vnd.jupyter.widget-view+json": {
       "model_id": "a529f80d6bc04d7187249bd4e24e96a6",
       "version_major": 2,
       "version_minor": 0
      },
      "text/plain": [
       "A Jupyter Widget"
      ]
     },
     "metadata": {},
     "output_type": "display_data"
    },
    {
     "data": {
      "application/vnd.jupyter.widget-view+json": {
       "model_id": "80701c3b6e3b4613a5d5f8851d72bc90",
       "version_major": 2,
       "version_minor": 0
      },
      "text/plain": [
       "A Jupyter Widget"
      ]
     },
     "metadata": {},
     "output_type": "display_data"
    },
    {
     "data": {
      "application/vnd.jupyter.widget-view+json": {
       "model_id": "55179fe2b5b0480e82c75854dd83d042",
       "version_major": 2,
       "version_minor": 0
      },
      "text/plain": [
       "A Jupyter Widget"
      ]
     },
     "metadata": {},
     "output_type": "display_data"
    },
    {
     "data": {
      "application/vnd.jupyter.widget-view+json": {
       "model_id": "84c7ff24142c425aaffc61d49e9edaf0",
       "version_major": 2,
       "version_minor": 0
      },
      "text/plain": [
       "A Jupyter Widget"
      ]
     },
     "metadata": {},
     "output_type": "display_data"
    },
    {
     "data": {
      "application/vnd.jupyter.widget-view+json": {
       "model_id": "99ff1c508f8148cf8225587015943d0c",
       "version_major": 2,
       "version_minor": 0
      },
      "text/plain": [
       "A Jupyter Widget"
      ]
     },
     "metadata": {},
     "output_type": "display_data"
    },
    {
     "data": {
      "application/vnd.jupyter.widget-view+json": {
       "model_id": "e9f67301db674338a4b26da0986da2a0",
       "version_major": 2,
       "version_minor": 0
      },
      "text/plain": [
       "A Jupyter Widget"
      ]
     },
     "metadata": {},
     "output_type": "display_data"
    },
    {
     "data": {
      "application/vnd.jupyter.widget-view+json": {
       "model_id": "c48679c9b8a9479bae42bc1f0e5932c4",
       "version_major": 2,
       "version_minor": 0
      },
      "text/plain": [
       "A Jupyter Widget"
      ]
     },
     "metadata": {},
     "output_type": "display_data"
    },
    {
     "data": {
      "application/vnd.jupyter.widget-view+json": {
       "model_id": "776912bbb03b4ba68601566f50208ace",
       "version_major": 2,
       "version_minor": 0
      },
      "text/plain": [
       "A Jupyter Widget"
      ]
     },
     "metadata": {},
     "output_type": "display_data"
    },
    {
     "data": {
      "application/vnd.jupyter.widget-view+json": {
       "model_id": "f312b7aba5cf48bdb6ba4e4c2979f203",
       "version_major": 2,
       "version_minor": 0
      },
      "text/plain": [
       "A Jupyter Widget"
      ]
     },
     "metadata": {},
     "output_type": "display_data"
    },
    {
     "data": {
      "application/vnd.jupyter.widget-view+json": {
       "model_id": "089751723e724f73af8b4fa4ae29a8bd",
       "version_major": 2,
       "version_minor": 0
      },
      "text/plain": [
       "A Jupyter Widget"
      ]
     },
     "metadata": {},
     "output_type": "display_data"
    },
    {
     "data": {
      "application/vnd.jupyter.widget-view+json": {
       "model_id": "b366fb341c974663b03a1741cc2c5d6c",
       "version_major": 2,
       "version_minor": 0
      },
      "text/plain": [
       "A Jupyter Widget"
      ]
     },
     "metadata": {},
     "output_type": "display_data"
    }
   ],
   "source": [
    "predictions_test = np.zeros((X_test_array.shape[0], 1))\n",
    "predictions_val = np.zeros((X_array.shape[0], 1))\n",
    "\n",
    "t = 10\n",
    "\n",
    "for i in tqdm_notebook(range(t), total=t):\n",
    "    y_pred, _, y_pred_val = prediction_cluster_folds_ensemble(X_array, y, \n",
    "                                                           X_test_array,  \n",
    "                                                           zoo_models,\n",
    "                                                           n_clusters=4, \n",
    "                                                           n_splits=7,\n",
    "                                                           seed=SEED+i)\n",
    "    predictions_test += y_pred\n",
    "    predictions_val += y_pred_val\n",
    "    \n",
    "predictions_test /= t\n",
    "predictions_val /= t"
   ]
  },
  {
   "cell_type": "code",
   "execution_count": 50,
   "metadata": {},
   "outputs": [
    {
     "data": {
      "text/plain": [
       "626093.5104983785"
      ]
     },
     "execution_count": 50,
     "metadata": {},
     "output_type": "execute_result"
    }
   ],
   "source": [
    "mean_squared_error(y, predictions_val)"
   ]
  },
  {
   "cell_type": "code",
   "execution_count": 51,
   "metadata": {
    "collapsed": true
   },
   "outputs": [],
   "source": [
    "submission = pd.DataFrame(test_initial['Id'], columns=['Id'])\n",
    "submission[target] = predictions_test\n",
    "submission.to_csv('../data/submissions/xgb_lgb_oob_nn_10seeds_ensemble.csv', index=False)"
   ]
  },
  {
   "cell_type": "markdown",
   "metadata": {},
   "source": [
    "### Trying random subspaces"
   ]
  },
  {
   "cell_type": "code",
   "execution_count": 52,
   "metadata": {
    "collapsed": true
   },
   "outputs": [],
   "source": [
    "subspace = [.3, .5, .6, .7, .8, .9, .95]"
   ]
  },
  {
   "cell_type": "code",
   "execution_count": 55,
   "metadata": {},
   "outputs": [
    {
     "data": {
      "application/vnd.jupyter.widget-view+json": {
       "model_id": "d19ebcda22ef4708a4fdf22025ed0e63",
       "version_major": 2,
       "version_minor": 0
      },
      "text/plain": [
       "A Jupyter Widget"
      ]
     },
     "metadata": {},
     "output_type": "display_data"
    }
   ],
   "source": [
    "T = 3\n",
    "subspace_res = {}\n",
    "for ss in tqdm_notebook(subspace, total=len(subspace)):\n",
    "    \n",
    "    pred_xgb = np.zeros((X_array.shape[0], 1))\n",
    "    pred_lgb = np.zeros((X_array.shape[0], 1))\n",
    "    pred_rf = np.zeros((X_array.shape[0], 1))\n",
    "    \n",
    "    for t in range(T):\n",
    "        rf = RandomForestRegressor(n_estimators=100, max_depth=3, max_features=ss, \n",
    "                                   random_state=SEED+t, n_jobs=-1)\n",
    "        _, _, y_pred_rf = prediction_cluster_folds(X_array, y, X_test_array, rf, \n",
    "                                                  n_clusters=4, \n",
    "                                                  n_splits=5)\n",
    "        pred_rf += y_pred_rf\n",
    "        \n",
    "        rf = LGBMRegressor(n_estimators=100, colsample_bytree=ss, \n",
    "                           random_state=SEED+t, n_job=-1)\n",
    "        _, _, y_pred_lgb = prediction_cluster_folds(X_array, y, X_test_array, rf, \n",
    "                                                  n_clusters=4, \n",
    "                                                  n_splits=5)\n",
    "        pred_lgb += y_pred_lgb\n",
    "        \n",
    "        rf = XGBRegressor(n_estimators=100, colsample_bytree=ss, \n",
    "                          random_state=SEED+t, n_jobs=-1)\n",
    "        _, _, y_pred_xgb = prediction_cluster_folds(X_array, y, X_test_array, rf, \n",
    "                                                  n_clusters=4, \n",
    "                                                  n_splits=5)\n",
    "        pred_xgb += y_pred_xgb\n",
    "    \n",
    "    pred_xgb /= T\n",
    "    pred_lgb /= T\n",
    "    pred_rf /= T\n",
    "    score_xgb = mean_squared_error(y, pred_xgb)\n",
    "    score_lgb = mean_squared_error(y, pred_lgb)\n",
    "    score_rf = mean_squared_error(y, pred_rf)\n",
    "        \n",
    "    subspace_res[ss] = (score_xgb, score_lgb, score_rf)"
   ]
  },
  {
   "cell_type": "code",
   "execution_count": 60,
   "metadata": {},
   "outputs": [
    {
     "data": {
      "image/png": "[encoded data removed]",
      "text/plain": [
       "<Figure size 1440x720 with 1 Axes>"
      ]
     },
     "metadata": {},
     "output_type": "display_data"
    }
   ],
   "source": [
    "xgb_scores = [v[0] for v in subspace_res.values()]\n",
    "lgb_scores = [v[1] for v in subspace_res.values()]\n",
    "rf_scores = [v[2] for v in subspace_res.values()]\n",
    "\n",
    "plt.subplots(figsize=FIGSIZE)\n",
    "plt.plot(subspace, xgb_scores, label='xgb')\n",
    "plt.plot(subspace, lgb_scores, label='lgb')\n",
    "# plt.plot(subspace, rf_scores, label='rf')\n",
    "plt.legend();"
   ]
  },
  {
   "cell_type": "code",
   "execution_count": 67,
   "metadata": {
    "collapsed": true
   },
   "outputs": [],
   "source": [
    "alpha=0.5\n",
    "\n",
    "zoo_models = [ (1,alpha, XGBRegressor(n_estimators=100, colsample_bytree=.3,\n",
    "                             random_state=SEED,\n",
    "                             n_jobs=-1)),\n",
    "              \n",
    "              (1,alpha, LGBMRegressor(n_estimators=100,\n",
    "                                      colsample_bytree=.3,\n",
    "                                       n_jobs=-1,\n",
    "                                       random_state=SEED+1)),\n",
    "              \n",
    "              (1,.7 * alpha, LGBMRegressor(n_estimators=100,\n",
    "                                      colsample_bytree=.4,\n",
    "                                       n_jobs=-1,\n",
    "                                       random_state=SEED+2)),\n",
    "              \n",
    "              (1, .7 * alpha, LGBMRegressor(n_estimators=100,\n",
    "                                      colsample_bytree=.5,\n",
    "                                       n_jobs=-1,\n",
    "                                       random_state=SEED+3)),\n",
    "              (0, alpha, NN(input_shape=(X_array.shape[1],), epochs=500, batch_size=256))\n",
    "]"
   ]
  },
  {
   "cell_type": "code",
   "execution_count": 70,
   "metadata": {},
   "outputs": [
    {
     "data": {
      "application/vnd.jupyter.widget-view+json": {
       "model_id": "f7e582f2b1a84a45afa78a1dd81e5a09",
       "version_major": 2,
       "version_minor": 0
      },
      "text/plain": [
       "A Jupyter Widget"
      ]
     },
     "metadata": {},
     "output_type": "display_data"
    },
    {
     "data": {
      "application/vnd.jupyter.widget-view+json": {
       "model_id": "75add6cb58074d5e8cc3b9c492f76483",
       "version_major": 2,
       "version_minor": 0
      },
      "text/plain": [
       "A Jupyter Widget"
      ]
     },
     "metadata": {},
     "output_type": "display_data"
    },
    {
     "data": {
      "application/vnd.jupyter.widget-view+json": {
       "model_id": "3b1aaef38ad84d55805df4ec00b8481e",
       "version_major": 2,
       "version_minor": 0
      },
      "text/plain": [
       "A Jupyter Widget"
      ]
     },
     "metadata": {},
     "output_type": "display_data"
    },
    {
     "data": {
      "application/vnd.jupyter.widget-view+json": {
       "model_id": "7e245b3e052545a18733f9bcd4e9e81c",
       "version_major": 2,
       "version_minor": 0
      },
      "text/plain": [
       "A Jupyter Widget"
      ]
     },
     "metadata": {},
     "output_type": "display_data"
    },
    {
     "data": {
      "application/vnd.jupyter.widget-view+json": {
       "model_id": "016a5e3443d44e989b2c97492ab8fc00",
       "version_major": 2,
       "version_minor": 0
      },
      "text/plain": [
       "A Jupyter Widget"
      ]
     },
     "metadata": {},
     "output_type": "display_data"
    },
    {
     "data": {
      "application/vnd.jupyter.widget-view+json": {
       "model_id": "6c45c004fcd7464f90e8baad72d4b08e",
       "version_major": 2,
       "version_minor": 0
      },
      "text/plain": [
       "A Jupyter Widget"
      ]
     },
     "metadata": {},
     "output_type": "display_data"
    },
    {
     "data": {
      "application/vnd.jupyter.widget-view+json": {
       "model_id": "8d68d7c69b4745e28fed03b9d8d9ad99",
       "version_major": 2,
       "version_minor": 0
      },
      "text/plain": [
       "A Jupyter Widget"
      ]
     },
     "metadata": {},
     "output_type": "display_data"
    },
    {
     "data": {
      "application/vnd.jupyter.widget-view+json": {
       "model_id": "03fbd9b6313347a8a6e8c616a680337b",
       "version_major": 2,
       "version_minor": 0
      },
      "text/plain": [
       "A Jupyter Widget"
      ]
     },
     "metadata": {},
     "output_type": "display_data"
    },
    {
     "data": {
      "application/vnd.jupyter.widget-view+json": {
       "model_id": "c6f690f76f9a45869b9bcec903dd7ff5",
       "version_major": 2,
       "version_minor": 0
      },
      "text/plain": [
       "A Jupyter Widget"
      ]
     },
     "metadata": {},
     "output_type": "display_data"
    },
    {
     "data": {
      "application/vnd.jupyter.widget-view+json": {
       "model_id": "3fdc405d66e54fb4b92fa276e3fa66fd",
       "version_major": 2,
       "version_minor": 0
      },
      "text/plain": [
       "A Jupyter Widget"
      ]
     },
     "metadata": {},
     "output_type": "display_data"
    },
    {
     "data": {
      "application/vnd.jupyter.widget-view+json": {
       "model_id": "9d9455970653442b95160b69e808dfe1",
       "version_major": 2,
       "version_minor": 0
      },
      "text/plain": [
       "A Jupyter Widget"
      ]
     },
     "metadata": {},
     "output_type": "display_data"
    }
   ],
   "source": [
    "predictions_test = np.zeros((X_test_array.shape[0], 1))\n",
    "predictions_val = np.zeros((X_array.shape[0], 1))\n",
    "\n",
    "t = 10\n",
    "\n",
    "for i in tqdm_notebook(range(t), total=t):\n",
    "    y_pred, _, y_pred_val = prediction_cluster_folds_ensemble(X_array, y, \n",
    "                                                           X_test_array,  \n",
    "                                                           zoo_models,\n",
    "                                                           n_clusters=4, \n",
    "                                                           n_splits=7,\n",
    "                                                           seed=SEED+i)\n",
    "    predictions_test += y_pred\n",
    "    predictions_val += y_pred_val\n",
    "    \n",
    "predictions_test /= t\n",
    "predictions_val /= t"
   ]
  },
  {
   "cell_type": "code",
   "execution_count": 71,
   "metadata": {},
   "outputs": [
    {
     "data": {
      "text/plain": [
       "620733.0398620749"
      ]
     },
     "execution_count": 71,
     "metadata": {},
     "output_type": "execute_result"
    }
   ],
   "source": [
    "mean_squared_error(y, predictions_val)"
   ]
  },
  {
   "cell_type": "code",
   "execution_count": 72,
   "metadata": {
    "collapsed": true
   },
   "outputs": [],
   "source": [
    "submission = pd.DataFrame(test_initial['Id'], columns=['Id'])\n",
    "submission[target] = predictions_test\n",
    "submission.to_csv('../data/submissions/xgb_lgb_rnd_subs_nn_10seeds_ensemble.csv', index=False)"
   ]
  },
  {
   "cell_type": "markdown",
   "metadata": {},
   "source": [
    "### Stacking"
   ]
  },
  {
   "cell_type": "code",
   "execution_count": 73,
   "metadata": {
    "collapsed": true
   },
   "outputs": [],
   "source": [
    "alpha=0.5\n",
    "\n",
    "zoo_models = [ (1,alpha, XGBRegressor(n_estimators=100, colsample_bytree=.3,\n",
    "                             random_state=SEED,\n",
    "                             n_jobs=-1)),\n",
    "              \n",
    "              (1,alpha, LGBMRegressor(n_estimators=100,\n",
    "                                      colsample_bytree=.3,\n",
    "                                       n_jobs=-1,\n",
    "                                       random_state=SEED+1)),\n",
    "              \n",
    "              (1,.7 * alpha, LGBMRegressor(n_estimators=100,\n",
    "                                      colsample_bytree=.4,\n",
    "                                       n_jobs=-1,\n",
    "                                       random_state=SEED+2)),\n",
    "              \n",
    "              (1, .7 * alpha, LGBMRegressor(n_estimators=100,\n",
    "                                      colsample_bytree=.5,\n",
    "                                       n_jobs=-1,\n",
    "                                       random_state=SEED+3)),\n",
    "              (0, alpha, NN(input_shape=(X_array.shape[1],), epochs=500, batch_size=256))\n",
    "]"
   ]
  },
  {
   "cell_type": "code",
   "execution_count": 86,
   "metadata": {
    "collapsed": true
   },
   "outputs": [],
   "source": [
    "def meta_transformer(train_X, train_y, test_X, \n",
    "                       models, n_clusters=4,n_splits=5, seed=SEED):\n",
    "    \"\"\"\n",
    "        train_X -- ndarray\n",
    "        train_y -- ndarray with (n, 1) shape\n",
    "    \"\"\"\n",
    "    kmeans = KMeans(n_clusters=n_clusters, random_state=SEED)\n",
    "    predicted_target = kmeans.fit(train_y).predict(train_y)\n",
    "    \n",
    "    \n",
    "    num_models = len(models)\n",
    "    meta_matrix_train = np.zeros((train_X.shape[0], num_models))\n",
    "    meta_matrix_test = np.zeros((test_X.shape[0], num_models))\n",
    "\n",
    "    scores = []\n",
    "    skf = StratifiedKFold(n_splits=n_splits, shuffle=True, random_state=seed)\n",
    "\n",
    "    for (tr_ind, val_ind) in tqdm_notebook(skf.split(train_X, predicted_target), \n",
    "                                           total=skf.n_splits):\n",
    "        X_train_fold = train_X[tr_ind]\n",
    "        y_train_fold = np.squeeze(train_y[tr_ind])\n",
    "\n",
    "        X_valid_fold = train_X[val_ind]\n",
    "        y_valid_fold = np.squeeze(train_y[val_ind])\n",
    "        \n",
    "        for i,(type_model, model) in enumerate(models):\n",
    "            if type_model == 1:\n",
    "                model_fold = clone(model)\n",
    "                y_pred_valid = model_fold.fit(X_train_fold, \n",
    "                                              y_train_fold).predict(X_valid_fold)\n",
    "                meta_matrix_train[val_ind, i] = y_pred_valid\n",
    "                \n",
    "                \n",
    "                y_pred_test = model_fold.predict(test_X)\n",
    "                meta_matrix_test[:, i] = y_pred_test\n",
    "            else:\n",
    "                y_pred_valid = model.fit(X_train_fold, y_train_fold, \n",
    "                                   X_valid_fold, y_valid_fold).predict(X_valid_fold)\n",
    "                meta_matrix_train[val_ind, i] = np.squeeze(y_pred_valid)\n",
    "\n",
    "                y_pred_test = model.predict(test_X)\n",
    "                meta_matrix_test[:, i] = np.squeeze(y_pred_test)\n",
    "                \n",
    "    return meta_matrix_train, meta_matrix_test"
   ]
  },
  {
   "cell_type": "code",
   "execution_count": 91,
   "metadata": {
    "collapsed": true
   },
   "outputs": [],
   "source": [
    "def meta_transform_mean(train_X, train_y, test_X, models,\n",
    "                        num_iterations=10,\n",
    "                        n_clusters=4,n_splits=7, seed=SEED):\n",
    "    \n",
    "    train_meta = np.zeros((train_X.shape[0], len(models)))\n",
    "    test_meta = np.zeros((test_X.shape[0], len(models)))\n",
    "    \n",
    "    for t in range(num_iterations):\n",
    "        train_meta_curr, test_meta_curr = meta_transformer(X_array, y, X_test_array, \n",
    "                                                         models, n_clusters=n_clusters, n_splits=n_splits,\n",
    "                                                          seed=seed+t)\n",
    "        train_meta += train_meta_curr\n",
    "        test_meta += test_meta_curr\n",
    "        \n",
    "    train_meta /= num_iterations\n",
    "    test_meta /= num_iterations\n",
    "    \n",
    "    return train_meta, test_meta"
   ]
  },
  {
   "cell_type": "code",
   "execution_count": 96,
   "metadata": {
    "collapsed": true
   },
   "outputs": [],
   "source": [
    "models_check = [\n",
    "    (1,XGBRegressor(n_estimators=100, colsample_bytree=.3,\n",
    "                             random_state=SEED,\n",
    "                             n_jobs=-1)),\n",
    "              \n",
    "    (1, LGBMRegressor(n_estimators=100,\n",
    "                      colsample_bytree=.3,\n",
    "                       n_jobs=-1,\n",
    "                       random_state=SEED+1))\n",
    "]"
   ]
  },
  {
   "cell_type": "code",
   "execution_count": 95,
   "metadata": {},
   "outputs": [
    {
     "data": {
      "application/vnd.jupyter.widget-view+json": {
       "model_id": "c230708df02048b78ad66e51fab37a8e",
       "version_major": 2,
       "version_minor": 0
      },
      "text/plain": [
       "A Jupyter Widget"
      ]
     },
     "metadata": {},
     "output_type": "display_data"
    },
    {
     "data": {
      "text/plain": [
       "664838.0907035497"
      ]
     },
     "execution_count": 95,
     "metadata": {},
     "output_type": "execute_result"
    }
   ],
   "source": [
    "_, scores, _ = prediction_cluster_folds_ensemble(X_array, y, \n",
    "                                               X_test_array,  \n",
    "                                               models_check,\n",
    "                                               n_clusters=4, \n",
    "                                               n_splits=7,\n",
    "                                               seed=SEED)\n",
    "np.mean(scores)"
   ]
  },
  {
   "cell_type": "code",
   "execution_count": 97,
   "metadata": {},
   "outputs": [
    {
     "data": {
      "application/vnd.jupyter.widget-view+json": {
       "model_id": "d41b0b80ac524271a21837690fb015e4",
       "version_major": 2,
       "version_minor": 0
      },
      "text/plain": [
       "A Jupyter Widget"
      ]
     },
     "metadata": {},
     "output_type": "display_data"
    },
    {
     "data": {
      "application/vnd.jupyter.widget-view+json": {
       "model_id": "55a2bbe1668c4470854df2c4c5fc50ee",
       "version_major": 2,
       "version_minor": 0
      },
      "text/plain": [
       "A Jupyter Widget"
      ]
     },
     "metadata": {},
     "output_type": "display_data"
    }
   ],
   "source": [
    "train_meta, test_meta = meta_transform_mean(X_array, y,\n",
    "                                           X_test_array, models_check,\n",
    "                                           num_iterations=2)"
   ]
  },
  {
   "cell_type": "code",
   "execution_count": 100,
   "metadata": {
    "collapsed": true
   },
   "outputs": [],
   "source": [
    "# scaler = StandardScaler()\n",
    "ridge = Ridge(alpha=2., random_state=SEED)"
   ]
  },
  {
   "cell_type": "code",
   "execution_count": 101,
   "metadata": {},
   "outputs": [
    {
     "data": {
      "text/plain": [
       "643329.9814622458"
      ]
     },
     "execution_count": 101,
     "metadata": {},
     "output_type": "execute_result"
    }
   ],
   "source": [
    "_, scores, _ = prediction_cluster_folds(train_meta, y, \n",
    "                                       test_meta,  \n",
    "                                       ridge,\n",
    "                                       n_clusters=4, \n",
    "                                       n_splits=7)\n",
    "np.mean(scores)"
   ]
  },
  {
   "cell_type": "code",
   "execution_count": 124,
   "metadata": {
    "collapsed": true
   },
   "outputs": [],
   "source": [
    "alpha=0.5\n",
    "\n",
    "zoo_models = [ (1, XGBRegressor(n_estimators=100, colsample_bytree=.3,\n",
    "                             random_state=SEED,\n",
    "                             n_jobs=-1)),\n",
    "              \n",
    "              (1, LGBMRegressor(n_estimators=100,\n",
    "                                      colsample_bytree=.3,\n",
    "                                       n_jobs=-1,\n",
    "                                       random_state=SEED+1)),\n",
    "              \n",
    "              (1, LGBMRegressor(n_estimators=100,\n",
    "                                      colsample_bytree=.4,\n",
    "                                       n_jobs=-1,\n",
    "                                       random_state=SEED+2)),\n",
    "              \n",
    "              (1, LGBMRegressor(n_estimators=100,\n",
    "                                      colsample_bytree=.5,\n",
    "                                       n_jobs=-1,\n",
    "                                       random_state=SEED+3)),\n",
    "              \n",
    "              (0, NN(input_shape=(X_array.shape[1],), epochs=500, \n",
    "                     batch_size=256, dropout=.2)),\n",
    "              \n",
    "              \n",
    "#               (0, NN(input_shape=(X_array.shape[1],), epochs=500, \n",
    "#                      batch_size=256, dropout=.5))\n",
    "]"
   ]
  },
  {
   "cell_type": "code",
   "execution_count": 125,
   "metadata": {},
   "outputs": [
    {
     "data": {
      "application/vnd.jupyter.widget-view+json": {
       "model_id": "ca8eb44514b1491f832e2629b87437f3",
       "version_major": 2,
       "version_minor": 0
      },
      "text/plain": [
       "A Jupyter Widget"
      ]
     },
     "metadata": {},
     "output_type": "display_data"
    },
    {
     "ename": "KeyboardInterrupt",
     "evalue": "",
     "output_type": "error",
     "traceback": [
      "\u001b[0;31m---------------------------------------------------------------------------\u001b[0m",
      "\u001b[0;31mKeyboardInterrupt\u001b[0m                         Traceback (most recent call last)",
      "\u001b[0;32m<timed exec>\u001b[0m in \u001b[0;36m<module>\u001b[0;34m()\u001b[0m\n",
      "\u001b[0;32m<ipython-input-91-2051d49f0b97>\u001b[0m in \u001b[0;36mmeta_transform_mean\u001b[0;34m(train_X, train_y, test_X, models, num_iterations, n_clusters, n_splits, seed)\u001b[0m\n\u001b[1;32m      9\u001b[0m         train_meta_curr, test_meta_curr = meta_transformer(X_array, y, X_test_array, \n\u001b[1;32m     10\u001b[0m                                                          \u001b[0mmodels\u001b[0m\u001b[0;34m,\u001b[0m \u001b[0mn_clusters\u001b[0m\u001b[0;34m=\u001b[0m\u001b[0mn_clusters\u001b[0m\u001b[0;34m,\u001b[0m \u001b[0mn_splits\u001b[0m\u001b[0;34m=\u001b[0m\u001b[0mn_splits\u001b[0m\u001b[0;34m,\u001b[0m\u001b[0;34m\u001b[0m\u001b[0;34m\u001b[0m\u001b[0m\n\u001b[0;32m---> 11\u001b[0;31m                                                           seed=seed+t)\n\u001b[0m\u001b[1;32m     12\u001b[0m         \u001b[0mtrain_meta\u001b[0m \u001b[0;34m+=\u001b[0m \u001b[0mtrain_meta_curr\u001b[0m\u001b[0;34m\u001b[0m\u001b[0;34m\u001b[0m\u001b[0m\n\u001b[1;32m     13\u001b[0m         \u001b[0mtest_meta\u001b[0m \u001b[0;34m+=\u001b[0m \u001b[0mtest_meta_curr\u001b[0m\u001b[0;34m\u001b[0m\u001b[0;34m\u001b[0m\u001b[0m\n",
      "\u001b[0;32m<ipython-input-86-e1990bc4e8bf>\u001b[0m in \u001b[0;36mmeta_transformer\u001b[0;34m(train_X, train_y, test_X, models, n_clusters, n_splits, seed)\u001b[0m\n\u001b[1;32m     36\u001b[0m             \u001b[0;32melse\u001b[0m\u001b[0;34m:\u001b[0m\u001b[0;34m\u001b[0m\u001b[0;34m\u001b[0m\u001b[0m\n\u001b[1;32m     37\u001b[0m                 y_pred_valid = model.fit(X_train_fold, y_train_fold, \n\u001b[0;32m---> 38\u001b[0;31m                                    X_valid_fold, y_valid_fold).predict(X_valid_fold)\n\u001b[0m\u001b[1;32m     39\u001b[0m                 \u001b[0mmeta_matrix_train\u001b[0m\u001b[0;34m[\u001b[0m\u001b[0mval_ind\u001b[0m\u001b[0;34m,\u001b[0m \u001b[0mi\u001b[0m\u001b[0;34m]\u001b[0m \u001b[0;34m=\u001b[0m \u001b[0mnp\u001b[0m\u001b[0;34m.\u001b[0m\u001b[0msqueeze\u001b[0m\u001b[0;34m(\u001b[0m\u001b[0my_pred_valid\u001b[0m\u001b[0;34m)\u001b[0m\u001b[0;34m\u001b[0m\u001b[0;34m\u001b[0m\u001b[0m\n\u001b[1;32m     40\u001b[0m \u001b[0;34m\u001b[0m\u001b[0m\n",
      "\u001b[0;32m<ipython-input-121-3259550afb8b>\u001b[0m in \u001b[0;36mfit\u001b[0;34m(self, train_X, train_y, val_X, val_y)\u001b[0m\n\u001b[1;32m     32\u001b[0m             \u001b[0mtrain_X\u001b[0m\u001b[0;34m,\u001b[0m \u001b[0mtrain_y\u001b[0m\u001b[0;34m,\u001b[0m \u001b[0mepochs\u001b[0m\u001b[0;34m=\u001b[0m\u001b[0mself\u001b[0m\u001b[0;34m.\u001b[0m\u001b[0mepochs\u001b[0m\u001b[0;34m,\u001b[0m \u001b[0mbatch_size\u001b[0m\u001b[0;34m=\u001b[0m\u001b[0mself\u001b[0m\u001b[0;34m.\u001b[0m\u001b[0mbatch_size\u001b[0m\u001b[0;34m,\u001b[0m\u001b[0;34m\u001b[0m\u001b[0;34m\u001b[0m\u001b[0m\n\u001b[1;32m     33\u001b[0m             \u001b[0mvalidation_data\u001b[0m\u001b[0;34m=\u001b[0m\u001b[0;34m(\u001b[0m\u001b[0mval_X\u001b[0m\u001b[0;34m,\u001b[0m \u001b[0mval_y\u001b[0m\u001b[0;34m)\u001b[0m\u001b[0;34m,\u001b[0m \u001b[0mverbose\u001b[0m\u001b[0;34m=\u001b[0m\u001b[0;32mFalse\u001b[0m\u001b[0;34m,\u001b[0m\u001b[0;34m\u001b[0m\u001b[0;34m\u001b[0m\u001b[0m\n\u001b[0;32m---> 34\u001b[0;31m             \u001b[0mcallbacks\u001b[0m\u001b[0;34m=\u001b[0m\u001b[0;34m[\u001b[0m\u001b[0mes\u001b[0m\u001b[0;34m,\u001b[0m \u001b[0mrlr\u001b[0m\u001b[0;34m]\u001b[0m\u001b[0;34m\u001b[0m\u001b[0;34m\u001b[0m\u001b[0m\n\u001b[0m\u001b[1;32m     35\u001b[0m         )\n\u001b[1;32m     36\u001b[0m         \u001b[0;32mreturn\u001b[0m \u001b[0mself\u001b[0m\u001b[0;34m\u001b[0m\u001b[0;34m\u001b[0m\u001b[0m\n",
      "\u001b[0;32m~/anaconda3/lib/python3.6/site-packages/keras/engine/training.py\u001b[0m in \u001b[0;36mfit\u001b[0;34m(self, x, y, batch_size, epochs, verbose, callbacks, validation_split, validation_data, shuffle, class_weight, sample_weight, initial_epoch, steps_per_epoch, validation_steps, **kwargs)\u001b[0m\n\u001b[1;32m   1037\u001b[0m                                         \u001b[0minitial_epoch\u001b[0m\u001b[0;34m=\u001b[0m\u001b[0minitial_epoch\u001b[0m\u001b[0;34m,\u001b[0m\u001b[0;34m\u001b[0m\u001b[0;34m\u001b[0m\u001b[0m\n\u001b[1;32m   1038\u001b[0m                                         \u001b[0msteps_per_epoch\u001b[0m\u001b[0;34m=\u001b[0m\u001b[0msteps_per_epoch\u001b[0m\u001b[0;34m,\u001b[0m\u001b[0;34m\u001b[0m\u001b[0;34m\u001b[0m\u001b[0m\n\u001b[0;32m-> 1039\u001b[0;31m                                         validation_steps=validation_steps)\n\u001b[0m\u001b[1;32m   1040\u001b[0m \u001b[0;34m\u001b[0m\u001b[0m\n\u001b[1;32m   1041\u001b[0m     def evaluate(self, x=None, y=None,\n",
      "\u001b[0;32m~/anaconda3/lib/python3.6/site-packages/keras/engine/training_arrays.py\u001b[0m in \u001b[0;36mfit_loop\u001b[0;34m(model, f, ins, out_labels, batch_size, epochs, verbose, callbacks, val_f, val_ins, shuffle, callback_metrics, initial_epoch, steps_per_epoch, validation_steps)\u001b[0m\n\u001b[1;32m    210\u001b[0m                         val_outs = test_loop(model, val_f, val_ins,\n\u001b[1;32m    211\u001b[0m                                              \u001b[0mbatch_size\u001b[0m\u001b[0;34m=\u001b[0m\u001b[0mbatch_size\u001b[0m\u001b[0;34m,\u001b[0m\u001b[0;34m\u001b[0m\u001b[0;34m\u001b[0m\u001b[0m\n\u001b[0;32m--> 212\u001b[0;31m                                              verbose=0)\n\u001b[0m\u001b[1;32m    213\u001b[0m                         \u001b[0mval_outs\u001b[0m \u001b[0;34m=\u001b[0m \u001b[0mto_list\u001b[0m\u001b[0;34m(\u001b[0m\u001b[0mval_outs\u001b[0m\u001b[0;34m)\u001b[0m\u001b[0;34m\u001b[0m\u001b[0;34m\u001b[0m\u001b[0m\n\u001b[1;32m    214\u001b[0m                         \u001b[0;31m# Same labels assumed.\u001b[0m\u001b[0;34m\u001b[0m\u001b[0;34m\u001b[0m\u001b[0;34m\u001b[0m\u001b[0m\n",
      "\u001b[0;32m~/anaconda3/lib/python3.6/site-packages/keras/engine/training_arrays.py\u001b[0m in \u001b[0;36mtest_loop\u001b[0;34m(model, f, ins, batch_size, verbose, steps)\u001b[0m\n\u001b[1;32m    390\u001b[0m                 \u001b[0mins_batch\u001b[0m\u001b[0;34m[\u001b[0m\u001b[0mi\u001b[0m\u001b[0;34m]\u001b[0m \u001b[0;34m=\u001b[0m \u001b[0mins_batch\u001b[0m\u001b[0;34m[\u001b[0m\u001b[0mi\u001b[0m\u001b[0;34m]\u001b[0m\u001b[0;34m.\u001b[0m\u001b[0mtoarray\u001b[0m\u001b[0;34m(\u001b[0m\u001b[0;34m)\u001b[0m\u001b[0;34m\u001b[0m\u001b[0;34m\u001b[0m\u001b[0m\n\u001b[1;32m    391\u001b[0m \u001b[0;34m\u001b[0m\u001b[0m\n\u001b[0;32m--> 392\u001b[0;31m             \u001b[0mbatch_outs\u001b[0m \u001b[0;34m=\u001b[0m \u001b[0mf\u001b[0m\u001b[0;34m(\u001b[0m\u001b[0mins_batch\u001b[0m\u001b[0;34m)\u001b[0m\u001b[0;34m\u001b[0m\u001b[0;34m\u001b[0m\u001b[0m\n\u001b[0m\u001b[1;32m    393\u001b[0m             \u001b[0;32mif\u001b[0m \u001b[0misinstance\u001b[0m\u001b[0;34m(\u001b[0m\u001b[0mbatch_outs\u001b[0m\u001b[0;34m,\u001b[0m \u001b[0mlist\u001b[0m\u001b[0;34m)\u001b[0m\u001b[0;34m:\u001b[0m\u001b[0;34m\u001b[0m\u001b[0;34m\u001b[0m\u001b[0m\n\u001b[1;32m    394\u001b[0m                 \u001b[0;32mif\u001b[0m \u001b[0mbatch_index\u001b[0m \u001b[0;34m==\u001b[0m \u001b[0;36m0\u001b[0m\u001b[0;34m:\u001b[0m\u001b[0;34m\u001b[0m\u001b[0;34m\u001b[0m\u001b[0m\n",
      "\u001b[0;32m~/anaconda3/lib/python3.6/site-packages/keras/backend/tensorflow_backend.py\u001b[0m in \u001b[0;36m__call__\u001b[0;34m(self, inputs)\u001b[0m\n\u001b[1;32m   2719\u001b[0m                     \u001b[0;34m'In order to feed symbolic tensors to a Keras model '\u001b[0m\u001b[0;34m\u001b[0m\u001b[0;34m\u001b[0m\u001b[0m\n\u001b[1;32m   2720\u001b[0m                     'in TensorFlow, you need tensorflow 1.8 or higher.')\n\u001b[0;32m-> 2721\u001b[0;31m             \u001b[0;32mreturn\u001b[0m \u001b[0mself\u001b[0m\u001b[0;34m.\u001b[0m\u001b[0m_legacy_call\u001b[0m\u001b[0;34m(\u001b[0m\u001b[0minputs\u001b[0m\u001b[0;34m)\u001b[0m\u001b[0;34m\u001b[0m\u001b[0;34m\u001b[0m\u001b[0m\n\u001b[0m\u001b[1;32m   2722\u001b[0m \u001b[0;34m\u001b[0m\u001b[0m\n\u001b[1;32m   2723\u001b[0m \u001b[0;34m\u001b[0m\u001b[0m\n",
      "\u001b[0;32m~/anaconda3/lib/python3.6/site-packages/keras/backend/tensorflow_backend.py\u001b[0m in \u001b[0;36m_legacy_call\u001b[0;34m(self, inputs)\u001b[0m\n\u001b[1;32m   2691\u001b[0m         \u001b[0msession\u001b[0m \u001b[0;34m=\u001b[0m \u001b[0mget_session\u001b[0m\u001b[0;34m(\u001b[0m\u001b[0;34m)\u001b[0m\u001b[0;34m\u001b[0m\u001b[0;34m\u001b[0m\u001b[0m\n\u001b[1;32m   2692\u001b[0m         updated = session.run(fetches=fetches, feed_dict=feed_dict,\n\u001b[0;32m-> 2693\u001b[0;31m                               **self.session_kwargs)\n\u001b[0m\u001b[1;32m   2694\u001b[0m         \u001b[0;32mreturn\u001b[0m \u001b[0mupdated\u001b[0m\u001b[0;34m[\u001b[0m\u001b[0;34m:\u001b[0m\u001b[0mlen\u001b[0m\u001b[0;34m(\u001b[0m\u001b[0mself\u001b[0m\u001b[0;34m.\u001b[0m\u001b[0moutputs\u001b[0m\u001b[0;34m)\u001b[0m\u001b[0;34m]\u001b[0m\u001b[0;34m\u001b[0m\u001b[0;34m\u001b[0m\u001b[0m\n\u001b[1;32m   2695\u001b[0m \u001b[0;34m\u001b[0m\u001b[0m\n",
      "\u001b[0;32m~/anaconda3/lib/python3.6/site-packages/tensorflow/python/client/session.py\u001b[0m in \u001b[0;36mrun\u001b[0;34m(self, fetches, feed_dict, options, run_metadata)\u001b[0m\n\u001b[1;32m    893\u001b[0m     \u001b[0;32mtry\u001b[0m\u001b[0;34m:\u001b[0m\u001b[0;34m\u001b[0m\u001b[0;34m\u001b[0m\u001b[0m\n\u001b[1;32m    894\u001b[0m       result = self._run(None, fetches, feed_dict, options_ptr,\n\u001b[0;32m--> 895\u001b[0;31m                          run_metadata_ptr)\n\u001b[0m\u001b[1;32m    896\u001b[0m       \u001b[0;32mif\u001b[0m \u001b[0mrun_metadata\u001b[0m\u001b[0;34m:\u001b[0m\u001b[0;34m\u001b[0m\u001b[0;34m\u001b[0m\u001b[0m\n\u001b[1;32m    897\u001b[0m         \u001b[0mproto_data\u001b[0m \u001b[0;34m=\u001b[0m \u001b[0mtf_session\u001b[0m\u001b[0;34m.\u001b[0m\u001b[0mTF_GetBuffer\u001b[0m\u001b[0;34m(\u001b[0m\u001b[0mrun_metadata_ptr\u001b[0m\u001b[0;34m)\u001b[0m\u001b[0;34m\u001b[0m\u001b[0;34m\u001b[0m\u001b[0m\n",
      "\u001b[0;32m~/anaconda3/lib/python3.6/site-packages/tensorflow/python/client/session.py\u001b[0m in \u001b[0;36m_run\u001b[0;34m(self, handle, fetches, feed_dict, options, run_metadata)\u001b[0m\n\u001b[1;32m   1126\u001b[0m     \u001b[0;32mif\u001b[0m \u001b[0mfinal_fetches\u001b[0m \u001b[0;32mor\u001b[0m \u001b[0mfinal_targets\u001b[0m \u001b[0;32mor\u001b[0m \u001b[0;34m(\u001b[0m\u001b[0mhandle\u001b[0m \u001b[0;32mand\u001b[0m \u001b[0mfeed_dict_tensor\u001b[0m\u001b[0;34m)\u001b[0m\u001b[0;34m:\u001b[0m\u001b[0;34m\u001b[0m\u001b[0;34m\u001b[0m\u001b[0m\n\u001b[1;32m   1127\u001b[0m       results = self._do_run(handle, final_targets, final_fetches,\n\u001b[0;32m-> 1128\u001b[0;31m                              feed_dict_tensor, options, run_metadata)\n\u001b[0m\u001b[1;32m   1129\u001b[0m     \u001b[0;32melse\u001b[0m\u001b[0;34m:\u001b[0m\u001b[0;34m\u001b[0m\u001b[0;34m\u001b[0m\u001b[0m\n\u001b[1;32m   1130\u001b[0m       \u001b[0mresults\u001b[0m \u001b[0;34m=\u001b[0m \u001b[0;34m[\u001b[0m\u001b[0;34m]\u001b[0m\u001b[0;34m\u001b[0m\u001b[0;34m\u001b[0m\u001b[0m\n",
      "\u001b[0;32m~/anaconda3/lib/python3.6/site-packages/tensorflow/python/client/session.py\u001b[0m in \u001b[0;36m_do_run\u001b[0;34m(self, handle, target_list, fetch_list, feed_dict, options, run_metadata)\u001b[0m\n\u001b[1;32m   1342\u001b[0m     \u001b[0;32mif\u001b[0m \u001b[0mhandle\u001b[0m \u001b[0;32mis\u001b[0m \u001b[0;32mNone\u001b[0m\u001b[0;34m:\u001b[0m\u001b[0;34m\u001b[0m\u001b[0;34m\u001b[0m\u001b[0m\n\u001b[1;32m   1343\u001b[0m       return self._do_call(_run_fn, self._session, feeds, fetches, targets,\n\u001b[0;32m-> 1344\u001b[0;31m                            options, run_metadata)\n\u001b[0m\u001b[1;32m   1345\u001b[0m     \u001b[0;32melse\u001b[0m\u001b[0;34m:\u001b[0m\u001b[0;34m\u001b[0m\u001b[0;34m\u001b[0m\u001b[0m\n\u001b[1;32m   1346\u001b[0m       \u001b[0;32mreturn\u001b[0m \u001b[0mself\u001b[0m\u001b[0;34m.\u001b[0m\u001b[0m_do_call\u001b[0m\u001b[0;34m(\u001b[0m\u001b[0m_prun_fn\u001b[0m\u001b[0;34m,\u001b[0m \u001b[0mself\u001b[0m\u001b[0;34m.\u001b[0m\u001b[0m_session\u001b[0m\u001b[0;34m,\u001b[0m \u001b[0mhandle\u001b[0m\u001b[0;34m,\u001b[0m \u001b[0mfeeds\u001b[0m\u001b[0;34m,\u001b[0m \u001b[0mfetches\u001b[0m\u001b[0;34m)\u001b[0m\u001b[0;34m\u001b[0m\u001b[0;34m\u001b[0m\u001b[0m\n",
      "\u001b[0;32m~/anaconda3/lib/python3.6/site-packages/tensorflow/python/client/session.py\u001b[0m in \u001b[0;36m_do_call\u001b[0;34m(self, fn, *args)\u001b[0m\n\u001b[1;32m   1348\u001b[0m   \u001b[0;32mdef\u001b[0m \u001b[0m_do_call\u001b[0m\u001b[0;34m(\u001b[0m\u001b[0mself\u001b[0m\u001b[0;34m,\u001b[0m \u001b[0mfn\u001b[0m\u001b[0;34m,\u001b[0m \u001b[0;34m*\u001b[0m\u001b[0margs\u001b[0m\u001b[0;34m)\u001b[0m\u001b[0;34m:\u001b[0m\u001b[0;34m\u001b[0m\u001b[0;34m\u001b[0m\u001b[0m\n\u001b[1;32m   1349\u001b[0m     \u001b[0;32mtry\u001b[0m\u001b[0;34m:\u001b[0m\u001b[0;34m\u001b[0m\u001b[0;34m\u001b[0m\u001b[0m\n\u001b[0;32m-> 1350\u001b[0;31m       \u001b[0;32mreturn\u001b[0m \u001b[0mfn\u001b[0m\u001b[0;34m(\u001b[0m\u001b[0;34m*\u001b[0m\u001b[0margs\u001b[0m\u001b[0;34m)\u001b[0m\u001b[0;34m\u001b[0m\u001b[0;34m\u001b[0m\u001b[0m\n\u001b[0m\u001b[1;32m   1351\u001b[0m     \u001b[0;32mexcept\u001b[0m \u001b[0merrors\u001b[0m\u001b[0;34m.\u001b[0m\u001b[0mOpError\u001b[0m \u001b[0;32mas\u001b[0m \u001b[0me\u001b[0m\u001b[0;34m:\u001b[0m\u001b[0;34m\u001b[0m\u001b[0;34m\u001b[0m\u001b[0m\n\u001b[1;32m   1352\u001b[0m       \u001b[0mmessage\u001b[0m \u001b[0;34m=\u001b[0m \u001b[0mcompat\u001b[0m\u001b[0;34m.\u001b[0m\u001b[0mas_text\u001b[0m\u001b[0;34m(\u001b[0m\u001b[0me\u001b[0m\u001b[0;34m.\u001b[0m\u001b[0mmessage\u001b[0m\u001b[0;34m)\u001b[0m\u001b[0;34m\u001b[0m\u001b[0;34m\u001b[0m\u001b[0m\n",
      "\u001b[0;32m~/anaconda3/lib/python3.6/site-packages/tensorflow/python/client/session.py\u001b[0m in \u001b[0;36m_run_fn\u001b[0;34m(session, feed_dict, fetch_list, target_list, options, run_metadata)\u001b[0m\n\u001b[1;32m   1327\u001b[0m           return tf_session.TF_Run(session, options,\n\u001b[1;32m   1328\u001b[0m                                    \u001b[0mfeed_dict\u001b[0m\u001b[0;34m,\u001b[0m \u001b[0mfetch_list\u001b[0m\u001b[0;34m,\u001b[0m \u001b[0mtarget_list\u001b[0m\u001b[0;34m,\u001b[0m\u001b[0;34m\u001b[0m\u001b[0;34m\u001b[0m\u001b[0m\n\u001b[0;32m-> 1329\u001b[0;31m                                    status, run_metadata)\n\u001b[0m\u001b[1;32m   1330\u001b[0m \u001b[0;34m\u001b[0m\u001b[0m\n\u001b[1;32m   1331\u001b[0m     \u001b[0;32mdef\u001b[0m \u001b[0m_prun_fn\u001b[0m\u001b[0;34m(\u001b[0m\u001b[0msession\u001b[0m\u001b[0;34m,\u001b[0m \u001b[0mhandle\u001b[0m\u001b[0;34m,\u001b[0m \u001b[0mfeed_dict\u001b[0m\u001b[0;34m,\u001b[0m \u001b[0mfetch_list\u001b[0m\u001b[0;34m)\u001b[0m\u001b[0;34m:\u001b[0m\u001b[0;34m\u001b[0m\u001b[0;34m\u001b[0m\u001b[0m\n",
      "\u001b[0;31mKeyboardInterrupt\u001b[0m: "
     ]
    }
   ],
   "source": [
    "%%time\n",
    "train_meta, test_meta = meta_transform_mean(X_array, y,\n",
    "                                           X_test_array, zoo_models,\n",
    "                                           num_iterations=10)"
   ]
  },
  {
   "cell_type": "code",
   "execution_count": 110,
   "metadata": {
    "collapsed": true
   },
   "outputs": [],
   "source": [
    "# scaler = StandardScaler()\n",
    "ridge = Ridge(alpha=10., random_state=SEED)"
   ]
  },
  {
   "cell_type": "code",
   "execution_count": 111,
   "metadata": {},
   "outputs": [
    {
     "data": {
      "text/plain": [
       "618168.5825555118"
      ]
     },
     "execution_count": 111,
     "metadata": {},
     "output_type": "execute_result"
    }
   ],
   "source": [
    "y_pred, scores, _ = prediction_cluster_folds(train_meta, y, \n",
    "                                       test_meta,  \n",
    "                                       ridge,\n",
    "                                       n_clusters=4, \n",
    "                                       n_splits=7)\n",
    "np.mean(scores)"
   ]
  },
  {
   "cell_type": "code",
   "execution_count": null,
   "metadata": {
    "collapsed": true
   },
   "outputs": [],
   "source": [
    "ridge = Ridge(alpha=10., random_state=SEED)\n",
    "y_pred = ridge.fit(train_meta, y).predict(test_meta)"
   ]
  },
  {
   "cell_type": "code",
   "execution_count": 112,
   "metadata": {
    "collapsed": true
   },
   "outputs": [],
   "source": [
    "submission = pd.DataFrame(test_initial['Id'], columns=['Id'])\n",
    "submission[target] = y_pred\n",
    "submission.to_csv('../data/submissions/xgb_lgb_rnd_subs_nn_stacking.csv', index=False)"
   ]
  },
  {
   "cell_type": "code",
   "execution_count": 118,
   "metadata": {
    "collapsed": true
   },
   "outputs": [],
   "source": [
    "ridge = Ridge(alpha=10., random_state=SEED)\n",
    "y_pred = ridge.fit(train_meta, y).predict(test_meta)"
   ]
  },
  {
   "cell_type": "code",
   "execution_count": 119,
   "metadata": {
    "collapsed": true
   },
   "outputs": [],
   "source": [
    "submission = pd.DataFrame(test_initial['Id'], columns=['Id'])\n",
    "submission[target] = y_pred\n",
    "submission.to_csv('../data/submissions/xgb_lgb_rnd_subs_nn_stacking_fitall.csv', index=False)"
   ]
  },
  {
   "cell_type": "code",
   "execution_count": 114,
   "metadata": {
    "collapsed": true
   },
   "outputs": [],
   "source": [
    "train_meta_df = pd.DataFrame(train_meta, columns = ['xgb_30', 'lgb_30', 'lgb_40', 'lgb_50', 'nn_v1'])"
   ]
  },
  {
   "cell_type": "code",
   "execution_count": 115,
   "metadata": {
    "collapsed": true
   },
   "outputs": [],
   "source": [
    "test_meta_df = pd.DataFrame(test_meta, columns = ['xgb_30', 'lgb_30', 'lgb_40', 'lgb_50', 'nn_v1'])"
   ]
  },
  {
   "cell_type": "code",
   "execution_count": 117,
   "metadata": {},
   "outputs": [],
   "source": [
    "train_meta_df.to_csv('../data/train_meta_v1.csv', index=False)\n",
    "test_meta_df.to_csv('../data/test_meta_v1.csv', index=False)"
   ]
  }
 ],
 "metadata": {
  "kernelspec": {
   "display_name": "Python 3",
   "language": "python",
   "name": "python3"
  },
  "language_info": {
   "codemirror_mode": {
    "name": "ipython",
    "version": 3
   },
   "file_extension": ".py",
   "mimetype": "text/x-python",
   "name": "python",
   "nbconvert_exporter": "python",
   "pygments_lexer": "ipython3",
   "version": "3.6.8"
  }
 },
 "nbformat": 4,
 "nbformat_minor": 2
}
